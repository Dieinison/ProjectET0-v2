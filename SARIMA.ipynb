{
 "cells": [
  {
   "cell_type": "markdown",
   "metadata": {},
   "source": [
    "# ARIMA Forecasting to predict $ET_0$"
   ]
  },
  {
   "cell_type": "markdown",
   "metadata": {},
   "source": [
    "Libs required"
   ]
  },
  {
   "cell_type": "code",
   "execution_count": 1,
   "metadata": {},
   "outputs": [],
   "source": [
    "%matplotlib inline\n",
    "\n",
    "import pandas as pd\n",
    "import numpy as np\n",
    "import warnings\n",
    "from sklearn import metrics as mt\n",
    "from pyramid.arima import auto_arima\n",
    "\n",
    "from matplotlib import pyplot as plt\n",
    "import plotly\n",
    "import plotly.plotly as py\n",
    "import plotly.graph_objs as go\n",
    "\n",
    "warnings.filterwarnings(\"ignore\")"
   ]
  },
  {
   "cell_type": "code",
   "execution_count": 2,
   "metadata": {},
   "outputs": [],
   "source": [
    "et0_treino_ = pd.read_csv('./data/label_train_.csv') \n",
    "et0_test = pd.read_csv('./data/label_test.csv')"
   ]
  },
  {
   "cell_type": "code",
   "execution_count": 3,
   "metadata": {},
   "outputs": [],
   "source": [
    "et0_completed = pd.concat([et0_treino_, et0_test], axis=0)"
   ]
  },
  {
   "cell_type": "markdown",
   "metadata": {},
   "source": [
    "## Hyper-parameters optimization"
   ]
  },
  {
   "cell_type": "code",
   "execution_count": 4,
   "metadata": {
    "scrolled": true
   },
   "outputs": [
    {
     "name": "stdout",
     "output_type": "stream",
     "text": [
      "Fit ARIMA: order=(1, 1, 1) seasonal_order=(0, 1, 1, 12); AIC=4339.978, BIC=4365.172, Fit time=7.719 seconds\n",
      "Fit ARIMA: order=(0, 1, 0) seasonal_order=(0, 1, 0, 12); AIC=5342.046, BIC=5352.124, Fit time=0.075 seconds\n",
      "Fit ARIMA: order=(1, 1, 0) seasonal_order=(1, 1, 0, 12); AIC=4826.634, BIC=4846.789, Fit time=0.821 seconds\n",
      "Fit ARIMA: order=(0, 1, 1) seasonal_order=(0, 1, 1, 12); AIC=4401.206, BIC=4421.361, Fit time=1.942 seconds\n",
      "Fit ARIMA: order=(1, 1, 1) seasonal_order=(1, 1, 1, 12); AIC=4344.463, BIC=4374.696, Fit time=5.737 seconds\n",
      "Fit ARIMA: order=(1, 1, 1) seasonal_order=(0, 1, 0, 12); AIC=5022.425, BIC=5042.580, Fit time=1.783 seconds\n",
      "Fit ARIMA: order=(1, 1, 1) seasonal_order=(0, 1, 2, 12); AIC=4341.965, BIC=4372.198, Fit time=21.345 seconds\n",
      "Fit ARIMA: order=(1, 1, 1) seasonal_order=(1, 1, 2, 12); AIC=4343.498, BIC=4378.770, Fit time=8.305 seconds\n",
      "Fit ARIMA: order=(2, 1, 1) seasonal_order=(0, 1, 1, 12); AIC=nan, BIC=nan, Fit time=nan seconds\n",
      "Fit ARIMA: order=(1, 1, 0) seasonal_order=(0, 1, 1, 12); AIC=4486.932, BIC=4507.087, Fit time=1.762 seconds\n",
      "Fit ARIMA: order=(1, 1, 2) seasonal_order=(0, 1, 1, 12); AIC=4340.576, BIC=4370.808, Fit time=5.155 seconds\n",
      "Fit ARIMA: order=(0, 1, 0) seasonal_order=(0, 1, 1, 12); AIC=4614.551, BIC=4629.667, Fit time=1.298 seconds\n",
      "Fit ARIMA: order=(2, 1, 2) seasonal_order=(0, 1, 1, 12); AIC=4336.805, BIC=4372.076, Fit time=5.939 seconds\n",
      "Fit ARIMA: order=(2, 1, 2) seasonal_order=(1, 1, 1, 12); AIC=4339.047, BIC=4379.358, Fit time=7.850 seconds\n",
      "Fit ARIMA: order=(2, 1, 2) seasonal_order=(0, 1, 0, 12); AIC=4996.299, BIC=5026.531, Fit time=2.506 seconds\n",
      "Fit ARIMA: order=(2, 1, 2) seasonal_order=(0, 1, 2, 12); AIC=4340.530, BIC=4380.840, Fit time=17.750 seconds\n",
      "Fit ARIMA: order=(2, 1, 2) seasonal_order=(1, 1, 2, 12); AIC=4340.088, BIC=4385.437, Fit time=14.523 seconds\n",
      "Fit ARIMA: order=(3, 1, 2) seasonal_order=(0, 1, 1, 12); AIC=4338.651, BIC=4378.961, Fit time=8.592 seconds\n",
      "Fit ARIMA: order=(2, 1, 3) seasonal_order=(0, 1, 1, 12); AIC=4338.644, BIC=4378.955, Fit time=9.922 seconds\n",
      "Fit ARIMA: order=(3, 1, 3) seasonal_order=(0, 1, 1, 12); AIC=4340.666, BIC=4386.015, Fit time=11.481 seconds\n",
      "Total fit time: 134.527 seconds\n"
     ]
    }
   ],
   "source": [
    "sarima_model = auto_arima(et0_completed, start_p=1, start_q=1, max_p=5, max_q=5, m=12,\n",
    "                          start_P=0, seasonal=True, d=1, D=1, trace=True,\n",
    "                          error_action='ignore',  # don't want to know if an order does not work\n",
    "                          suppress_warnings=True,  # don't want convergence warnings\n",
    "                          stepwise=True)  # set to stepwise"
   ]
  },
  {
   "cell_type": "code",
   "execution_count": 5,
   "metadata": {
    "scrolled": true
   },
   "outputs": [
    {
     "data": {
      "text/html": [
       "<table class=\"simpletable\">\n",
       "<caption>Statespace Model Results</caption>\n",
       "<tr>\n",
       "  <th>Dep. Variable:</th>                  <td>y</td>               <th>  No. Observations:  </th>   <td>1153</td>   \n",
       "</tr>\n",
       "<tr>\n",
       "  <th>Model:</th>           <td>SARIMAX(2, 1, 2)x(0, 1, 1, 12)</td> <th>  Log Likelihood     </th> <td>-2161.402</td>\n",
       "</tr>\n",
       "<tr>\n",
       "  <th>Date:</th>                   <td>Sat, 01 Jun 2019</td>        <th>  AIC                </th> <td>4336.805</td> \n",
       "</tr>\n",
       "<tr>\n",
       "  <th>Time:</th>                       <td>16:27:45</td>            <th>  BIC                </th> <td>4372.076</td> \n",
       "</tr>\n",
       "<tr>\n",
       "  <th>Sample:</th>                         <td>0</td>               <th>  HQIC               </th> <td>4350.125</td> \n",
       "</tr>\n",
       "<tr>\n",
       "  <th></th>                             <td> - 1153</td>            <th>                     </th>     <td> </td>    \n",
       "</tr>\n",
       "<tr>\n",
       "  <th>Covariance Type:</th>               <td>opg</td>              <th>                     </th>     <td> </td>    \n",
       "</tr>\n",
       "</table>\n",
       "<table class=\"simpletable\">\n",
       "<tr>\n",
       "      <td></td>         <th>coef</th>     <th>std err</th>      <th>z</th>      <th>P>|z|</th>  <th>[0.025</th>    <th>0.975]</th>  \n",
       "</tr>\n",
       "<tr>\n",
       "  <th>intercept</th> <td>   -0.0003</td> <td>    0.000</td> <td>   -0.611</td> <td> 0.541</td> <td>   -0.001</td> <td>    0.001</td>\n",
       "</tr>\n",
       "<tr>\n",
       "  <th>ar.L1</th>     <td>   -0.3523</td> <td>    0.167</td> <td>   -2.106</td> <td> 0.035</td> <td>   -0.680</td> <td>   -0.024</td>\n",
       "</tr>\n",
       "<tr>\n",
       "  <th>ar.L2</th>     <td>    0.3417</td> <td>    0.058</td> <td>    5.894</td> <td> 0.000</td> <td>    0.228</td> <td>    0.455</td>\n",
       "</tr>\n",
       "<tr>\n",
       "  <th>ma.L1</th>     <td>   -0.1483</td> <td>    0.171</td> <td>   -0.869</td> <td> 0.385</td> <td>   -0.483</td> <td>    0.186</td>\n",
       "</tr>\n",
       "<tr>\n",
       "  <th>ma.L2</th>     <td>   -0.6402</td> <td>    0.143</td> <td>   -4.491</td> <td> 0.000</td> <td>   -0.920</td> <td>   -0.361</td>\n",
       "</tr>\n",
       "<tr>\n",
       "  <th>ma.S.L12</th>  <td>   -0.9767</td> <td>    0.014</td> <td>  -71.481</td> <td> 0.000</td> <td>   -1.004</td> <td>   -0.950</td>\n",
       "</tr>\n",
       "<tr>\n",
       "  <th>sigma2</th>    <td>    2.5113</td> <td>    0.095</td> <td>   26.362</td> <td> 0.000</td> <td>    2.325</td> <td>    2.698</td>\n",
       "</tr>\n",
       "</table>\n",
       "<table class=\"simpletable\">\n",
       "<tr>\n",
       "  <th>Ljung-Box (Q):</th>          <td>60.38</td> <th>  Jarque-Bera (JB):  </th> <td>18.34</td>\n",
       "</tr>\n",
       "<tr>\n",
       "  <th>Prob(Q):</th>                <td>0.02</td>  <th>  Prob(JB):          </th> <td>0.00</td> \n",
       "</tr>\n",
       "<tr>\n",
       "  <th>Heteroskedasticity (H):</th> <td>0.97</td>  <th>  Skew:              </th> <td>-0.18</td>\n",
       "</tr>\n",
       "<tr>\n",
       "  <th>Prob(H) (two-sided):</th>    <td>0.75</td>  <th>  Kurtosis:          </th> <td>3.50</td> \n",
       "</tr>\n",
       "</table><br/><br/>Warnings:<br/>[1] Covariance matrix calculated using the outer product of gradients (complex-step)."
      ],
      "text/plain": [
       "<class 'statsmodels.iolib.summary.Summary'>\n",
       "\"\"\"\n",
       "                                 Statespace Model Results                                 \n",
       "==========================================================================================\n",
       "Dep. Variable:                                  y   No. Observations:                 1153\n",
       "Model:             SARIMAX(2, 1, 2)x(0, 1, 1, 12)   Log Likelihood               -2161.402\n",
       "Date:                            Sat, 01 Jun 2019   AIC                           4336.805\n",
       "Time:                                    16:27:45   BIC                           4372.076\n",
       "Sample:                                         0   HQIC                          4350.125\n",
       "                                           - 1153                                         \n",
       "Covariance Type:                              opg                                         \n",
       "==============================================================================\n",
       "                 coef    std err          z      P>|z|      [0.025      0.975]\n",
       "------------------------------------------------------------------------------\n",
       "intercept     -0.0003      0.000     -0.611      0.541      -0.001       0.001\n",
       "ar.L1         -0.3523      0.167     -2.106      0.035      -0.680      -0.024\n",
       "ar.L2          0.3417      0.058      5.894      0.000       0.228       0.455\n",
       "ma.L1         -0.1483      0.171     -0.869      0.385      -0.483       0.186\n",
       "ma.L2         -0.6402      0.143     -4.491      0.000      -0.920      -0.361\n",
       "ma.S.L12      -0.9767      0.014    -71.481      0.000      -1.004      -0.950\n",
       "sigma2         2.5113      0.095     26.362      0.000       2.325       2.698\n",
       "===================================================================================\n",
       "Ljung-Box (Q):                       60.38   Jarque-Bera (JB):                18.34\n",
       "Prob(Q):                              0.02   Prob(JB):                         0.00\n",
       "Heteroskedasticity (H):               0.97   Skew:                            -0.18\n",
       "Prob(H) (two-sided):                  0.75   Kurtosis:                         3.50\n",
       "===================================================================================\n",
       "\n",
       "Warnings:\n",
       "[1] Covariance matrix calculated using the outer product of gradients (complex-step).\n",
       "\"\"\""
      ]
     },
     "execution_count": 5,
     "metadata": {},
     "output_type": "execute_result"
    }
   ],
   "source": [
    "sarima_model.summary()"
   ]
  },
  {
   "cell_type": "markdown",
   "metadata": {},
   "source": [
    "## Time Series Forecasting"
   ]
  },
  {
   "cell_type": "code",
   "execution_count": 6,
   "metadata": {
    "scrolled": true
   },
   "outputs": [
    {
     "data": {
      "text/plain": [
       "ARIMA(callback=None, disp=0, maxiter=50, method=None, order=(2, 1, 2),\n",
       "   out_of_sample_size=0, scoring='mse', scoring_args={},\n",
       "   seasonal_order=(0, 1, 1, 12), solver='lbfgs', start_params=None,\n",
       "   suppress_warnings=True, transparams=True, trend='c')"
      ]
     },
     "execution_count": 6,
     "metadata": {},
     "output_type": "execute_result"
    }
   ],
   "source": [
    "sarima_model.fit(et0_treino_)"
   ]
  },
  {
   "cell_type": "code",
   "execution_count": 7,
   "metadata": {},
   "outputs": [
    {
     "name": "stdout",
     "output_type": "stream",
     "text": [
      "RMSE = 4.270343321966753\n",
      "MAE  = 3.7076500114890467\n",
      "\n"
     ]
    }
   ],
   "source": [
    "et0_pred = sarima_model.predict(n_periods=len(et0_test))\n",
    "\n",
    "print('RMSE = {}\\nMAE  = {}\\n'.format(\n",
    "    np.sqrt(mt.mean_squared_error(et0_test, et0_pred)), \n",
    "    mt.mean_absolute_error(et0_test, et0_pred)))"
   ]
  },
  {
   "cell_type": "code",
   "execution_count": null,
   "metadata": {},
   "outputs": [],
   "source": []
  }
 ],
 "metadata": {
  "kernelspec": {
   "display_name": "Python 3",
   "language": "python",
   "name": "python3"
  },
  "language_info": {
   "codemirror_mode": {
    "name": "ipython",
    "version": 3
   },
   "file_extension": ".py",
   "mimetype": "text/x-python",
   "name": "python",
   "nbconvert_exporter": "python",
   "pygments_lexer": "ipython3",
   "version": "3.6.8"
  },
  "toc": {
   "base_numbering": 1,
   "nav_menu": {},
   "number_sections": true,
   "sideBar": true,
   "skip_h1_title": false,
   "title_cell": "Table of Contents",
   "title_sidebar": "Contents",
   "toc_cell": false,
   "toc_position": {},
   "toc_section_display": true,
   "toc_window_display": false
  }
 },
 "nbformat": 4,
 "nbformat_minor": 2
}
