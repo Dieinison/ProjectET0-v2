{
 "cells": [
  {
   "cell_type": "markdown",
   "metadata": {},
   "source": [
    "# ARIMA Forecasting to predict $ET_0$"
   ]
  },
  {
   "cell_type": "markdown",
   "metadata": {},
   "source": [
    "Libs required"
   ]
  },
  {
   "cell_type": "code",
   "execution_count": 1,
   "metadata": {},
   "outputs": [],
   "source": [
    "%matplotlib inline\n",
    "\n",
    "import pandas as pd\n",
    "import numpy as np\n",
    "import warnings\n",
    "from sklearn import metrics as mt\n",
    "from pyramid.arima import auto_arima\n",
    "\n",
    "from matplotlib import pyplot as plt\n",
    "import plotly\n",
    "import plotly.plotly as py\n",
    "import plotly.graph_objs as go\n",
    "\n",
    "warnings.filterwarnings(\"ignore\")\n",
    "\n",
    "plotly.tools.set_credentials_file(username='Dieinison', api_key='3rLjaomkz95dUHsgfAi6')"
   ]
  },
  {
   "cell_type": "code",
   "execution_count": 2,
   "metadata": {},
   "outputs": [],
   "source": [
    "et0_treino_ = pd.read_pickle('./dataset/completed_split/label_train_.pkl') \n",
    "et0_test = pd.read_pickle('./dataset/completed_split/label_test.pkl')\n",
    "et0_completed = pd.read_pickle('./dataset/label.pkl')"
   ]
  },
  {
   "cell_type": "markdown",
   "metadata": {},
   "source": [
    "## Hyper-parameters optimization"
   ]
  },
  {
   "cell_type": "code",
   "execution_count": 4,
   "metadata": {
    "scrolled": true
   },
   "outputs": [
    {
     "name": "stdout",
     "output_type": "stream",
     "text": [
      "Fit ARIMA: order=(1, 1, 1) seasonal_order=(0, 1, 1, 12); AIC=4339.978, BIC=4365.172, Fit time=5.620 seconds\n",
      "Fit ARIMA: order=(0, 1, 0) seasonal_order=(0, 1, 0, 12); AIC=5342.046, BIC=5352.124, Fit time=0.234 seconds\n",
      "Fit ARIMA: order=(1, 1, 0) seasonal_order=(1, 1, 0, 12); AIC=4826.634, BIC=4846.789, Fit time=1.266 seconds\n",
      "Fit ARIMA: order=(0, 1, 1) seasonal_order=(0, 1, 1, 12); AIC=4401.206, BIC=4421.361, Fit time=2.118 seconds\n",
      "Fit ARIMA: order=(1, 1, 1) seasonal_order=(1, 1, 1, 12); AIC=4345.737, BIC=4375.970, Fit time=6.594 seconds\n",
      "Fit ARIMA: order=(1, 1, 1) seasonal_order=(0, 1, 0, 12); AIC=5022.425, BIC=5042.580, Fit time=1.958 seconds\n",
      "Fit ARIMA: order=(1, 1, 1) seasonal_order=(0, 1, 2, 12); AIC=4341.965, BIC=4372.198, Fit time=14.012 seconds\n",
      "Fit ARIMA: order=(1, 1, 1) seasonal_order=(1, 1, 2, 12); AIC=4343.498, BIC=4378.770, Fit time=8.170 seconds\n",
      "Fit ARIMA: order=(2, 1, 1) seasonal_order=(0, 1, 1, 12); AIC=nan, BIC=nan, Fit time=nan seconds\n",
      "Fit ARIMA: order=(1, 1, 0) seasonal_order=(0, 1, 1, 12); AIC=4486.932, BIC=4507.087, Fit time=1.753 seconds\n",
      "Fit ARIMA: order=(1, 1, 2) seasonal_order=(0, 1, 1, 12); AIC=4340.577, BIC=4370.809, Fit time=5.855 seconds\n",
      "Fit ARIMA: order=(0, 1, 0) seasonal_order=(0, 1, 1, 12); AIC=4614.551, BIC=4629.667, Fit time=1.399 seconds\n",
      "Fit ARIMA: order=(2, 1, 2) seasonal_order=(0, 1, 1, 12); AIC=4336.775, BIC=4372.047, Fit time=7.382 seconds\n",
      "Fit ARIMA: order=(2, 1, 2) seasonal_order=(1, 1, 1, 12); AIC=4338.880, BIC=4379.190, Fit time=8.003 seconds\n",
      "Fit ARIMA: order=(2, 1, 2) seasonal_order=(0, 1, 0, 12); AIC=4996.343, BIC=5026.576, Fit time=3.746 seconds\n",
      "Fit ARIMA: order=(2, 1, 2) seasonal_order=(0, 1, 2, 12); AIC=4338.768, BIC=4379.078, Fit time=19.740 seconds\n",
      "Fit ARIMA: order=(2, 1, 2) seasonal_order=(1, 1, 2, 12); AIC=4340.053, BIC=4385.402, Fit time=23.775 seconds\n",
      "Fit ARIMA: order=(3, 1, 2) seasonal_order=(0, 1, 1, 12); AIC=4338.699, BIC=4379.010, Fit time=8.362 seconds\n",
      "Fit ARIMA: order=(2, 1, 3) seasonal_order=(0, 1, 1, 12); AIC=4338.647, BIC=4378.957, Fit time=8.933 seconds\n",
      "Fit ARIMA: order=(3, 1, 3) seasonal_order=(0, 1, 1, 12); AIC=4340.658, BIC=4386.007, Fit time=10.438 seconds\n",
      "Total fit time: 139.368 seconds\n"
     ]
    }
   ],
   "source": [
    "sarima_model = auto_arima(et0_completed, start_p=1, start_q=1, max_p=5, max_q=5, m=12,\n",
    "                          start_P=0, seasonal=True, d=1, D=1, trace=True,\n",
    "                          error_action='ignore',  # don't want to know if an order does not work\n",
    "                          suppress_warnings=True,  # don't want convergence warnings\n",
    "                          stepwise=True)  # set to stepwise"
   ]
  },
  {
   "cell_type": "code",
   "execution_count": 5,
   "metadata": {
    "scrolled": true
   },
   "outputs": [
    {
     "data": {
      "text/html": [
       "<table class=\"simpletable\">\n",
       "<caption>Statespace Model Results</caption>\n",
       "<tr>\n",
       "  <th>Dep. Variable:</th>                  <td>y</td>               <th>  No. Observations:  </th>   <td>1153</td>   \n",
       "</tr>\n",
       "<tr>\n",
       "  <th>Model:</th>           <td>SARIMAX(2, 1, 2)x(0, 1, 1, 12)</td> <th>  Log Likelihood     </th> <td>-2161.388</td>\n",
       "</tr>\n",
       "<tr>\n",
       "  <th>Date:</th>                   <td>Wed, 27 Feb 2019</td>        <th>  AIC                </th> <td>4336.775</td> \n",
       "</tr>\n",
       "<tr>\n",
       "  <th>Time:</th>                       <td>22:26:37</td>            <th>  BIC                </th> <td>4372.047</td> \n",
       "</tr>\n",
       "<tr>\n",
       "  <th>Sample:</th>                         <td>0</td>               <th>  HQIC               </th> <td>4350.095</td> \n",
       "</tr>\n",
       "<tr>\n",
       "  <th></th>                             <td> - 1153</td>            <th>                     </th>     <td> </td>    \n",
       "</tr>\n",
       "<tr>\n",
       "  <th>Covariance Type:</th>               <td>opg</td>              <th>                     </th>     <td> </td>    \n",
       "</tr>\n",
       "</table>\n",
       "<table class=\"simpletable\">\n",
       "<tr>\n",
       "      <td></td>         <th>coef</th>     <th>std err</th>      <th>z</th>      <th>P>|z|</th>  <th>[0.025</th>    <th>0.975]</th>  \n",
       "</tr>\n",
       "<tr>\n",
       "  <th>intercept</th> <td>   -0.0003</td> <td>    0.000</td> <td>   -0.657</td> <td> 0.511</td> <td>   -0.001</td> <td>    0.001</td>\n",
       "</tr>\n",
       "<tr>\n",
       "  <th>ar.L1</th>     <td>   -0.3613</td> <td>    0.161</td> <td>   -2.247</td> <td> 0.025</td> <td>   -0.676</td> <td>   -0.046</td>\n",
       "</tr>\n",
       "<tr>\n",
       "  <th>ar.L2</th>     <td>    0.3467</td> <td>    0.056</td> <td>    6.169</td> <td> 0.000</td> <td>    0.237</td> <td>    0.457</td>\n",
       "</tr>\n",
       "<tr>\n",
       "  <th>ma.L1</th>     <td>   -0.1362</td> <td>    0.164</td> <td>   -0.831</td> <td> 0.406</td> <td>   -0.458</td> <td>    0.185</td>\n",
       "</tr>\n",
       "<tr>\n",
       "  <th>ma.L2</th>     <td>   -0.6491</td> <td>    0.136</td> <td>   -4.756</td> <td> 0.000</td> <td>   -0.917</td> <td>   -0.382</td>\n",
       "</tr>\n",
       "<tr>\n",
       "  <th>ma.S.L12</th>  <td>   -0.9769</td> <td>    0.014</td> <td>  -71.271</td> <td> 0.000</td> <td>   -1.004</td> <td>   -0.950</td>\n",
       "</tr>\n",
       "<tr>\n",
       "  <th>sigma2</th>    <td>    2.5159</td> <td>    0.096</td> <td>   26.320</td> <td> 0.000</td> <td>    2.329</td> <td>    2.703</td>\n",
       "</tr>\n",
       "</table>\n",
       "<table class=\"simpletable\">\n",
       "<tr>\n",
       "  <th>Ljung-Box (Q):</th>          <td>60.44</td> <th>  Jarque-Bera (JB):  </th> <td>18.29</td>\n",
       "</tr>\n",
       "<tr>\n",
       "  <th>Prob(Q):</th>                <td>0.02</td>  <th>  Prob(JB):          </th> <td>0.00</td> \n",
       "</tr>\n",
       "<tr>\n",
       "  <th>Heteroskedasticity (H):</th> <td>0.97</td>  <th>  Skew:              </th> <td>-0.18</td>\n",
       "</tr>\n",
       "<tr>\n",
       "  <th>Prob(H) (two-sided):</th>    <td>0.74</td>  <th>  Kurtosis:          </th> <td>3.50</td> \n",
       "</tr>\n",
       "</table><br/><br/>Warnings:<br/>[1] Covariance matrix calculated using the outer product of gradients (complex-step)."
      ],
      "text/plain": [
       "<class 'statsmodels.iolib.summary.Summary'>\n",
       "\"\"\"\n",
       "                                 Statespace Model Results                                 \n",
       "==========================================================================================\n",
       "Dep. Variable:                                  y   No. Observations:                 1153\n",
       "Model:             SARIMAX(2, 1, 2)x(0, 1, 1, 12)   Log Likelihood               -2161.388\n",
       "Date:                            Wed, 27 Feb 2019   AIC                           4336.775\n",
       "Time:                                    22:26:37   BIC                           4372.047\n",
       "Sample:                                         0   HQIC                          4350.095\n",
       "                                           - 1153                                         \n",
       "Covariance Type:                              opg                                         \n",
       "==============================================================================\n",
       "                 coef    std err          z      P>|z|      [0.025      0.975]\n",
       "------------------------------------------------------------------------------\n",
       "intercept     -0.0003      0.000     -0.657      0.511      -0.001       0.001\n",
       "ar.L1         -0.3613      0.161     -2.247      0.025      -0.676      -0.046\n",
       "ar.L2          0.3467      0.056      6.169      0.000       0.237       0.457\n",
       "ma.L1         -0.1362      0.164     -0.831      0.406      -0.458       0.185\n",
       "ma.L2         -0.6491      0.136     -4.756      0.000      -0.917      -0.382\n",
       "ma.S.L12      -0.9769      0.014    -71.271      0.000      -1.004      -0.950\n",
       "sigma2         2.5159      0.096     26.320      0.000       2.329       2.703\n",
       "===================================================================================\n",
       "Ljung-Box (Q):                       60.44   Jarque-Bera (JB):                18.29\n",
       "Prob(Q):                              0.02   Prob(JB):                         0.00\n",
       "Heteroskedasticity (H):               0.97   Skew:                            -0.18\n",
       "Prob(H) (two-sided):                  0.74   Kurtosis:                         3.50\n",
       "===================================================================================\n",
       "\n",
       "Warnings:\n",
       "[1] Covariance matrix calculated using the outer product of gradients (complex-step).\n",
       "\"\"\""
      ]
     },
     "execution_count": 5,
     "metadata": {},
     "output_type": "execute_result"
    }
   ],
   "source": [
    "sarima_model.summary()"
   ]
  },
  {
   "cell_type": "markdown",
   "metadata": {},
   "source": [
    "## Time Series Forecasting"
   ]
  },
  {
   "cell_type": "code",
   "execution_count": 6,
   "metadata": {
    "scrolled": true
   },
   "outputs": [
    {
     "data": {
      "text/plain": [
       "ARIMA(callback=None, disp=0, maxiter=50, method=None, order=(2, 1, 2),\n",
       "   out_of_sample_size=0, scoring='mse', scoring_args={},\n",
       "   seasonal_order=(0, 1, 1, 12), solver='lbfgs', start_params=None,\n",
       "   suppress_warnings=True, transparams=True, trend='c')"
      ]
     },
     "execution_count": 6,
     "metadata": {},
     "output_type": "execute_result"
    }
   ],
   "source": [
    "sarima_model.fit(et0_treino_)"
   ]
  },
  {
   "cell_type": "code",
   "execution_count": 7,
   "metadata": {},
   "outputs": [
    {
     "name": "stdout",
     "output_type": "stream",
     "text": [
      "RMSE = 3.5929050065633175\n",
      "MAE  = 3.022643831164893\n",
      "\n"
     ]
    }
   ],
   "source": [
    "et0_pred = sarima_model.predict(n_periods=len(et0_test))\n",
    "\n",
    "print('RMSE = {}\\nMAE  = {}\\n'.format(\n",
    "    np.sqrt(mt.mean_squared_error(et0_test, et0_pred)), \n",
    "    mt.mean_absolute_error(et0_test, et0_pred)))"
   ]
  },
  {
   "cell_type": "code",
   "execution_count": 8,
   "metadata": {},
   "outputs": [
    {
     "data": {
      "text/html": [
       "<div>\n",
       "<style scoped>\n",
       "    .dataframe tbody tr th:only-of-type {\n",
       "        vertical-align: middle;\n",
       "    }\n",
       "\n",
       "    .dataframe tbody tr th {\n",
       "        vertical-align: top;\n",
       "    }\n",
       "\n",
       "    .dataframe thead th {\n",
       "        text-align: right;\n",
       "    }\n",
       "</style>\n",
       "<table border=\"1\" class=\"dataframe\">\n",
       "  <thead>\n",
       "    <tr style=\"text-align: right;\">\n",
       "      <th></th>\n",
       "      <th>ETo</th>\n",
       "    </tr>\n",
       "  </thead>\n",
       "  <tbody>\n",
       "    <tr>\n",
       "      <th>count</th>\n",
       "      <td>1153.000000</td>\n",
       "    </tr>\n",
       "    <tr>\n",
       "      <th>mean</th>\n",
       "      <td>6.871174</td>\n",
       "    </tr>\n",
       "    <tr>\n",
       "      <th>std</th>\n",
       "      <td>2.565511</td>\n",
       "    </tr>\n",
       "    <tr>\n",
       "      <th>min</th>\n",
       "      <td>0.852370</td>\n",
       "    </tr>\n",
       "    <tr>\n",
       "      <th>25%</th>\n",
       "      <td>5.173478</td>\n",
       "    </tr>\n",
       "    <tr>\n",
       "      <th>50%</th>\n",
       "      <td>6.859215</td>\n",
       "    </tr>\n",
       "    <tr>\n",
       "      <th>75%</th>\n",
       "      <td>8.620300</td>\n",
       "    </tr>\n",
       "    <tr>\n",
       "      <th>max</th>\n",
       "      <td>13.723929</td>\n",
       "    </tr>\n",
       "  </tbody>\n",
       "</table>\n",
       "</div>"
      ],
      "text/plain": [
       "               ETo\n",
       "count  1153.000000\n",
       "mean      6.871174\n",
       "std       2.565511\n",
       "min       0.852370\n",
       "25%       5.173478\n",
       "50%       6.859215\n",
       "75%       8.620300\n",
       "max      13.723929"
      ]
     },
     "execution_count": 8,
     "metadata": {},
     "output_type": "execute_result"
    }
   ],
   "source": [
    "et0_completed.describe()"
   ]
  },
  {
   "cell_type": "code",
   "execution_count": 9,
   "metadata": {},
   "outputs": [
    {
     "data": {
      "text/html": [
       "<iframe id=\"igraph\" scrolling=\"no\" style=\"border:none;\" seamless=\"seamless\" src=\"https://plot.ly/~Dieinison/10.embed\" height=\"525px\" width=\"100%\"></iframe>"
      ],
      "text/plain": [
       "<plotly.tools.PlotlyDisplay object>"
      ]
     },
     "execution_count": 9,
     "metadata": {},
     "output_type": "execute_result"
    }
   ],
   "source": [
    "trace0 = go.Scatter(\n",
    "    x = et0_test.index,\n",
    "    y = et0_test.ETo.values,\n",
    "    mode = 'lines',\n",
    "    name = 'ET0'\n",
    ")\n",
    "\n",
    "trace1 = go.Scatter(\n",
    "    x = et0_test.index,\n",
    "    y = et0_pred,\n",
    "    mode = 'lines',\n",
    "    name = 'Predicted'\n",
    ")\n",
    "\n",
    "data = [trace0, trace1]\n",
    "\n",
    "fig = go.Figure(data=data)\n",
    "py.iplot(fig, filename='SARIMA Forecasting - Time Series completed')"
   ]
  },
  {
   "cell_type": "markdown",
   "metadata": {},
   "source": [
    "## Estação Chuvosa"
   ]
  },
  {
   "cell_type": "code",
   "execution_count": 10,
   "metadata": {},
   "outputs": [],
   "source": [
    "et0_rain_treino_ = pd.read_pickle('./dataset/rain_split/label_chuva_train_.pkl') \n",
    "et0_rain_test = pd.read_pickle('./dataset/rain_split/label_chuva_test.pkl')\n",
    "et0_rain_completed = pd.read_pickle('./dataset/label_estacao_chuvosa.pkl')"
   ]
  },
  {
   "cell_type": "code",
   "execution_count": 11,
   "metadata": {},
   "outputs": [
    {
     "name": "stdout",
     "output_type": "stream",
     "text": [
      "Fit ARIMA: order=(1, 1, 1) seasonal_order=(0, 1, 1, 12); AIC=1480.174, BIC=1499.795, Fit time=1.887 seconds\n",
      "Fit ARIMA: order=(0, 1, 0) seasonal_order=(0, 1, 0, 12); AIC=1755.252, BIC=1763.100, Fit time=0.060 seconds\n",
      "Fit ARIMA: order=(1, 1, 0) seasonal_order=(1, 1, 0, 12); AIC=1639.855, BIC=1655.552, Fit time=0.388 seconds\n",
      "Fit ARIMA: order=(0, 1, 1) seasonal_order=(0, 1, 1, 12); AIC=1501.875, BIC=1517.572, Fit time=1.074 seconds\n",
      "Fit ARIMA: order=(1, 1, 1) seasonal_order=(1, 1, 1, 12); AIC=1481.365, BIC=1504.910, Fit time=2.069 seconds\n",
      "Fit ARIMA: order=(1, 1, 1) seasonal_order=(0, 1, 0, 12); AIC=1672.859, BIC=1688.556, Fit time=0.871 seconds\n",
      "Fit ARIMA: order=(1, 1, 1) seasonal_order=(0, 1, 2, 12); AIC=1481.251, BIC=1504.797, Fit time=6.078 seconds\n",
      "Fit ARIMA: order=(1, 1, 1) seasonal_order=(1, 1, 2, 12); AIC=1484.488, BIC=1511.958, Fit time=8.831 seconds\n",
      "Fit ARIMA: order=(2, 1, 1) seasonal_order=(0, 1, 1, 12); AIC=nan, BIC=nan, Fit time=nan seconds\n",
      "Fit ARIMA: order=(1, 1, 0) seasonal_order=(0, 1, 1, 12); AIC=1520.773, BIC=1536.470, Fit time=1.093 seconds\n",
      "Fit ARIMA: order=(1, 1, 2) seasonal_order=(0, 1, 1, 12); AIC=1481.855, BIC=1505.400, Fit time=1.928 seconds\n",
      "Fit ARIMA: order=(0, 1, 0) seasonal_order=(0, 1, 1, 12); AIC=1548.613, BIC=1560.386, Fit time=2.238 seconds\n",
      "Fit ARIMA: order=(2, 1, 2) seasonal_order=(0, 1, 1, 12); AIC=1480.147, BIC=1507.617, Fit time=5.100 seconds\n",
      "Fit ARIMA: order=(2, 1, 2) seasonal_order=(1, 1, 1, 12); AIC=1481.428, BIC=1512.822, Fit time=3.983 seconds\n",
      "Fit ARIMA: order=(2, 1, 2) seasonal_order=(0, 1, 0, 12); AIC=1669.340, BIC=1692.885, Fit time=2.502 seconds\n",
      "Fit ARIMA: order=(2, 1, 2) seasonal_order=(0, 1, 2, 12); AIC=1481.489, BIC=1512.883, Fit time=10.626 seconds\n",
      "Fit ARIMA: order=(2, 1, 2) seasonal_order=(1, 1, 2, 12); AIC=1483.051, BIC=1518.369, Fit time=6.753 seconds\n",
      "Fit ARIMA: order=(3, 1, 2) seasonal_order=(0, 1, 1, 12); AIC=1481.543, BIC=1512.937, Fit time=2.752 seconds\n",
      "Fit ARIMA: order=(2, 1, 3) seasonal_order=(0, 1, 1, 12); AIC=1480.962, BIC=1512.356, Fit time=3.439 seconds\n",
      "Fit ARIMA: order=(3, 1, 3) seasonal_order=(0, 1, 1, 12); AIC=1475.177, BIC=1510.495, Fit time=3.793 seconds\n",
      "Fit ARIMA: order=(3, 1, 3) seasonal_order=(1, 1, 1, 12); AIC=1479.888, BIC=1519.131, Fit time=4.345 seconds\n",
      "Fit ARIMA: order=(3, 1, 3) seasonal_order=(0, 1, 0, 12); AIC=1642.136, BIC=1673.530, Fit time=2.210 seconds\n",
      "Fit ARIMA: order=(3, 1, 3) seasonal_order=(0, 1, 2, 12); AIC=1476.012, BIC=1515.255, Fit time=9.739 seconds\n",
      "Fit ARIMA: order=(3, 1, 3) seasonal_order=(1, 1, 2, 12); AIC=1479.636, BIC=1522.802, Fit time=9.503 seconds\n",
      "Fit ARIMA: order=(4, 1, 3) seasonal_order=(0, 1, 1, 12); AIC=nan, BIC=nan, Fit time=nan seconds\n",
      "Fit ARIMA: order=(3, 1, 4) seasonal_order=(0, 1, 1, 12); AIC=1481.533, BIC=1520.776, Fit time=12.785 seconds\n",
      "Fit ARIMA: order=(4, 1, 4) seasonal_order=(0, 1, 1, 12); AIC=nan, BIC=nan, Fit time=nan seconds\n",
      "Total fit time: 104.153 seconds\n"
     ]
    }
   ],
   "source": [
    "Sarima_model = auto_arima(et0_rain_completed, start_p=1, start_q=1, max_p=5, max_q=5, m=12,\n",
    "                          start_P=0, seasonal=True, d=1, D=1, trace=True,\n",
    "                          error_action='ignore',  # don't want to know if an order does not work\n",
    "                          suppress_warnings=True,  # don't want convergence warnings\n",
    "                          stepwise=True)  # set to stepwise"
   ]
  },
  {
   "cell_type": "code",
   "execution_count": 12,
   "metadata": {},
   "outputs": [
    {
     "data": {
      "text/html": [
       "<table class=\"simpletable\">\n",
       "<caption>Statespace Model Results</caption>\n",
       "<tr>\n",
       "  <th>Dep. Variable:</th>                  <td>y</td>               <th>  No. Observations:  </th>    <td>387</td>  \n",
       "</tr>\n",
       "<tr>\n",
       "  <th>Model:</th>           <td>SARIMAX(3, 1, 3)x(0, 1, 1, 12)</td> <th>  Log Likelihood     </th> <td>-728.588</td>\n",
       "</tr>\n",
       "<tr>\n",
       "  <th>Date:</th>                   <td>Wed, 27 Feb 2019</td>        <th>  AIC                </th> <td>1475.177</td>\n",
       "</tr>\n",
       "<tr>\n",
       "  <th>Time:</th>                       <td>22:29:58</td>            <th>  BIC                </th> <td>1510.495</td>\n",
       "</tr>\n",
       "<tr>\n",
       "  <th>Sample:</th>                         <td>0</td>               <th>  HQIC               </th> <td>1489.200</td>\n",
       "</tr>\n",
       "<tr>\n",
       "  <th></th>                             <td> - 387</td>             <th>                     </th>     <td> </td>   \n",
       "</tr>\n",
       "<tr>\n",
       "  <th>Covariance Type:</th>               <td>opg</td>              <th>                     </th>     <td> </td>   \n",
       "</tr>\n",
       "</table>\n",
       "<table class=\"simpletable\">\n",
       "<tr>\n",
       "      <td></td>         <th>coef</th>     <th>std err</th>      <th>z</th>      <th>P>|z|</th>  <th>[0.025</th>    <th>0.975]</th>  \n",
       "</tr>\n",
       "<tr>\n",
       "  <th>intercept</th> <td>   -0.0030</td> <td>    0.004</td> <td>   -0.854</td> <td> 0.393</td> <td>   -0.010</td> <td>    0.004</td>\n",
       "</tr>\n",
       "<tr>\n",
       "  <th>ar.L1</th>     <td>   -1.3457</td> <td>    0.071</td> <td>  -18.898</td> <td> 0.000</td> <td>   -1.485</td> <td>   -1.206</td>\n",
       "</tr>\n",
       "<tr>\n",
       "  <th>ar.L2</th>     <td>    0.1461</td> <td>    0.120</td> <td>    1.215</td> <td> 0.224</td> <td>   -0.090</td> <td>    0.382</td>\n",
       "</tr>\n",
       "<tr>\n",
       "  <th>ar.L3</th>     <td>    0.5419</td> <td>    0.066</td> <td>    8.215</td> <td> 0.000</td> <td>    0.413</td> <td>    0.671</td>\n",
       "</tr>\n",
       "<tr>\n",
       "  <th>ma.L1</th>     <td>    0.9796</td> <td>    0.056</td> <td>   17.498</td> <td> 0.000</td> <td>    0.870</td> <td>    1.089</td>\n",
       "</tr>\n",
       "<tr>\n",
       "  <th>ma.L2</th>     <td>   -0.8099</td> <td>    0.067</td> <td>  -12.056</td> <td> 0.000</td> <td>   -0.942</td> <td>   -0.678</td>\n",
       "</tr>\n",
       "<tr>\n",
       "  <th>ma.L3</th>     <td>   -0.8701</td> <td>    0.053</td> <td>  -16.528</td> <td> 0.000</td> <td>   -0.973</td> <td>   -0.767</td>\n",
       "</tr>\n",
       "<tr>\n",
       "  <th>ma.S.L12</th>  <td>   -0.9998</td> <td>   10.272</td> <td>   -0.097</td> <td> 0.922</td> <td>  -21.133</td> <td>   19.133</td>\n",
       "</tr>\n",
       "<tr>\n",
       "  <th>sigma2</th>    <td>    2.5962</td> <td>   26.580</td> <td>    0.098</td> <td> 0.922</td> <td>  -49.500</td> <td>   54.692</td>\n",
       "</tr>\n",
       "</table>\n",
       "<table class=\"simpletable\">\n",
       "<tr>\n",
       "  <th>Ljung-Box (Q):</th>          <td>32.44</td> <th>  Jarque-Bera (JB):  </th> <td>1.07</td> \n",
       "</tr>\n",
       "<tr>\n",
       "  <th>Prob(Q):</th>                <td>0.80</td>  <th>  Prob(JB):          </th> <td>0.58</td> \n",
       "</tr>\n",
       "<tr>\n",
       "  <th>Heteroskedasticity (H):</th> <td>0.72</td>  <th>  Skew:              </th> <td>-0.13</td>\n",
       "</tr>\n",
       "<tr>\n",
       "  <th>Prob(H) (two-sided):</th>    <td>0.07</td>  <th>  Kurtosis:          </th> <td>3.04</td> \n",
       "</tr>\n",
       "</table><br/><br/>Warnings:<br/>[1] Covariance matrix calculated using the outer product of gradients (complex-step)."
      ],
      "text/plain": [
       "<class 'statsmodels.iolib.summary.Summary'>\n",
       "\"\"\"\n",
       "                                 Statespace Model Results                                 \n",
       "==========================================================================================\n",
       "Dep. Variable:                                  y   No. Observations:                  387\n",
       "Model:             SARIMAX(3, 1, 3)x(0, 1, 1, 12)   Log Likelihood                -728.588\n",
       "Date:                            Wed, 27 Feb 2019   AIC                           1475.177\n",
       "Time:                                    22:29:58   BIC                           1510.495\n",
       "Sample:                                         0   HQIC                          1489.200\n",
       "                                            - 387                                         \n",
       "Covariance Type:                              opg                                         \n",
       "==============================================================================\n",
       "                 coef    std err          z      P>|z|      [0.025      0.975]\n",
       "------------------------------------------------------------------------------\n",
       "intercept     -0.0030      0.004     -0.854      0.393      -0.010       0.004\n",
       "ar.L1         -1.3457      0.071    -18.898      0.000      -1.485      -1.206\n",
       "ar.L2          0.1461      0.120      1.215      0.224      -0.090       0.382\n",
       "ar.L3          0.5419      0.066      8.215      0.000       0.413       0.671\n",
       "ma.L1          0.9796      0.056     17.498      0.000       0.870       1.089\n",
       "ma.L2         -0.8099      0.067    -12.056      0.000      -0.942      -0.678\n",
       "ma.L3         -0.8701      0.053    -16.528      0.000      -0.973      -0.767\n",
       "ma.S.L12      -0.9998     10.272     -0.097      0.922     -21.133      19.133\n",
       "sigma2         2.5962     26.580      0.098      0.922     -49.500      54.692\n",
       "===================================================================================\n",
       "Ljung-Box (Q):                       32.44   Jarque-Bera (JB):                 1.07\n",
       "Prob(Q):                              0.80   Prob(JB):                         0.58\n",
       "Heteroskedasticity (H):               0.72   Skew:                            -0.13\n",
       "Prob(H) (two-sided):                  0.07   Kurtosis:                         3.04\n",
       "===================================================================================\n",
       "\n",
       "Warnings:\n",
       "[1] Covariance matrix calculated using the outer product of gradients (complex-step).\n",
       "\"\"\""
      ]
     },
     "execution_count": 12,
     "metadata": {},
     "output_type": "execute_result"
    }
   ],
   "source": [
    "Sarima_model.summary()"
   ]
  },
  {
   "cell_type": "code",
   "execution_count": 13,
   "metadata": {},
   "outputs": [
    {
     "data": {
      "text/plain": [
       "ARIMA(callback=None, disp=0, maxiter=50, method=None, order=(3, 1, 3),\n",
       "   out_of_sample_size=0, scoring='mse', scoring_args={},\n",
       "   seasonal_order=(0, 1, 1, 12), solver='lbfgs', start_params=None,\n",
       "   suppress_warnings=True, transparams=True, trend='c')"
      ]
     },
     "execution_count": 13,
     "metadata": {},
     "output_type": "execute_result"
    }
   ],
   "source": [
    "Sarima_model.fit(et0_rain_treino_)"
   ]
  },
  {
   "cell_type": "code",
   "execution_count": 14,
   "metadata": {},
   "outputs": [
    {
     "name": "stdout",
     "output_type": "stream",
     "text": [
      "RMSE = 2.5355862160044\n",
      "MAE  = 2.120414751957596\n",
      "\n"
     ]
    }
   ],
   "source": [
    "et0_rain_pred = Sarima_model.predict(n_periods=len(et0_rain_test))\n",
    "\n",
    "print('RMSE = {}\\nMAE  = {}\\n'.format(\n",
    "    np.sqrt(mt.mean_squared_error(et0_rain_test, et0_rain_pred)), \n",
    "    mt.mean_absolute_error(et0_rain_test, et0_rain_pred)))"
   ]
  },
  {
   "cell_type": "code",
   "execution_count": 15,
   "metadata": {},
   "outputs": [
    {
     "data": {
      "text/html": [
       "<div>\n",
       "<style scoped>\n",
       "    .dataframe tbody tr th:only-of-type {\n",
       "        vertical-align: middle;\n",
       "    }\n",
       "\n",
       "    .dataframe tbody tr th {\n",
       "        vertical-align: top;\n",
       "    }\n",
       "\n",
       "    .dataframe thead th {\n",
       "        text-align: right;\n",
       "    }\n",
       "</style>\n",
       "<table border=\"1\" class=\"dataframe\">\n",
       "  <thead>\n",
       "    <tr style=\"text-align: right;\">\n",
       "      <th></th>\n",
       "      <th>ETo</th>\n",
       "    </tr>\n",
       "  </thead>\n",
       "  <tbody>\n",
       "    <tr>\n",
       "      <th>count</th>\n",
       "      <td>387.000000</td>\n",
       "    </tr>\n",
       "    <tr>\n",
       "      <th>mean</th>\n",
       "      <td>5.272518</td>\n",
       "    </tr>\n",
       "    <tr>\n",
       "      <th>std</th>\n",
       "      <td>2.079660</td>\n",
       "    </tr>\n",
       "    <tr>\n",
       "      <th>min</th>\n",
       "      <td>0.852370</td>\n",
       "    </tr>\n",
       "    <tr>\n",
       "      <th>25%</th>\n",
       "      <td>3.691112</td>\n",
       "    </tr>\n",
       "    <tr>\n",
       "      <th>50%</th>\n",
       "      <td>5.447556</td>\n",
       "    </tr>\n",
       "    <tr>\n",
       "      <th>75%</th>\n",
       "      <td>6.813897</td>\n",
       "    </tr>\n",
       "    <tr>\n",
       "      <th>max</th>\n",
       "      <td>10.320710</td>\n",
       "    </tr>\n",
       "  </tbody>\n",
       "</table>\n",
       "</div>"
      ],
      "text/plain": [
       "              ETo\n",
       "count  387.000000\n",
       "mean     5.272518\n",
       "std      2.079660\n",
       "min      0.852370\n",
       "25%      3.691112\n",
       "50%      5.447556\n",
       "75%      6.813897\n",
       "max     10.320710"
      ]
     },
     "execution_count": 15,
     "metadata": {},
     "output_type": "execute_result"
    }
   ],
   "source": [
    "et0_rain_completed.describe()"
   ]
  },
  {
   "cell_type": "code",
   "execution_count": 16,
   "metadata": {},
   "outputs": [
    {
     "data": {
      "text/html": [
       "<iframe id=\"igraph\" scrolling=\"no\" style=\"border:none;\" seamless=\"seamless\" src=\"https://plot.ly/~Dieinison/12.embed\" height=\"525px\" width=\"100%\"></iframe>"
      ],
      "text/plain": [
       "<plotly.tools.PlotlyDisplay object>"
      ]
     },
     "execution_count": 16,
     "metadata": {},
     "output_type": "execute_result"
    }
   ],
   "source": [
    "trace0 = go.Scatter(\n",
    "    x = et0_rain_test.index,\n",
    "    y = et0_rain_test.ETo.values,\n",
    "    mode = 'lines',\n",
    "    name = 'ET0'\n",
    ")\n",
    "\n",
    "trace1 = go.Scatter(\n",
    "    x = et0_rain_test.index,\n",
    "    y = et0_rain_pred,\n",
    "    mode = 'lines',\n",
    "    name = 'Predicted'\n",
    ")\n",
    "\n",
    "data = [trace0, trace1]\n",
    "\n",
    "fig = go.Figure(data=data)\n",
    "py.iplot(fig, filename='SARIMA Forecasting - Time Series Raining Station')"
   ]
  },
  {
   "cell_type": "markdown",
   "metadata": {},
   "source": [
    "## Estação de seca"
   ]
  },
  {
   "cell_type": "code",
   "execution_count": 17,
   "metadata": {},
   "outputs": [],
   "source": [
    "et0_seca_treino_ = pd.read_pickle('./dataset/drought_split/label_seca_train_.pkl') \n",
    "et0_seca_test = pd.read_pickle('./dataset/drought_split/label_seca_test.pkl')\n",
    "et0_seca_completed = pd.read_pickle('./dataset/label_estacao_seca.pkl')"
   ]
  },
  {
   "cell_type": "code",
   "execution_count": 18,
   "metadata": {},
   "outputs": [
    {
     "name": "stdout",
     "output_type": "stream",
     "text": [
      "Fit ARIMA: order=(1, 1, 1) seasonal_order=(0, 1, 1, 12); AIC=2870.444, BIC=2893.565, Fit time=3.913 seconds\n",
      "Fit ARIMA: order=(0, 1, 0) seasonal_order=(0, 1, 0, 12); AIC=3518.004, BIC=3527.252, Fit time=0.524 seconds\n",
      "Fit ARIMA: order=(1, 1, 0) seasonal_order=(1, 1, 0, 12); AIC=3151.537, BIC=3170.034, Fit time=4.498 seconds\n",
      "Fit ARIMA: order=(0, 1, 1) seasonal_order=(0, 1, 1, 12); AIC=2903.604, BIC=2922.101, Fit time=2.435 seconds\n",
      "Fit ARIMA: order=(1, 1, 1) seasonal_order=(1, 1, 1, 12); AIC=2872.286, BIC=2900.031, Fit time=5.277 seconds\n",
      "Fit ARIMA: order=(1, 1, 1) seasonal_order=(0, 1, 0, 12); AIC=3300.487, BIC=3318.984, Fit time=1.365 seconds\n",
      "Fit ARIMA: order=(1, 1, 1) seasonal_order=(0, 1, 2, 12); AIC=2875.046, BIC=2902.790, Fit time=12.036 seconds\n",
      "Fit ARIMA: order=(1, 1, 1) seasonal_order=(1, 1, 2, 12); AIC=2873.740, BIC=2906.109, Fit time=8.814 seconds\n",
      "Fit ARIMA: order=(2, 1, 1) seasonal_order=(0, 1, 1, 12); AIC=2867.815, BIC=2895.559, Fit time=4.477 seconds\n",
      "Fit ARIMA: order=(2, 1, 0) seasonal_order=(0, 1, 1, 12); AIC=2945.475, BIC=2968.595, Fit time=1.803 seconds\n",
      "Fit ARIMA: order=(2, 1, 2) seasonal_order=(0, 1, 1, 12); AIC=2869.818, BIC=2902.187, Fit time=4.907 seconds\n",
      "Fit ARIMA: order=(1, 1, 0) seasonal_order=(0, 1, 1, 12); AIC=2965.046, BIC=2983.542, Fit time=1.702 seconds\n",
      "Fit ARIMA: order=(3, 1, 2) seasonal_order=(0, 1, 1, 12); AIC=2871.416, BIC=2908.408, Fit time=5.416 seconds\n",
      "Fit ARIMA: order=(2, 1, 1) seasonal_order=(1, 1, 1, 12); AIC=2870.568, BIC=2902.937, Fit time=4.673 seconds\n",
      "Fit ARIMA: order=(2, 1, 1) seasonal_order=(0, 1, 0, 12); AIC=3282.170, BIC=3305.291, Fit time=2.175 seconds\n",
      "Fit ARIMA: order=(2, 1, 1) seasonal_order=(0, 1, 2, 12); AIC=2869.043, BIC=2901.411, Fit time=13.130 seconds\n",
      "Fit ARIMA: order=(2, 1, 1) seasonal_order=(1, 1, 2, 12); AIC=2871.219, BIC=2908.211, Fit time=18.266 seconds\n",
      "Fit ARIMA: order=(3, 1, 1) seasonal_order=(0, 1, 1, 12); AIC=2868.911, BIC=2901.279, Fit time=4.716 seconds\n",
      "Total fit time: 101.271 seconds\n"
     ]
    }
   ],
   "source": [
    "sarima_model = auto_arima(et0_seca_completed, start_p=1, start_q=1, max_p=5, max_q=5, m=12,\n",
    "                          start_P=0, seasonal=True, d=1, D=1, trace=True,\n",
    "                          error_action='ignore',  # don't want to know if an order does not work\n",
    "                          suppress_warnings=True,  # don't want convergence warnings\n",
    "                          stepwise=True)  # set to stepwise"
   ]
  },
  {
   "cell_type": "code",
   "execution_count": 19,
   "metadata": {},
   "outputs": [
    {
     "data": {
      "text/html": [
       "<table class=\"simpletable\">\n",
       "<caption>Statespace Model Results</caption>\n",
       "<tr>\n",
       "  <th>Dep. Variable:</th>                  <td>y</td>               <th>  No. Observations:  </th>    <td>766</td>   \n",
       "</tr>\n",
       "<tr>\n",
       "  <th>Model:</th>           <td>SARIMAX(2, 1, 1)x(0, 1, 1, 12)</td> <th>  Log Likelihood     </th> <td>-1427.907</td>\n",
       "</tr>\n",
       "<tr>\n",
       "  <th>Date:</th>                   <td>Wed, 27 Feb 2019</td>        <th>  AIC                </th> <td>2867.815</td> \n",
       "</tr>\n",
       "<tr>\n",
       "  <th>Time:</th>                       <td>22:33:21</td>            <th>  BIC                </th> <td>2895.559</td> \n",
       "</tr>\n",
       "<tr>\n",
       "  <th>Sample:</th>                         <td>0</td>               <th>  HQIC               </th> <td>2878.503</td> \n",
       "</tr>\n",
       "<tr>\n",
       "  <th></th>                             <td> - 766</td>             <th>                     </th>     <td> </td>    \n",
       "</tr>\n",
       "<tr>\n",
       "  <th>Covariance Type:</th>               <td>opg</td>              <th>                     </th>     <td> </td>    \n",
       "</tr>\n",
       "</table>\n",
       "<table class=\"simpletable\">\n",
       "<tr>\n",
       "      <td></td>         <th>coef</th>     <th>std err</th>      <th>z</th>      <th>P>|z|</th>  <th>[0.025</th>    <th>0.975]</th>  \n",
       "</tr>\n",
       "<tr>\n",
       "  <th>intercept</th> <td>   -0.0003</td> <td>    0.000</td> <td>   -1.161</td> <td> 0.246</td> <td>   -0.001</td> <td>    0.000</td>\n",
       "</tr>\n",
       "<tr>\n",
       "  <th>ar.L1</th>     <td>    0.3876</td> <td>    0.040</td> <td>    9.617</td> <td> 0.000</td> <td>    0.309</td> <td>    0.467</td>\n",
       "</tr>\n",
       "<tr>\n",
       "  <th>ar.L2</th>     <td>    0.1090</td> <td>    0.037</td> <td>    2.917</td> <td> 0.004</td> <td>    0.036</td> <td>    0.182</td>\n",
       "</tr>\n",
       "<tr>\n",
       "  <th>ma.L1</th>     <td>   -0.9270</td> <td>    0.022</td> <td>  -42.594</td> <td> 0.000</td> <td>   -0.970</td> <td>   -0.884</td>\n",
       "</tr>\n",
       "<tr>\n",
       "  <th>ma.S.L12</th>  <td>   -0.9756</td> <td>    0.025</td> <td>  -39.602</td> <td> 0.000</td> <td>   -1.024</td> <td>   -0.927</td>\n",
       "</tr>\n",
       "<tr>\n",
       "  <th>sigma2</th>    <td>    2.4709</td> <td>    0.110</td> <td>   22.495</td> <td> 0.000</td> <td>    2.256</td> <td>    2.686</td>\n",
       "</tr>\n",
       "</table>\n",
       "<table class=\"simpletable\">\n",
       "<tr>\n",
       "  <th>Ljung-Box (Q):</th>          <td>45.48</td> <th>  Jarque-Bera (JB):  </th> <td>42.83</td>\n",
       "</tr>\n",
       "<tr>\n",
       "  <th>Prob(Q):</th>                <td>0.25</td>  <th>  Prob(JB):          </th> <td>0.00</td> \n",
       "</tr>\n",
       "<tr>\n",
       "  <th>Heteroskedasticity (H):</th> <td>1.14</td>  <th>  Skew:              </th> <td>-0.27</td>\n",
       "</tr>\n",
       "<tr>\n",
       "  <th>Prob(H) (two-sided):</th>    <td>0.31</td>  <th>  Kurtosis:          </th> <td>4.04</td> \n",
       "</tr>\n",
       "</table><br/><br/>Warnings:<br/>[1] Covariance matrix calculated using the outer product of gradients (complex-step)."
      ],
      "text/plain": [
       "<class 'statsmodels.iolib.summary.Summary'>\n",
       "\"\"\"\n",
       "                                 Statespace Model Results                                 \n",
       "==========================================================================================\n",
       "Dep. Variable:                                  y   No. Observations:                  766\n",
       "Model:             SARIMAX(2, 1, 1)x(0, 1, 1, 12)   Log Likelihood               -1427.907\n",
       "Date:                            Wed, 27 Feb 2019   AIC                           2867.815\n",
       "Time:                                    22:33:21   BIC                           2895.559\n",
       "Sample:                                         0   HQIC                          2878.503\n",
       "                                            - 766                                         \n",
       "Covariance Type:                              opg                                         \n",
       "==============================================================================\n",
       "                 coef    std err          z      P>|z|      [0.025      0.975]\n",
       "------------------------------------------------------------------------------\n",
       "intercept     -0.0003      0.000     -1.161      0.246      -0.001       0.000\n",
       "ar.L1          0.3876      0.040      9.617      0.000       0.309       0.467\n",
       "ar.L2          0.1090      0.037      2.917      0.004       0.036       0.182\n",
       "ma.L1         -0.9270      0.022    -42.594      0.000      -0.970      -0.884\n",
       "ma.S.L12      -0.9756      0.025    -39.602      0.000      -1.024      -0.927\n",
       "sigma2         2.4709      0.110     22.495      0.000       2.256       2.686\n",
       "===================================================================================\n",
       "Ljung-Box (Q):                       45.48   Jarque-Bera (JB):                42.83\n",
       "Prob(Q):                              0.25   Prob(JB):                         0.00\n",
       "Heteroskedasticity (H):               1.14   Skew:                            -0.27\n",
       "Prob(H) (two-sided):                  0.31   Kurtosis:                         4.04\n",
       "===================================================================================\n",
       "\n",
       "Warnings:\n",
       "[1] Covariance matrix calculated using the outer product of gradients (complex-step).\n",
       "\"\"\""
      ]
     },
     "execution_count": 19,
     "metadata": {},
     "output_type": "execute_result"
    }
   ],
   "source": [
    "sarima_model.summary()"
   ]
  },
  {
   "cell_type": "code",
   "execution_count": 20,
   "metadata": {},
   "outputs": [
    {
     "data": {
      "text/plain": [
       "ARIMA(callback=None, disp=0, maxiter=50, method=None, order=(2, 1, 1),\n",
       "   out_of_sample_size=0, scoring='mse', scoring_args={},\n",
       "   seasonal_order=(0, 1, 1, 12), solver='lbfgs', start_params=None,\n",
       "   suppress_warnings=True, transparams=True, trend='c')"
      ]
     },
     "execution_count": 20,
     "metadata": {},
     "output_type": "execute_result"
    }
   ],
   "source": [
    "sarima_model.fit(et0_seca_treino_)"
   ]
  },
  {
   "cell_type": "code",
   "execution_count": 21,
   "metadata": {},
   "outputs": [
    {
     "name": "stdout",
     "output_type": "stream",
     "text": [
      "RMSE = 2.2494372936388047\n",
      "MAE  = 1.8058874697672929\n",
      "\n"
     ]
    }
   ],
   "source": [
    "et0_seca_pred = sarima_model.predict(n_periods=len(et0_seca_test))\n",
    "\n",
    "print('RMSE = {}\\nMAE  = {}\\n'.format(\n",
    "    np.sqrt(mt.mean_squared_error(et0_seca_test, et0_seca_pred)), \n",
    "    mt.mean_absolute_error(et0_seca_test, et0_seca_pred)))"
   ]
  },
  {
   "cell_type": "code",
   "execution_count": 22,
   "metadata": {},
   "outputs": [
    {
     "data": {
      "text/html": [
       "<div>\n",
       "<style scoped>\n",
       "    .dataframe tbody tr th:only-of-type {\n",
       "        vertical-align: middle;\n",
       "    }\n",
       "\n",
       "    .dataframe tbody tr th {\n",
       "        vertical-align: top;\n",
       "    }\n",
       "\n",
       "    .dataframe thead th {\n",
       "        text-align: right;\n",
       "    }\n",
       "</style>\n",
       "<table border=\"1\" class=\"dataframe\">\n",
       "  <thead>\n",
       "    <tr style=\"text-align: right;\">\n",
       "      <th></th>\n",
       "      <th>ETo</th>\n",
       "    </tr>\n",
       "  </thead>\n",
       "  <tbody>\n",
       "    <tr>\n",
       "      <th>count</th>\n",
       "      <td>766.000000</td>\n",
       "    </tr>\n",
       "    <tr>\n",
       "      <th>mean</th>\n",
       "      <td>7.678850</td>\n",
       "    </tr>\n",
       "    <tr>\n",
       "      <th>std</th>\n",
       "      <td>2.404814</td>\n",
       "    </tr>\n",
       "    <tr>\n",
       "      <th>min</th>\n",
       "      <td>0.908164</td>\n",
       "    </tr>\n",
       "    <tr>\n",
       "      <th>25%</th>\n",
       "      <td>6.012210</td>\n",
       "    </tr>\n",
       "    <tr>\n",
       "      <th>50%</th>\n",
       "      <td>7.736559</td>\n",
       "    </tr>\n",
       "    <tr>\n",
       "      <th>75%</th>\n",
       "      <td>9.402421</td>\n",
       "    </tr>\n",
       "    <tr>\n",
       "      <th>max</th>\n",
       "      <td>13.723929</td>\n",
       "    </tr>\n",
       "  </tbody>\n",
       "</table>\n",
       "</div>"
      ],
      "text/plain": [
       "              ETo\n",
       "count  766.000000\n",
       "mean     7.678850\n",
       "std      2.404814\n",
       "min      0.908164\n",
       "25%      6.012210\n",
       "50%      7.736559\n",
       "75%      9.402421\n",
       "max     13.723929"
      ]
     },
     "execution_count": 22,
     "metadata": {},
     "output_type": "execute_result"
    }
   ],
   "source": [
    "et0_seca_completed.describe()"
   ]
  },
  {
   "cell_type": "code",
   "execution_count": 23,
   "metadata": {},
   "outputs": [
    {
     "data": {
      "text/html": [
       "<iframe id=\"igraph\" scrolling=\"no\" style=\"border:none;\" seamless=\"seamless\" src=\"https://plot.ly/~Dieinison/14.embed\" height=\"525px\" width=\"100%\"></iframe>"
      ],
      "text/plain": [
       "<plotly.tools.PlotlyDisplay object>"
      ]
     },
     "execution_count": 23,
     "metadata": {},
     "output_type": "execute_result"
    }
   ],
   "source": [
    "trace0 = go.Scatter(\n",
    "    x = et0_seca_test.index,\n",
    "    y = et0_seca_test.ETo.values,\n",
    "    mode = 'lines',\n",
    "    name = 'ET0'\n",
    ")\n",
    "\n",
    "trace1 = go.Scatter(\n",
    "    x = et0_seca_test.index,\n",
    "    y = et0_seca_pred,\n",
    "    mode = 'lines',\n",
    "    name = 'Predicted'\n",
    ")\n",
    "\n",
    "data = [trace0, trace1]\n",
    "\n",
    "fig = go.Figure(data=data)\n",
    "py.iplot(fig, filename='SARIMA Forecasting - Time Series Drought Station')"
   ]
  },
  {
   "cell_type": "code",
   "execution_count": null,
   "metadata": {},
   "outputs": [],
   "source": []
  }
 ],
 "metadata": {
  "kernelspec": {
   "display_name": "Python 3",
   "language": "python",
   "name": "python3"
  },
  "language_info": {
   "codemirror_mode": {
    "name": "ipython",
    "version": 3
   },
   "file_extension": ".py",
   "mimetype": "text/x-python",
   "name": "python",
   "nbconvert_exporter": "python",
   "pygments_lexer": "ipython3",
   "version": "3.6.8"
  },
  "toc": {
   "base_numbering": 1,
   "nav_menu": {},
   "number_sections": true,
   "sideBar": true,
   "skip_h1_title": false,
   "title_cell": "Table of Contents",
   "title_sidebar": "Contents",
   "toc_cell": false,
   "toc_position": {},
   "toc_section_display": true,
   "toc_window_display": false
  }
 },
 "nbformat": 4,
 "nbformat_minor": 2
}
