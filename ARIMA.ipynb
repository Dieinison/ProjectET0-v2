{
 "cells": [
  {
   "cell_type": "markdown",
   "metadata": {},
   "source": [
    "# ARIMA Forecasting to predict $ET_0$"
   ]
  },
  {
   "cell_type": "markdown",
   "metadata": {},
   "source": [
    "Libs required"
   ]
  },
  {
   "cell_type": "code",
   "execution_count": 1,
   "metadata": {},
   "outputs": [],
   "source": [
    "%matplotlib inline\n",
    "\n",
    "import pandas as pd\n",
    "import numpy as np\n",
    "import warnings\n",
    "from sklearn import metrics as mt\n",
    "from pyramid.arima import auto_arima\n",
    "\n",
    "from matplotlib import pyplot as plt\n",
    "import plotly\n",
    "import plotly.plotly as py\n",
    "import plotly.graph_objs as go\n",
    "\n",
    "warnings.filterwarnings(\"ignore\")"
   ]
  },
  {
   "cell_type": "code",
   "execution_count": 2,
   "metadata": {},
   "outputs": [],
   "source": [
    "et0_treino_ = pd.read_csv('./data/label_train_.csv') \n",
    "et0_test = pd.read_csv('./data/label_test.csv')"
   ]
  },
  {
   "cell_type": "code",
   "execution_count": 3,
   "metadata": {},
   "outputs": [],
   "source": [
    "et0_completed = pd.concat([et0_treino_, et0_test], axis=0)"
   ]
  },
  {
   "cell_type": "markdown",
   "metadata": {},
   "source": [
    "## Hyper-parameters optimization"
   ]
  },
  {
   "cell_type": "code",
   "execution_count": 10,
   "metadata": {
    "scrolled": true
   },
   "outputs": [
    {
     "name": "stdout",
     "output_type": "stream",
     "text": [
      "Fit ARIMA: order=(1, 1, 1); AIC=4334.152, BIC=4354.349, Fit time=0.266 seconds\n",
      "Fit ARIMA: order=(0, 1, 0); AIC=4617.509, BIC=4627.608, Fit time=0.002 seconds\n",
      "Fit ARIMA: order=(1, 1, 0); AIC=4484.717, BIC=4499.865, Fit time=0.017 seconds\n",
      "Fit ARIMA: order=(0, 1, 1); AIC=4394.017, BIC=4409.165, Fit time=0.024 seconds\n",
      "Fit ARIMA: order=(2, 1, 1); AIC=4333.631, BIC=4358.878, Fit time=0.305 seconds\n",
      "Fit ARIMA: order=(2, 1, 0); AIC=4449.158, BIC=4469.355, Fit time=0.029 seconds\n",
      "Fit ARIMA: order=(2, 1, 2); AIC=4331.412, BIC=4361.708, Fit time=0.290 seconds\n",
      "Fit ARIMA: order=(3, 1, 3); AIC=4332.887, BIC=4373.282, Fit time=1.040 seconds\n",
      "Fit ARIMA: order=(1, 1, 2); AIC=4334.090, BIC=4359.337, Fit time=0.298 seconds\n",
      "Fit ARIMA: order=(3, 1, 2); AIC=4333.403, BIC=4368.748, Fit time=0.381 seconds\n",
      "Fit ARIMA: order=(2, 1, 3); AIC=4333.403, BIC=4368.748, Fit time=0.411 seconds\n",
      "Total fit time: 3.069 seconds\n"
     ]
    }
   ],
   "source": [
    "arima_model = auto_arima(et0_completed, start_p=1, start_q=1, max_p=5, max_q=5, m=12,\n",
    "                          start_P=0, seasonal=False, d=1, D=1, trace=True,\n",
    "                          error_action='ignore',  # don't want to know if an order does not work\n",
    "                          suppress_warnings=True,  # don't want convergence warnings\n",
    "                          stepwise=True)  # set to stepwise"
   ]
  },
  {
   "cell_type": "code",
   "execution_count": 11,
   "metadata": {
    "scrolled": true
   },
   "outputs": [
    {
     "data": {
      "text/html": [
       "<table class=\"simpletable\">\n",
       "<caption>ARIMA Model Results</caption>\n",
       "<tr>\n",
       "  <th>Dep. Variable:</th>        <td>D.y</td>       <th>  No. Observations:  </th>   <td>1152</td>   \n",
       "</tr>\n",
       "<tr>\n",
       "  <th>Model:</th>          <td>ARIMA(2, 1, 2)</td>  <th>  Log Likelihood     </th> <td>-2159.706</td>\n",
       "</tr>\n",
       "<tr>\n",
       "  <th>Method:</th>             <td>css-mle</td>     <th>  S.D. of innovations</th>   <td>1.577</td>  \n",
       "</tr>\n",
       "<tr>\n",
       "  <th>Date:</th>          <td>Sat, 01 Jun 2019</td> <th>  AIC                </th> <td>4331.412</td> \n",
       "</tr>\n",
       "<tr>\n",
       "  <th>Time:</th>              <td>01:50:13</td>     <th>  BIC                </th> <td>4361.708</td> \n",
       "</tr>\n",
       "<tr>\n",
       "  <th>Sample:</th>                <td>1</td>        <th>  HQIC               </th> <td>4342.847</td> \n",
       "</tr>\n",
       "<tr>\n",
       "  <th></th>                       <td> </td>        <th>                     </th>     <td> </td>    \n",
       "</tr>\n",
       "</table>\n",
       "<table class=\"simpletable\">\n",
       "<tr>\n",
       "      <td></td>         <th>coef</th>     <th>std err</th>      <th>z</th>      <th>P>|z|</th>  <th>[0.025</th>    <th>0.975]</th>  \n",
       "</tr>\n",
       "<tr>\n",
       "  <th>const</th>     <td>   -0.0032</td> <td>    0.010</td> <td>   -0.328</td> <td> 0.743</td> <td>   -0.023</td> <td>    0.016</td>\n",
       "</tr>\n",
       "<tr>\n",
       "  <th>ar.L1.D.y</th> <td>   -0.4050</td> <td>    0.110</td> <td>   -3.671</td> <td> 0.000</td> <td>   -0.621</td> <td>   -0.189</td>\n",
       "</tr>\n",
       "<tr>\n",
       "  <th>ar.L2.D.y</th> <td>    0.3430</td> <td>    0.047</td> <td>    7.294</td> <td> 0.000</td> <td>    0.251</td> <td>    0.435</td>\n",
       "</tr>\n",
       "<tr>\n",
       "  <th>ma.L1.D.y</th> <td>   -0.1013</td> <td>    0.109</td> <td>   -0.931</td> <td> 0.352</td> <td>   -0.315</td> <td>    0.112</td>\n",
       "</tr>\n",
       "<tr>\n",
       "  <th>ma.L2.D.y</th> <td>   -0.6748</td> <td>    0.089</td> <td>   -7.577</td> <td> 0.000</td> <td>   -0.849</td> <td>   -0.500</td>\n",
       "</tr>\n",
       "</table>\n",
       "<table class=\"simpletable\">\n",
       "<caption>Roots</caption>\n",
       "<tr>\n",
       "    <td></td>   <th>            Real</th>  <th>         Imaginary</th> <th>         Modulus</th>  <th>        Frequency</th>\n",
       "</tr>\n",
       "<tr>\n",
       "  <th>AR.1</th> <td>          -1.2164</td> <td>          +0.0000j</td> <td>           1.2164</td> <td>           0.5000</td>\n",
       "</tr>\n",
       "<tr>\n",
       "  <th>AR.2</th> <td>           2.3971</td> <td>          +0.0000j</td> <td>           2.3971</td> <td>           0.0000</td>\n",
       "</tr>\n",
       "<tr>\n",
       "  <th>MA.1</th> <td>           1.1446</td> <td>          +0.0000j</td> <td>           1.1446</td> <td>           0.0000</td>\n",
       "</tr>\n",
       "<tr>\n",
       "  <th>MA.2</th> <td>          -1.2947</td> <td>          +0.0000j</td> <td>           1.2947</td> <td>           0.5000</td>\n",
       "</tr>\n",
       "</table>"
      ],
      "text/plain": [
       "<class 'statsmodels.iolib.summary.Summary'>\n",
       "\"\"\"\n",
       "                             ARIMA Model Results                              \n",
       "==============================================================================\n",
       "Dep. Variable:                    D.y   No. Observations:                 1152\n",
       "Model:                 ARIMA(2, 1, 2)   Log Likelihood               -2159.706\n",
       "Method:                       css-mle   S.D. of innovations              1.577\n",
       "Date:                Sat, 01 Jun 2019   AIC                           4331.412\n",
       "Time:                        01:50:13   BIC                           4361.708\n",
       "Sample:                             1   HQIC                          4342.847\n",
       "                                                                              \n",
       "==============================================================================\n",
       "                 coef    std err          z      P>|z|      [0.025      0.975]\n",
       "------------------------------------------------------------------------------\n",
       "const         -0.0032      0.010     -0.328      0.743      -0.023       0.016\n",
       "ar.L1.D.y     -0.4050      0.110     -3.671      0.000      -0.621      -0.189\n",
       "ar.L2.D.y      0.3430      0.047      7.294      0.000       0.251       0.435\n",
       "ma.L1.D.y     -0.1013      0.109     -0.931      0.352      -0.315       0.112\n",
       "ma.L2.D.y     -0.6748      0.089     -7.577      0.000      -0.849      -0.500\n",
       "                                    Roots                                    \n",
       "=============================================================================\n",
       "                  Real          Imaginary           Modulus         Frequency\n",
       "-----------------------------------------------------------------------------\n",
       "AR.1           -1.2164           +0.0000j            1.2164            0.5000\n",
       "AR.2            2.3971           +0.0000j            2.3971            0.0000\n",
       "MA.1            1.1446           +0.0000j            1.1446            0.0000\n",
       "MA.2           -1.2947           +0.0000j            1.2947            0.5000\n",
       "-----------------------------------------------------------------------------\n",
       "\"\"\""
      ]
     },
     "execution_count": 11,
     "metadata": {},
     "output_type": "execute_result"
    }
   ],
   "source": [
    "arima_model.summary()"
   ]
  },
  {
   "cell_type": "markdown",
   "metadata": {},
   "source": [
    "## Time Series Forecasting"
   ]
  },
  {
   "cell_type": "code",
   "execution_count": 12,
   "metadata": {
    "scrolled": true
   },
   "outputs": [
    {
     "data": {
      "text/plain": [
       "ARIMA(callback=None, disp=0, maxiter=50, method=None, order=(2, 1, 2),\n",
       "   out_of_sample_size=0, scoring='mse', scoring_args={},\n",
       "   seasonal_order=None, solver='lbfgs', start_params=None,\n",
       "   suppress_warnings=True, transparams=True, trend='c')"
      ]
     },
     "execution_count": 12,
     "metadata": {},
     "output_type": "execute_result"
    }
   ],
   "source": [
    "arima_model.fit(et0_treino_)"
   ]
  },
  {
   "cell_type": "code",
   "execution_count": 13,
   "metadata": {},
   "outputs": [
    {
     "name": "stdout",
     "output_type": "stream",
     "text": [
      "RMSE = 3.321261948011086\n",
      "MAE  = 2.85388683896337\n",
      "\n"
     ]
    }
   ],
   "source": [
    "et0_pred = arima_model.predict(n_periods=len(et0_test))\n",
    "\n",
    "print('RMSE = {}\\nMAE  = {}\\n'.format(\n",
    "    np.sqrt(mt.mean_squared_error(et0_test, et0_pred)), \n",
    "    mt.mean_absolute_error(et0_test, et0_pred)))"
   ]
  },
  {
   "cell_type": "code",
   "execution_count": null,
   "metadata": {},
   "outputs": [],
   "source": []
  }
 ],
 "metadata": {
  "kernelspec": {
   "display_name": "Python 3",
   "language": "python",
   "name": "python3"
  },
  "language_info": {
   "codemirror_mode": {
    "name": "ipython",
    "version": 3
   },
   "file_extension": ".py",
   "mimetype": "text/x-python",
   "name": "python",
   "nbconvert_exporter": "python",
   "pygments_lexer": "ipython3",
   "version": "3.6.8"
  },
  "toc": {
   "base_numbering": 1,
   "nav_menu": {},
   "number_sections": true,
   "sideBar": true,
   "skip_h1_title": false,
   "title_cell": "Table of Contents",
   "title_sidebar": "Contents",
   "toc_cell": false,
   "toc_position": {},
   "toc_section_display": true,
   "toc_window_display": false
  }
 },
 "nbformat": 4,
 "nbformat_minor": 2
}
