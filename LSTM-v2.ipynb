{
 "cells": [
  {
   "cell_type": "markdown",
   "metadata": {},
   "source": [
    "### LSTM for Time Series Forecasting\n",
    "\n",
    "Libs required:"
   ]
  },
  {
   "cell_type": "code",
   "execution_count": 1,
   "metadata": {
    "scrolled": true
   },
   "outputs": [
    {
     "name": "stderr",
     "output_type": "stream",
     "text": [
      "Using TensorFlow backend.\n"
     ]
    }
   ],
   "source": [
    "%matplotlib inline\n",
    "\n",
    "import numpy as np\n",
    "import pandas as pd\n",
    "import matplotlib.pyplot as plt\n",
    "\n",
    "from keras.optimizers import Adam\n",
    "from keras.models import Sequential\n",
    "from keras.preprocessing import sequence\n",
    "from keras.layers import Dense, LSTM, Bidirectional\n",
    "\n",
    "plt.style.use('ggplot')\n",
    "plt.rcParams['figure.figsize'] = (10,4)"
   ]
  },
  {
   "cell_type": "code",
   "execution_count": 2,
   "metadata": {},
   "outputs": [],
   "source": [
    "et0_train = pd.read_csv('./data/label_train.csv')\n",
    "et0_val = pd.read_csv('./data/label_val.csv')\n",
    "\n",
    "et0_train_ = pd.read_csv('./data/label_train_.csv')\n",
    "et0_test = pd.read_csv('./data/label_test.csv')"
   ]
  },
  {
   "cell_type": "code",
   "execution_count": 3,
   "metadata": {},
   "outputs": [],
   "source": [
    "def split_sequence(sequence, n_steps):\n",
    "    X, y = list(), list()\n",
    "    for i in range(len(sequence)):\n",
    "        end_ix = i + n_steps\n",
    "        if end_ix > len(sequence)-1:\n",
    "            break\n",
    "        seq_x, seq_y = sequence[i:end_ix], sequence[end_ix]\n",
    "        X.append(seq_x)\n",
    "        y.append(seq_y)\n",
    "    return np.array(X), np.array(y)"
   ]
  },
  {
   "cell_type": "code",
   "execution_count": 4,
   "metadata": {},
   "outputs": [],
   "source": [
    "def overfitting_plot(history):\n",
    "    loss = history.history['loss']\n",
    "    \n",
    "    epochs = range(1, len(loss) + 1)\n",
    "    \n",
    "    plt.figure()\n",
    "    plt.plot(epochs, loss, 'b', label='Training loss')\n",
    "    plt.title('Training loss')\n",
    "    plt.legend(loc='best')"
   ]
  },
  {
   "cell_type": "code",
   "execution_count": 24,
   "metadata": {},
   "outputs": [],
   "source": [
    "n_steps = 3\n",
    "n_features = 1\n",
    "\n",
    "features, label = split_sequence(et0_train_.values, n_steps)\n",
    "features = features.reshape((features.shape[0], features.shape[1], n_features))"
   ]
  },
  {
   "cell_type": "code",
   "execution_count": 25,
   "metadata": {},
   "outputs": [
    {
     "name": "stdout",
     "output_type": "stream",
     "text": [
      "[[6.95434295]\n",
      " [9.08150375]\n",
      " [9.0281699 ]], [7.93418562]\n",
      "\n",
      "[[9.08150375]\n",
      " [9.0281699 ]\n",
      " [7.93418562]], [7.70423053]\n",
      "\n",
      "[[9.0281699 ]\n",
      " [7.93418562]\n",
      " [7.70423053]], [5.19487979]\n",
      "\n",
      "[[7.93418562]\n",
      " [7.70423053]\n",
      " [5.19487979]], [5.58889656]\n",
      "\n",
      "[[7.70423053]\n",
      " [5.19487979]\n",
      " [5.58889656]], [3.37520442]\n",
      "\n"
     ]
    }
   ],
   "source": [
    "for i in range(0,5):\n",
    "    print(\"{}, {}\\n\".format(features[i], label[i]))"
   ]
  },
  {
   "cell_type": "code",
   "execution_count": 53,
   "metadata": {},
   "outputs": [],
   "source": [
    "model = Sequential()\n",
    "model.add((LSTM(256,\n",
    "                return_sequences=True,\n",
    "                input_shape=(n_steps, n_features))))\n",
    "\n",
    "#model.add((LSTM(32, return_sequences=True)))\n",
    "#model.add((LSTM(32, return_sequences=True)))\n",
    "#model.add((LSTM(32, return_sequences=True)))\n",
    "model.add((LSTM(256)))\n",
    "model.add(Dense(1))"
   ]
  },
  {
   "cell_type": "code",
   "execution_count": 54,
   "metadata": {},
   "outputs": [],
   "source": [
    "model.compile(optimizer=Adam(lr=1e-3), \n",
    "              loss='mean_absolute_error', \n",
    "              metrics=['mae', 'mse'], )"
   ]
  },
  {
   "cell_type": "code",
   "execution_count": 58,
   "metadata": {
    "scrolled": false
   },
   "outputs": [
    {
     "name": "stdout",
     "output_type": "stream",
     "text": [
      "Epoch 1/30\n",
      "919/919 [==============================] - 1s 551us/step - loss: 1.2800 - mae: 1.2800 - mse: 2.6535\n",
      "Epoch 2/30\n",
      "919/919 [==============================] - 0s 540us/step - loss: 1.2605 - mae: 1.2605 - mse: 2.5779\n",
      "Epoch 3/30\n",
      "919/919 [==============================] - 0s 537us/step - loss: 1.2582 - mae: 1.2582 - mse: 2.5769\n",
      "Epoch 4/30\n",
      "919/919 [==============================] - 0s 537us/step - loss: 1.2618 - mae: 1.2618 - mse: 2.6037\n",
      "Epoch 5/30\n",
      "919/919 [==============================] - 1s 545us/step - loss: 1.2649 - mae: 1.2649 - mse: 2.5854\n",
      "Epoch 6/30\n",
      "919/919 [==============================] - 0s 530us/step - loss: 1.2651 - mae: 1.2651 - mse: 2.6004\n",
      "Epoch 7/30\n",
      "919/919 [==============================] - 0s 536us/step - loss: 1.2644 - mae: 1.2644 - mse: 2.5734\n",
      "Epoch 8/30\n",
      "919/919 [==============================] - 0s 538us/step - loss: 1.2505 - mae: 1.2505 - mse: 2.5401\n",
      "Epoch 9/30\n",
      "919/919 [==============================] - 0s 543us/step - loss: 1.2552 - mae: 1.2552 - mse: 2.5652\n",
      "Epoch 10/30\n",
      "919/919 [==============================] - 0s 542us/step - loss: 1.2539 - mae: 1.2539 - mse: 2.5711\n",
      "Epoch 11/30\n",
      "919/919 [==============================] - 0s 538us/step - loss: 1.2609 - mae: 1.2609 - mse: 2.5961\n",
      "Epoch 12/30\n",
      "919/919 [==============================] - 0s 543us/step - loss: 1.2700 - mae: 1.2700 - mse: 2.5928\n",
      "Epoch 13/30\n",
      "919/919 [==============================] - 0s 537us/step - loss: 1.2568 - mae: 1.2568 - mse: 2.5887\n",
      "Epoch 14/30\n",
      "919/919 [==============================] - 0s 544us/step - loss: 1.2548 - mae: 1.2548 - mse: 2.5449\n",
      "Epoch 15/30\n",
      "919/919 [==============================] - 1s 557us/step - loss: 1.2587 - mae: 1.2587 - mse: 2.5776\n",
      "Epoch 16/30\n",
      "919/919 [==============================] - 1s 553us/step - loss: 1.2626 - mae: 1.2626 - mse: 2.6156\n",
      "Epoch 17/30\n",
      "919/919 [==============================] - 1s 556us/step - loss: 1.2769 - mae: 1.2769 - mse: 2.6403\n",
      "Epoch 18/30\n",
      "919/919 [==============================] - 1s 553us/step - loss: 1.2684 - mae: 1.2684 - mse: 2.5780\n",
      "Epoch 19/30\n",
      "919/919 [==============================] - 1s 569us/step - loss: 1.2509 - mae: 1.2509 - mse: 2.5542\n",
      "Epoch 20/30\n",
      "919/919 [==============================] - 1s 552us/step - loss: 1.2500 - mae: 1.2500 - mse: 2.5507\n",
      "Epoch 21/30\n",
      "919/919 [==============================] - 1s 547us/step - loss: 1.2740 - mae: 1.2740 - mse: 2.6417\n",
      "Epoch 22/30\n",
      "919/919 [==============================] - 1s 548us/step - loss: 1.2716 - mae: 1.2716 - mse: 2.6143\n",
      "Epoch 23/30\n",
      "919/919 [==============================] - 0s 535us/step - loss: 1.2460 - mae: 1.2460 - mse: 2.5599\n",
      "Epoch 24/30\n",
      "919/919 [==============================] - 1s 546us/step - loss: 1.2522 - mae: 1.2522 - mse: 2.5532\n",
      "Epoch 25/30\n",
      "919/919 [==============================] - 1s 555us/step - loss: 1.2482 - mae: 1.2482 - mse: 2.5482\n",
      "Epoch 26/30\n",
      "919/919 [==============================] - 1s 553us/step - loss: 1.2774 - mae: 1.2774 - mse: 2.6504\n",
      "Epoch 27/30\n",
      "919/919 [==============================] - 0s 540us/step - loss: 1.2649 - mae: 1.2649 - mse: 2.5957\n",
      "Epoch 28/30\n",
      "919/919 [==============================] - 0s 535us/step - loss: 1.2612 - mae: 1.2612 - mse: 2.6065\n",
      "Epoch 29/30\n",
      "919/919 [==============================] - 1s 547us/step - loss: 1.2511 - mae: 1.2511 - mse: 2.5833\n",
      "Epoch 30/30\n",
      "919/919 [==============================] - 0s 537us/step - loss: 1.2581 - mae: 1.2581 - mse: 2.5754\n"
     ]
    }
   ],
   "source": [
    "history = model.fit(features,\n",
    "                    label,\n",
    "                    epochs=30, \n",
    "                    verbose=1)"
   ]
  },
  {
   "cell_type": "code",
   "execution_count": 12,
   "metadata": {},
   "outputs": [
    {
     "data": {
      "text/plain": [
       "dict_keys(['loss', 'mae', 'mse'])"
      ]
     },
     "execution_count": 12,
     "metadata": {},
     "output_type": "execute_result"
    }
   ],
   "source": [
    "history.history.keys()"
   ]
  },
  {
   "cell_type": "code",
   "execution_count": 13,
   "metadata": {
    "scrolled": true
   },
   "outputs": [
    {
     "data": {
      "image/png": "[encoded data removed]",
      "text/plain": [
       "<Figure size 720x288 with 1 Axes>"
      ]
     },
     "metadata": {},
     "output_type": "display_data"
    }
   ],
   "source": [
    "overfitting_plot(history)"
   ]
  },
  {
   "cell_type": "code",
   "execution_count": 59,
   "metadata": {},
   "outputs": [],
   "source": [
    "features_test, label_test = split_sequence(et0_test.values, n_steps)\n",
    "features_test = features_test.reshape((features_test.shape[0], features_test.shape[1], n_features))"
   ]
  },
  {
   "cell_type": "code",
   "execution_count": 60,
   "metadata": {},
   "outputs": [
    {
     "name": "stdout",
     "output_type": "stream",
     "text": [
      "228/228 [==============================] - 0s 530us/step\n"
     ]
    },
    {
     "data": {
      "text/plain": [
       "[1.3175890874444394, 1.3175891637802124, 2.8967716693878174]"
      ]
     },
     "execution_count": 60,
     "metadata": {},
     "output_type": "execute_result"
    }
   ],
   "source": [
    "model.evaluate(features_test, label_test)"
   ]
  },
  {
   "cell_type": "code",
   "execution_count": 63,
   "metadata": {},
   "outputs": [
    {
     "data": {
      "text/plain": [
       "1.701990502143833"
      ]
     },
     "execution_count": 63,
     "metadata": {},
     "output_type": "execute_result"
    }
   ],
   "source": [
    "np.sqrt(2.8967716693878174)"
   ]
  },
  {
   "cell_type": "code",
   "execution_count": null,
   "metadata": {},
   "outputs": [],
   "source": []
  },
  {
   "cell_type": "code",
   "execution_count": null,
   "metadata": {},
   "outputs": [],
   "source": []
  },
  {
   "cell_type": "code",
   "execution_count": null,
   "metadata": {},
   "outputs": [],
   "source": []
  },
  {
   "cell_type": "code",
   "execution_count": null,
   "metadata": {},
   "outputs": [],
   "source": []
  }
 ],
 "metadata": {
  "kernelspec": {
   "display_name": "Python 3",
   "language": "python",
   "name": "python3"
  },
  "language_info": {
   "codemirror_mode": {
    "name": "ipython",
    "version": 3
   },
   "file_extension": ".py",
   "mimetype": "text/x-python",
   "name": "python",
   "nbconvert_exporter": "python",
   "pygments_lexer": "ipython3",
   "version": "3.6.9"
  },
  "toc": {
   "base_numbering": 1,
   "nav_menu": {},
   "number_sections": true,
   "sideBar": true,
   "skip_h1_title": false,
   "title_cell": "Table of Contents",
   "title_sidebar": "Contents",
   "toc_cell": false,
   "toc_position": {},
   "toc_section_display": true,
   "toc_window_display": false
  }
 },
 "nbformat": 4,
 "nbformat_minor": 2
}
