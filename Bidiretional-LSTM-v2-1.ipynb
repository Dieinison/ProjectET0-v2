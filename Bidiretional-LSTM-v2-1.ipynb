{
 "cells": [
  {
   "cell_type": "markdown",
   "metadata": {},
   "source": [
    "### Bidiretional LSTM for Time Series Forecasting\n",
    "\n",
    "Libs required:"
   ]
  },
  {
   "cell_type": "code",
   "execution_count": 1,
   "metadata": {
    "scrolled": true
   },
   "outputs": [
    {
     "name": "stderr",
     "output_type": "stream",
     "text": [
      "Using TensorFlow backend.\n"
     ]
    }
   ],
   "source": [
    "%matplotlib inline\n",
    "\n",
    "import numpy as np\n",
    "import pandas as pd\n",
    "import matplotlib.pyplot as plt\n",
    "\n",
    "from keras.optimizers import Adam\n",
    "from keras.models import Sequential\n",
    "from keras.preprocessing import sequence\n",
    "from keras.layers import Dense, LSTM, Bidirectional\n",
    "\n",
    "plt.style.use('ggplot')\n",
    "plt.rcParams['figure.figsize'] = (10,4)"
   ]
  },
  {
   "cell_type": "code",
   "execution_count": 2,
   "metadata": {},
   "outputs": [],
   "source": [
    "et0_train = pd.read_csv('./data/label_train.csv')\n",
    "et0_val = pd.read_csv('./data/label_val.csv')\n",
    "\n",
    "et0_train_ = pd.read_csv('./data/label_train_.csv')\n",
    "et0_test = pd.read_csv('./data/label_test.csv')"
   ]
  },
  {
   "cell_type": "code",
   "execution_count": 3,
   "metadata": {},
   "outputs": [],
   "source": [
    "def split_sequence(sequence, n_steps):\n",
    "    X, y = list(), list()\n",
    "    for i in range(len(sequence)):\n",
    "        end_ix = i + n_steps\n",
    "        if end_ix > len(sequence)-1:\n",
    "            break\n",
    "        seq_x, seq_y = sequence[i:end_ix], sequence[end_ix]\n",
    "        X.append(seq_x)\n",
    "        y.append(seq_y)\n",
    "    return np.array(X), np.array(y)"
   ]
  },
  {
   "cell_type": "code",
   "execution_count": 4,
   "metadata": {},
   "outputs": [],
   "source": [
    "def overfitting_plot(history):\n",
    "    loss = history.history['loss']\n",
    "    \n",
    "    epochs = range(1, len(loss) + 1)\n",
    "    \n",
    "    plt.figure()\n",
    "    plt.plot(epochs, loss, 'b', label='Training loss')\n",
    "    plt.title('Training loss')\n",
    "    plt.legend(loc='best')"
   ]
  },
  {
   "cell_type": "code",
   "execution_count": 5,
   "metadata": {},
   "outputs": [],
   "source": [
    "n_steps = 1\n",
    "n_features = 1\n",
    "\n",
    "features, label = split_sequence(et0_train_.values, n_steps)\n",
    "features = features.reshape((features.shape[0], features.shape[1], n_features))"
   ]
  },
  {
   "cell_type": "code",
   "execution_count": 6,
   "metadata": {},
   "outputs": [
    {
     "name": "stdout",
     "output_type": "stream",
     "text": [
      "[[6.95434295]], [9.08150375]\n",
      "\n",
      "[[9.08150375]], [9.0281699]\n",
      "\n",
      "[[9.0281699]], [7.93418562]\n",
      "\n",
      "[[7.93418562]], [7.70423053]\n",
      "\n",
      "[[7.70423053]], [5.19487979]\n",
      "\n"
     ]
    }
   ],
   "source": [
    "for i in range(0,5):\n",
    "    print(\"{}, {}\\n\".format(features[i], label[i]))"
   ]
  },
  {
   "cell_type": "code",
   "execution_count": 7,
   "metadata": {},
   "outputs": [],
   "source": [
    "model = Sequential()\n",
    "model.add(Bidirectional(LSTM(256,\n",
    "                        input_shape=(n_steps, n_features))))\n",
    "model.add(Dense(1))"
   ]
  },
  {
   "cell_type": "code",
   "execution_count": 8,
   "metadata": {},
   "outputs": [
    {
     "name": "stdout",
     "output_type": "stream",
     "text": [
      "WARNING:tensorflow:From C:\\Users\\user.LAPTOP-NLNGJ1MG\\Anaconda3\\lib\\site-packages\\tensorflow\\python\\framework\\op_def_library.py:263: colocate_with (from tensorflow.python.framework.ops) is deprecated and will be removed in a future version.\n",
      "Instructions for updating:\n",
      "Colocations handled automatically by placer.\n"
     ]
    }
   ],
   "source": [
    "model.compile(optimizer=Adam(lr=1e-3), \n",
    "              loss='mean_absolute_error', \n",
    "              metrics=['mae', 'mse'], )"
   ]
  },
  {
   "cell_type": "code",
   "execution_count": 9,
   "metadata": {
    "scrolled": false
   },
   "outputs": [
    {
     "name": "stdout",
     "output_type": "stream",
     "text": [
      "WARNING:tensorflow:From C:\\Users\\user.LAPTOP-NLNGJ1MG\\Anaconda3\\lib\\site-packages\\tensorflow\\python\\ops\\math_ops.py:3066: to_int32 (from tensorflow.python.ops.math_ops) is deprecated and will be removed in a future version.\n",
      "Instructions for updating:\n",
      "Use tf.cast instead.\n",
      "Epoch 1/10\n",
      "921/921 [==============================] - 2s 2ms/step - loss: 5.5014 - mean_absolute_error: 5.5014 - mean_squared_error: 36.1222\n",
      "Epoch 2/10\n",
      "921/921 [==============================] - 0s 319us/step - loss: 2.3123 - mean_absolute_error: 2.3123 - mean_squared_error: 8.0986\n",
      "Epoch 3/10\n",
      "921/921 [==============================] - 0s 329us/step - loss: 1.3546 - mean_absolute_error: 1.3546 - mean_squared_error: 3.0274\n",
      "Epoch 4/10\n",
      "921/921 [==============================] - 0s 350us/step - loss: 1.3263 - mean_absolute_error: 1.3263 - mean_squared_error: 2.8865\n",
      "Epoch 5/10\n",
      "921/921 [==============================] - 0s 339us/step - loss: 1.3239 - mean_absolute_error: 1.3239 - mean_squared_error: 2.8736\n",
      "Epoch 6/10\n",
      "921/921 [==============================] - 0s 328us/step - loss: 1.3234 - mean_absolute_error: 1.3234 - mean_squared_error: 2.8723\n",
      "Epoch 7/10\n",
      "921/921 [==============================] - 0s 340us/step - loss: 1.3234 - mean_absolute_error: 1.3234 - mean_squared_error: 2.8700\n",
      "Epoch 8/10\n",
      "921/921 [==============================] - 0s 344us/step - loss: 1.3245 - mean_absolute_error: 1.3245 - mean_squared_error: 2.8707\n",
      "Epoch 9/10\n",
      "921/921 [==============================] - 0s 355us/step - loss: 1.3248 - mean_absolute_error: 1.3248 - mean_squared_error: 2.8746\n",
      "Epoch 10/10\n",
      "921/921 [==============================] - 0s 331us/step - loss: 1.3232 - mean_absolute_error: 1.3232 - mean_squared_error: 2.8601\n"
     ]
    }
   ],
   "source": [
    "history = model.fit(features,\n",
    "                    label,\n",
    "                    epochs=10, \n",
    "                    verbose=1)"
   ]
  },
  {
   "cell_type": "code",
   "execution_count": 10,
   "metadata": {},
   "outputs": [
    {
     "data": {
      "text/plain": [
       "dict_keys(['loss', 'mean_absolute_error', 'mean_squared_error'])"
      ]
     },
     "execution_count": 10,
     "metadata": {},
     "output_type": "execute_result"
    }
   ],
   "source": [
    "history.history.keys()"
   ]
  },
  {
   "cell_type": "code",
   "execution_count": 11,
   "metadata": {
    "scrolled": true
   },
   "outputs": [
    {
     "data": {
      "image/png": "[encoded data removed]",
      "text/plain": [
       "<Figure size 432x288 with 1 Axes>"
      ]
     },
     "metadata": {
      "needs_background": "light"
     },
     "output_type": "display_data"
    }
   ],
   "source": [
    "overfitting_plot(history)"
   ]
  },
  {
   "cell_type": "code",
   "execution_count": 12,
   "metadata": {},
   "outputs": [],
   "source": [
    "features_test, label_test = split_sequence(et0_test.values, n_steps)\n",
    "features_test = features_test.reshape((features_test.shape[0], features_test.shape[1], n_features))"
   ]
  },
  {
   "cell_type": "code",
   "execution_count": 13,
   "metadata": {},
   "outputs": [
    {
     "name": "stdout",
     "output_type": "stream",
     "text": [
      "230/230 [==============================] - 0s 1ms/step\n"
     ]
    },
    {
     "data": {
      "text/plain": [
       "[1.354848469858584, 1.354848469858584, 3.0221114884252134]"
      ]
     },
     "execution_count": 13,
     "metadata": {},
     "output_type": "execute_result"
    }
   ],
   "source": [
    "model.evaluate(features_test, label_test)"
   ]
  },
  {
   "cell_type": "code",
   "execution_count": 14,
   "metadata": {},
   "outputs": [
    {
     "data": {
      "text/plain": [
       "1.7384221260744508"
      ]
     },
     "execution_count": 14,
     "metadata": {},
     "output_type": "execute_result"
    }
   ],
   "source": [
    "np.sqrt(3.0221114884252134)"
   ]
  },
  {
   "cell_type": "code",
   "execution_count": 11,
   "metadata": {},
   "outputs": [],
   "source": []
  },
  {
   "cell_type": "code",
   "execution_count": null,
   "metadata": {},
   "outputs": [],
   "source": []
  }
 ],
 "metadata": {
  "kernelspec": {
   "display_name": "Python 3",
   "language": "python",
   "name": "python3"
  },
  "language_info": {
   "codemirror_mode": {
    "name": "ipython",
    "version": 3
   },
   "file_extension": ".py",
   "mimetype": "text/x-python",
   "name": "python",
   "nbconvert_exporter": "python",
   "pygments_lexer": "ipython3",
   "version": "3.7.1"
  },
  "toc": {
   "base_numbering": 1,
   "nav_menu": {},
   "number_sections": true,
   "sideBar": true,
   "skip_h1_title": false,
   "title_cell": "Table of Contents",
   "title_sidebar": "Contents",
   "toc_cell": false,
   "toc_position": {},
   "toc_section_display": true,
   "toc_window_display": false
  }
 },
 "nbformat": 4,
 "nbformat_minor": 2
}
