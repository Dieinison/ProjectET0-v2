{
 "cells": [
  {
   "cell_type": "markdown",
   "metadata": {},
   "source": [
    "### Bidiretional LSTM for Time Series Forecasting\n",
    "\n",
    "Libs required:"
   ]
  },
  {
   "cell_type": "code",
   "execution_count": 1,
   "metadata": {
    "scrolled": true
   },
   "outputs": [
    {
     "name": "stderr",
     "output_type": "stream",
     "text": [
      "Using TensorFlow backend.\n"
     ]
    }
   ],
   "source": [
    "%matplotlib inline\n",
    "\n",
    "import numpy as np\n",
    "import pandas as pd\n",
    "import matplotlib.pyplot as plt\n",
    "\n",
    "from keras.optimizers import Adam\n",
    "from keras.models import Sequential\n",
    "from keras.preprocessing import sequence\n",
    "from keras.layers import Dense, LSTM, Bidirectional\n",
    "\n",
    "plt.style.use('ggplot')\n",
    "plt.rcParams['figure.figsize'] = (10,4)"
   ]
  },
  {
   "cell_type": "code",
   "execution_count": 2,
   "metadata": {},
   "outputs": [],
   "source": [
    "et0_train = pd.read_csv('./data/label_train.csv')\n",
    "et0_val = pd.read_csv('./data/label_val.csv')\n",
    "\n",
    "et0_train_ = pd.read_csv('./data/label_train_.csv')\n",
    "et0_test = pd.read_csv('./data/label_test.csv')"
   ]
  },
  {
   "cell_type": "code",
   "execution_count": 3,
   "metadata": {},
   "outputs": [],
   "source": [
    "def split_sequence(sequence, n_steps):\n",
    "    X, y = list(), list()\n",
    "    for i in range(len(sequence)):\n",
    "        end_ix = i + n_steps\n",
    "        if end_ix > len(sequence)-1:\n",
    "            break\n",
    "        seq_x, seq_y = sequence[i:end_ix], sequence[end_ix]\n",
    "        X.append(seq_x)\n",
    "        y.append(seq_y)\n",
    "    return np.array(X), np.array(y)"
   ]
  },
  {
   "cell_type": "code",
   "execution_count": 4,
   "metadata": {},
   "outputs": [],
   "source": [
    "def overfitting_plot(history):\n",
    "    loss = history.history['loss']\n",
    "    \n",
    "    epochs = range(1, len(loss) + 1)\n",
    "    \n",
    "    plt.figure()\n",
    "    plt.plot(epochs, loss, 'b', label='Training loss')\n",
    "    plt.title('Training loss')\n",
    "    plt.legend(loc='best')"
   ]
  },
  {
   "cell_type": "code",
   "execution_count": 5,
   "metadata": {},
   "outputs": [],
   "source": [
    "n_steps = 3\n",
    "n_features = 1\n",
    "\n",
    "features, label = split_sequence(et0_train_.values, n_steps)\n",
    "features = features.reshape((features.shape[0], features.shape[1], n_features))"
   ]
  },
  {
   "cell_type": "code",
   "execution_count": 6,
   "metadata": {},
   "outputs": [
    {
     "name": "stdout",
     "output_type": "stream",
     "text": [
      "[[6.95434295]\n",
      " [9.08150375]\n",
      " [9.0281699 ]], [7.93418562]\n",
      "\n",
      "[[9.08150375]\n",
      " [9.0281699 ]\n",
      " [7.93418562]], [7.70423053]\n",
      "\n",
      "[[9.0281699 ]\n",
      " [7.93418562]\n",
      " [7.70423053]], [5.19487979]\n",
      "\n",
      "[[7.93418562]\n",
      " [7.70423053]\n",
      " [5.19487979]], [5.58889656]\n",
      "\n",
      "[[7.70423053]\n",
      " [5.19487979]\n",
      " [5.58889656]], [3.37520442]\n",
      "\n"
     ]
    }
   ],
   "source": [
    "for i in range(0,5):\n",
    "    print(\"{}, {}\\n\".format(features[i], label[i]))"
   ]
  },
  {
   "cell_type": "code",
   "execution_count": 7,
   "metadata": {},
   "outputs": [],
   "source": [
    "model = Sequential()\n",
    "model.add(Bidirectional(LSTM(256,\n",
    "                             return_sequences=True,\n",
    "                        input_shape=(n_steps, n_features))))\n",
    "\n",
    "#model.add(Bidirectional(LSTM(256, return_sequences=True)))\n",
    "#model.add(Bidirectional(LSTM(256, return_sequences=True)))\n",
    "model.add(Bidirectional(LSTM(256)))\n",
    "model.add(Dense(1))"
   ]
  },
  {
   "cell_type": "code",
   "execution_count": 8,
   "metadata": {},
   "outputs": [],
   "source": [
    "model.compile(optimizer=Adam(lr=1e-3), \n",
    "              loss='mean_absolute_error', \n",
    "              metrics=['mae', 'mse'], )"
   ]
  },
  {
   "cell_type": "code",
   "execution_count": 9,
   "metadata": {
    "scrolled": false
   },
   "outputs": [
    {
     "name": "stdout",
     "output_type": "stream",
     "text": [
      "Epoch 1/30\n",
      "919/919 [==============================] - 5s 5ms/step - loss: 2.2023 - mae: 2.2023 - mse: 8.4213\n",
      "Epoch 2/30\n",
      "919/919 [==============================] - 1s 1ms/step - loss: 1.3996 - mae: 1.3996 - mse: 3.1423\n",
      "Epoch 3/30\n",
      "919/919 [==============================] - 1s 1ms/step - loss: 1.3940 - mae: 1.3940 - mse: 3.1769\n",
      "Epoch 4/30\n",
      "919/919 [==============================] - 1s 1ms/step - loss: 1.3670 - mae: 1.3670 - mse: 3.0224\n",
      "Epoch 5/30\n",
      "919/919 [==============================] - 1s 1ms/step - loss: 1.3367 - mae: 1.3367 - mse: 2.9448\n",
      "Epoch 6/30\n",
      "919/919 [==============================] - 1s 1ms/step - loss: 1.3005 - mae: 1.3005 - mse: 2.7887\n",
      "Epoch 7/30\n",
      "919/919 [==============================] - 1s 1ms/step - loss: 1.2884 - mae: 1.2884 - mse: 2.7177\n",
      "Epoch 8/30\n",
      "919/919 [==============================] - 1s 1ms/step - loss: 1.2765 - mae: 1.2765 - mse: 2.6590\n",
      "Epoch 9/30\n",
      "919/919 [==============================] - 1s 1ms/step - loss: 1.2910 - mae: 1.2910 - mse: 2.7290\n",
      "Epoch 10/30\n",
      "919/919 [==============================] - 1s 1ms/step - loss: 1.3654 - mae: 1.3654 - mse: 3.0015\n",
      "Epoch 11/30\n",
      "919/919 [==============================] - 1s 1ms/step - loss: 1.2991 - mae: 1.2991 - mse: 2.7738\n",
      "Epoch 12/30\n",
      "919/919 [==============================] - 1s 1ms/step - loss: 1.3138 - mae: 1.3138 - mse: 2.7731\n",
      "Epoch 13/30\n",
      "919/919 [==============================] - 1s 1ms/step - loss: 1.2952 - mae: 1.2952 - mse: 2.7233\n",
      "Epoch 14/30\n",
      "919/919 [==============================] - 1s 1ms/step - loss: 1.3373 - mae: 1.3373 - mse: 2.8439\n",
      "Epoch 15/30\n",
      "919/919 [==============================] - 1s 1ms/step - loss: 1.3104 - mae: 1.3104 - mse: 2.7675\n",
      "Epoch 16/30\n",
      "919/919 [==============================] - 1s 1ms/step - loss: 1.2910 - mae: 1.2910 - mse: 2.6991\n",
      "Epoch 17/30\n",
      "919/919 [==============================] - 1s 1ms/step - loss: 1.2645 - mae: 1.2645 - mse: 2.6239\n",
      "Epoch 18/30\n",
      "919/919 [==============================] - 1s 1ms/step - loss: 1.3288 - mae: 1.3288 - mse: 2.8811\n",
      "Epoch 19/30\n",
      "919/919 [==============================] - 1s 1ms/step - loss: 1.3146 - mae: 1.3146 - mse: 2.7457\n",
      "Epoch 20/30\n",
      "919/919 [==============================] - 1s 2ms/step - loss: 1.2692 - mae: 1.2692 - mse: 2.6269\n",
      "Epoch 21/30\n",
      "919/919 [==============================] - 1s 1ms/step - loss: 1.2898 - mae: 1.2898 - mse: 2.7244\n",
      "Epoch 22/30\n",
      "919/919 [==============================] - 1s 1ms/step - loss: 1.2929 - mae: 1.2929 - mse: 2.7117\n",
      "Epoch 23/30\n",
      "919/919 [==============================] - 1s 1ms/step - loss: 1.2760 - mae: 1.2760 - mse: 2.6494\n",
      "Epoch 24/30\n",
      "919/919 [==============================] - 1s 1ms/step - loss: 1.2581 - mae: 1.2581 - mse: 2.5794\n",
      "Epoch 25/30\n",
      "919/919 [==============================] - 1s 1ms/step - loss: 1.2891 - mae: 1.2891 - mse: 2.6850\n",
      "Epoch 26/30\n",
      "919/919 [==============================] - 1s 2ms/step - loss: 1.2977 - mae: 1.2977 - mse: 2.7052\n",
      "Epoch 27/30\n",
      "919/919 [==============================] - 1s 1ms/step - loss: 1.2949 - mae: 1.2949 - mse: 2.7530\n",
      "Epoch 28/30\n",
      "919/919 [==============================] - 1s 1ms/step - loss: 1.3186 - mae: 1.3186 - mse: 2.8046\n",
      "Epoch 29/30\n",
      "919/919 [==============================] - 1s 1ms/step - loss: 1.2853 - mae: 1.2853 - mse: 2.6535\n",
      "Epoch 30/30\n",
      "919/919 [==============================] - 1s 1ms/step - loss: 1.2880 - mae: 1.2880 - mse: 2.6867\n"
     ]
    }
   ],
   "source": [
    "history = model.fit(features,\n",
    "                    label,\n",
    "                    epochs=30, \n",
    "                    verbose=1)"
   ]
  },
  {
   "cell_type": "code",
   "execution_count": 10,
   "metadata": {},
   "outputs": [
    {
     "data": {
      "text/plain": [
       "dict_keys(['loss', 'mae', 'mse'])"
      ]
     },
     "execution_count": 10,
     "metadata": {},
     "output_type": "execute_result"
    }
   ],
   "source": [
    "history.history.keys()"
   ]
  },
  {
   "cell_type": "code",
   "execution_count": 11,
   "metadata": {
    "scrolled": true
   },
   "outputs": [
    {
     "data": {
      "image/png": "[encoded data removed]",
      "text/plain": [
       "<Figure size 720x288 with 1 Axes>"
      ]
     },
     "metadata": {},
     "output_type": "display_data"
    }
   ],
   "source": [
    "overfitting_plot(history)"
   ]
  },
  {
   "cell_type": "code",
   "execution_count": 12,
   "metadata": {},
   "outputs": [],
   "source": [
    "features_test, label_test = split_sequence(et0_test.values, n_steps)\n",
    "features_test = features_test.reshape((features_test.shape[0], features_test.shape[1], n_features))"
   ]
  },
  {
   "cell_type": "code",
   "execution_count": 13,
   "metadata": {},
   "outputs": [
    {
     "name": "stdout",
     "output_type": "stream",
     "text": [
      "228/228 [==============================] - 0s 2ms/step\n"
     ]
    },
    {
     "data": {
      "text/plain": [
       "[1.3142708707274051, 1.3142709732055664, 2.886808395385742]"
      ]
     },
     "execution_count": 13,
     "metadata": {},
     "output_type": "execute_result"
    }
   ],
   "source": [
    "model.evaluate(features_test, label_test)"
   ]
  },
  {
   "cell_type": "code",
   "execution_count": 14,
   "metadata": {},
   "outputs": [
    {
     "data": {
      "text/plain": [
       "1.699061033449282"
      ]
     },
     "execution_count": 14,
     "metadata": {},
     "output_type": "execute_result"
    }
   ],
   "source": [
    "np.sqrt(2.886808395385742)"
   ]
  },
  {
   "cell_type": "code",
   "execution_count": null,
   "metadata": {},
   "outputs": [],
   "source": []
  },
  {
   "cell_type": "code",
   "execution_count": null,
   "metadata": {},
   "outputs": [],
   "source": []
  },
  {
   "cell_type": "code",
   "execution_count": null,
   "metadata": {},
   "outputs": [],
   "source": []
  },
  {
   "cell_type": "code",
   "execution_count": null,
   "metadata": {},
   "outputs": [],
   "source": []
  },
  {
   "cell_type": "code",
   "execution_count": null,
   "metadata": {},
   "outputs": [],
   "source": []
  }
 ],
 "metadata": {
  "kernelspec": {
   "display_name": "Python 3",
   "language": "python",
   "name": "python3"
  },
  "language_info": {
   "codemirror_mode": {
    "name": "ipython",
    "version": 3
   },
   "file_extension": ".py",
   "mimetype": "text/x-python",
   "name": "python",
   "nbconvert_exporter": "python",
   "pygments_lexer": "ipython3",
   "version": "3.6.9"
  },
  "toc": {
   "base_numbering": 1,
   "nav_menu": {},
   "number_sections": true,
   "sideBar": true,
   "skip_h1_title": false,
   "title_cell": "Table of Contents",
   "title_sidebar": "Contents",
   "toc_cell": false,
   "toc_position": {},
   "toc_section_display": true,
   "toc_window_display": false
  }
 },
 "nbformat": 4,
 "nbformat_minor": 2
}
