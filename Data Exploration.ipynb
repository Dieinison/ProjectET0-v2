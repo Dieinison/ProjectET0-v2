{
 "cells": [
  {
   "cell_type": "code",
   "execution_count": 7,
   "metadata": {},
   "outputs": [],
   "source": [
    "import pandas as pd\n",
    "from pyod.models.ocsvm import OCSVM\n",
    "from pyod.models.knn import KNN"
   ]
  },
  {
   "cell_type": "code",
   "execution_count": 8,
   "metadata": {},
   "outputs": [],
   "source": [
    "features = pd.read_pickle('./dataset/features.pkl')"
   ]
  },
  {
   "cell_type": "code",
   "execution_count": 5,
   "metadata": {},
   "outputs": [],
   "source": [
    "outlier_fraction = 0.1"
   ]
  },
  {
   "cell_type": "code",
   "execution_count": 6,
   "metadata": {},
   "outputs": [],
   "source": [
    "classifiers = {\n",
    "    'One class SVM Outlier Detector (OCSVM)' : OCSVM(contamination=outlier_fraction),\n",
    "    'K Nearest Neighbors (KNN)' : KNN(contamination=outlier_fraction)\n",
    "}"
   ]
  },
  {
   "cell_type": "code",
   "execution_count": null,
   "metadata": {},
   "outputs": [],
   "source": [
    "#set the figure size\n",
    "plt.figure(figsize=(10, 10))\n",
    "\n",
    "for i, (clf_name,clf) in enumerate(classifiers.items()) :\n",
    "    # fit the dataset to the model\n",
    "    clf.fit(features)\n",
    "\n",
    "    # predict raw anomaly score\n",
    "    scores_pred = clf.decision_function(features)*-1\n",
    "\n",
    "    # prediction of a datapoint category outlier or inlier\n",
    "    y_pred = clf.predict(X_train)\n",
    "\n",
    "    # no of errors in prediction\n",
    "    n_errors = (y_pred != Y_train).sum()\n",
    "    print('No of Errors : ',clf_name, n_errors)\n",
    "\n",
    "    # rest of the code is to create the visualization\n",
    "\n",
    "    # threshold value to consider a datapoint inlier or outlier\n",
    "    threshold = stats.scoreatpercentile(scores_pred,100 *outlier_fraction)\n",
    "\n",
    "    # decision function calculates the raw anomaly score for every point\n",
    "    Z = clf.decision_function(np.c_[xx.ravel(), yy.ravel()]) * -1\n",
    "    Z = Z.reshape(xx.shape)\n",
    "\n",
    "    subplot = plt.subplot(1, 2, i + 1)\n",
    "\n",
    "    # fill blue colormap from minimum anomaly score to threshold value\n",
    "    subplot.contourf(xx, yy, Z, levels = np.linspace(Z.min(), threshold, 10),cmap=plt.cm.Blues_r)\n",
    "\n",
    "    # draw red contour line where anomaly score is equal to threshold\n",
    "    a = subplot.contour(xx, yy, Z, levels=[threshold],linewidths=2, colors='red')\n",
    "\n",
    "    # fill orange contour lines where range of anomaly score is from threshold to maximum anomaly score\n",
    "    subplot.contourf(xx, yy, Z, levels=[threshold, Z.max()],colors='orange')\n",
    "\n",
    "    # scatter plot of inliers with white dots\n",
    "    b = subplot.scatter(X_train[:-n_outliers, 0], X_train[:-n_outliers, 1], c='white',s=20, edgecolor='k') \n",
    "    # scatter plot of outliers with black dots\n",
    "    c = subplot.scatter(X_train[-n_outliers:, 0], X_train[-n_outliers:, 1], c='black',s=20, edgecolor='k')\n",
    "    subplot.axis('tight')\n",
    "\n",
    "    subplot.legend(\n",
    "        [a.collections[0], b, c],\n",
    "        ['learned decision function', 'true inliers', 'true outliers'],\n",
    "        prop=matplotlib.font_manager.FontProperties(size=10),\n",
    "        loc='lower right')\n",
    "\n",
    "    subplot.set_title(clf_name)\n",
    "    subplot.set_xlim((-10, 10))\n",
    "    subplot.set_ylim((-10, 10))\n",
    "plt.show() "
   ]
  },
  {
   "cell_type": "code",
   "execution_count": null,
   "metadata": {},
   "outputs": [],
   "source": []
  },
  {
   "cell_type": "code",
   "execution_count": null,
   "metadata": {},
   "outputs": [],
   "source": []
  },
  {
   "cell_type": "code",
   "execution_count": null,
   "metadata": {},
   "outputs": [],
   "source": []
  },
  {
   "cell_type": "code",
   "execution_count": null,
   "metadata": {},
   "outputs": [],
   "source": []
  }
 ],
 "metadata": {
  "kernelspec": {
   "display_name": "Python 3",
   "language": "python",
   "name": "python3"
  },
  "language_info": {
   "codemirror_mode": {
    "name": "ipython",
    "version": 3
   },
   "file_extension": ".py",
   "mimetype": "text/x-python",
   "name": "python",
   "nbconvert_exporter": "python",
   "pygments_lexer": "ipython3",
   "version": "3.6.8"
  },
  "toc": {
   "base_numbering": 1,
   "nav_menu": {},
   "number_sections": true,
   "sideBar": true,
   "skip_h1_title": false,
   "title_cell": "Table of Contents",
   "title_sidebar": "Contents",
   "toc_cell": false,
   "toc_position": {},
   "toc_section_display": true,
   "toc_window_display": false
  }
 },
 "nbformat": 4,
 "nbformat_minor": 2
}
