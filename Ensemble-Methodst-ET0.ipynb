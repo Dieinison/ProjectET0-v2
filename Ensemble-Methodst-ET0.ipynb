{
 "cells": [
  {
   "cell_type": "markdown",
   "metadata": {},
   "source": [
    "# Ensemble Tree methods for forecasting $ET_0$"
   ]
  },
  {
   "cell_type": "code",
   "execution_count": 1,
   "metadata": {},
   "outputs": [],
   "source": [
    "import pandas as pd\n",
    "import numpy as np\n",
    "\n",
    "from sklearn.ensemble import RandomForestRegressor\n",
    "from sklearn.ensemble import GradientBoostingRegressor\n",
    "from sklearn.model_selection import GridSearchCV\n",
    "\n",
    "from sklearn.metrics import mean_absolute_error, mean_squared_error\n",
    "\n",
    "import warnings\n",
    "warnings.filterwarnings('ignore')"
   ]
  },
  {
   "cell_type": "markdown",
   "metadata": {},
   "source": [
    "## Reading the data\n",
    "\n",
    "### Dataset I - Quixadá"
   ]
  },
  {
   "cell_type": "code",
   "execution_count": 2,
   "metadata": {},
   "outputs": [],
   "source": [
    "#features_train_dt_quixada = pd.read_csv('./data-quixada/features_treino.csv')\n",
    "#et0_train_dt_quixada = pd.read_csv('./data-quixada/et0_treino.csv')\n",
    "#features_val_dt_quixada = pd.read_csv('./data-quixada/features_val.csv')\n",
    "#et0_val_dt_quixada = pd.read_csv('./data-quixada/et0_val.csv')\n",
    "\n",
    "# et0_train_ = et0_train + et0_val\n",
    "features_train__dt_quixada = pd.read_csv('./data-quixada/features_treino_completo.csv')\n",
    "# et0_train_   = et0_train + et0_val\n",
    "et0_train__dt_quixada = pd.read_csv('./data-quixada/et0_treino_completo.csv')\n",
    "\n",
    "features_test_dt_quixada = pd.read_csv('./data-quixada/features_teste.csv')\n",
    "et0_test_dt_quixada = pd.read_csv('./data-quixada/et0_teste.csv')"
   ]
  },
  {
   "cell_type": "code",
   "execution_count": 3,
   "metadata": {},
   "outputs": [],
   "source": [
    "features_train__dt_quixada.drop(columns=['data'], inplace=True)\n",
    "et0_train__dt_quixada.drop(columns=['data'], inplace=True)\n",
    "features_test_dt_quixada.drop(columns=['data'], inplace=True)\n",
    "et0_test_dt_quixada.drop(columns=['data'], inplace=True)"
   ]
  },
  {
   "cell_type": "markdown",
   "metadata": {},
   "source": [
    "### Dataset II - Quixeramobin"
   ]
  },
  {
   "cell_type": "code",
   "execution_count": 4,
   "metadata": {},
   "outputs": [],
   "source": [
    "#features_train_dt_quixeramobim = pd.read_csv('./data/features_train.csv')\n",
    "#et0_train_dt_quixeramobim = pd.read_csv('./data/label_train.csv')\n",
    "#features_val_dt_quixeramobim = pd.read_csv('./data/features_val.csv')\n",
    "#et0_val_dt_quixeramobim = pd.read_csv('./data/label_val.csv')\n",
    "\n",
    "# features_train_ = features_train + features_val\n",
    "features_train__dt_quixeramobim = pd.read_csv('./data/features_train_.csv')\n",
    "# et0_train_   = et0_train + et0_val\n",
    "et0_train__dt_quixeramobim = pd.read_csv('./data/label_train_.csv')\n",
    "\n",
    "features_test_dt_quixeramobim = pd.read_csv('./data/features_test.csv')\n",
    "et0_test_dt_quixeramobim = pd.read_csv('./data/label_test.csv')"
   ]
  },
  {
   "cell_type": "markdown",
   "metadata": {},
   "source": [
    "### Grid Search"
   ]
  },
  {
   "cell_type": "code",
   "execution_count": 5,
   "metadata": {},
   "outputs": [],
   "source": [
    "model_rf = RandomForestRegressor(random_state=42)\n",
    "model_gb = GradientBoostingRegressor(random_state=42)"
   ]
  },
  {
   "cell_type": "code",
   "execution_count": 6,
   "metadata": {},
   "outputs": [],
   "source": [
    "#random forest\n",
    "n_estimators_rf = [20, 30, 40, 50, 60, 70, 80, 90, 100, 200, 300]\n",
    "max_depth_rf = [3, 5, 7, 9]\n",
    "\n",
    "parameters_random_forest = {\n",
    "    'n_estimators' : n_estimators_rf, \n",
    "    'max_depth': max_depth_rf\n",
    "}\n",
    "\n",
    "#gradient boosting\n",
    "\n",
    "n_estimators_gb = [20, 30, 40, 50, 60, 70, 80, 90, 100, ]\n",
    "max_depth_gb = [3, 5, 7, 9]\n",
    "learning_rate_gb = [0.05, 0.1, 0.15, 0.2]\n",
    "\n",
    "parameters_gradient_boosting = {\n",
    "    'n_estimators': n_estimators_gb,\n",
    "    'max_depth': max_depth_gb,\n",
    "    'learning_rate': learning_rate_gb\n",
    "}"
   ]
  },
  {
   "cell_type": "markdown",
   "metadata": {},
   "source": [
    "#### Grid Search over Dataset Quixadá"
   ]
  },
  {
   "cell_type": "code",
   "execution_count": 7,
   "metadata": {},
   "outputs": [],
   "source": [
    "grid_search_rf = GridSearchCV(estimator = model_rf, \n",
    "                              param_grid = parameters_random_forest, \n",
    "                              scoring='neg_mean_squared_error', \n",
    "                              cv=3)\n",
    "\n",
    "grid_search_gb = GridSearchCV(estimator = model_gb, \n",
    "                              param_grid = parameters_gradient_boosting,\n",
    "                              scoring='neg_mean_squared_error', \n",
    "                              cv=3)"
   ]
  },
  {
   "cell_type": "code",
   "execution_count": 8,
   "metadata": {},
   "outputs": [
    {
     "data": {
      "text/plain": [
       "GridSearchCV(cv=3, error_score=nan,\n",
       "             estimator=RandomForestRegressor(bootstrap=True, ccp_alpha=0.0,\n",
       "                                             criterion='mse', max_depth=None,\n",
       "                                             max_features='auto',\n",
       "                                             max_leaf_nodes=None,\n",
       "                                             max_samples=None,\n",
       "                                             min_impurity_decrease=0.0,\n",
       "                                             min_impurity_split=None,\n",
       "                                             min_samples_leaf=1,\n",
       "                                             min_samples_split=2,\n",
       "                                             min_weight_fraction_leaf=0.0,\n",
       "                                             n_estimators=100, n_jobs=None,\n",
       "                                             oob_score=False, random_state=42,\n",
       "                                             verbose=0, warm_start=False),\n",
       "             iid='deprecated', n_jobs=None,\n",
       "             param_grid={'max_depth': [3, 5, 7, 9],\n",
       "                         'n_estimators': [20, 30, 40, 50, 60, 70, 80, 90, 100]},\n",
       "             pre_dispatch='2*n_jobs', refit=True, return_train_score=False,\n",
       "             scoring='neg_mean_squared_error', verbose=0)"
      ]
     },
     "execution_count": 8,
     "metadata": {},
     "output_type": "execute_result"
    }
   ],
   "source": [
    "grid_search_rf.fit(features_train__dt_quixada, et0_train__dt_quixada)"
   ]
  },
  {
   "cell_type": "code",
   "execution_count": 9,
   "metadata": {
    "scrolled": true
   },
   "outputs": [
    {
     "name": "stdout",
     "output_type": "stream",
     "text": [
      "From Quixadá's datset, the Random Forest best hyperparameters are: \n",
      "\n",
      "{'max_depth': 7, 'n_estimators': 90}\n"
     ]
    }
   ],
   "source": [
    "print(\"From Quixadá's datset, the Random Forest best hyperparameters are: \\n\")\n",
    "print(grid_search_rf.best_params_)"
   ]
  },
  {
   "cell_type": "code",
   "execution_count": 10,
   "metadata": {},
   "outputs": [
    {
     "data": {
      "text/plain": [
       "GridSearchCV(cv=3, error_score=nan,\n",
       "             estimator=GradientBoostingRegressor(alpha=0.9, ccp_alpha=0.0,\n",
       "                                                 criterion='friedman_mse',\n",
       "                                                 init=None, learning_rate=0.1,\n",
       "                                                 loss='ls', max_depth=3,\n",
       "                                                 max_features=None,\n",
       "                                                 max_leaf_nodes=None,\n",
       "                                                 min_impurity_decrease=0.0,\n",
       "                                                 min_impurity_split=None,\n",
       "                                                 min_samples_leaf=1,\n",
       "                                                 min_samples_split=2,\n",
       "                                                 min_weight_fraction_leaf=0.0,\n",
       "                                                 n_estimators=100,\n",
       "                                                 n_iter_n...\n",
       "                                                 presort='deprecated',\n",
       "                                                 random_state=42, subsample=1.0,\n",
       "                                                 tol=0.0001,\n",
       "                                                 validation_fraction=0.1,\n",
       "                                                 verbose=0, warm_start=False),\n",
       "             iid='deprecated', n_jobs=None,\n",
       "             param_grid={'learning_rate': [0.05, 0.1, 0.15, 0.2],\n",
       "                         'max_depth': [3, 5, 7, 9],\n",
       "                         'n_estimators': [20, 30, 40, 50, 60, 70, 80, 90, 100]},\n",
       "             pre_dispatch='2*n_jobs', refit=True, return_train_score=False,\n",
       "             scoring='neg_mean_squared_error', verbose=0)"
      ]
     },
     "execution_count": 10,
     "metadata": {},
     "output_type": "execute_result"
    }
   ],
   "source": [
    "grid_search_gb.fit(features_train__dt_quixada, et0_train__dt_quixada)"
   ]
  },
  {
   "cell_type": "code",
   "execution_count": 11,
   "metadata": {},
   "outputs": [
    {
     "name": "stdout",
     "output_type": "stream",
     "text": [
      "From Quixadá's dataset, the Gradient Boosting best hyperparameters are: \n",
      "\n",
      "{'learning_rate': 0.15, 'max_depth': 5, 'n_estimators': 60}\n"
     ]
    }
   ],
   "source": [
    "print(\"From Quixadá's dataset, the Gradient Boosting best hyperparameters are: \\n\")\n",
    "print(grid_search_gb.best_params_)"
   ]
  },
  {
   "cell_type": "markdown",
   "metadata": {},
   "source": [
    "#### Grid Search over Dataset Quixeramobim"
   ]
  },
  {
   "cell_type": "code",
   "execution_count": 12,
   "metadata": {},
   "outputs": [],
   "source": [
    "grid_search_rf = GridSearchCV(estimator = model_rf, \n",
    "                              param_grid = parameters_random_forest, \n",
    "                              scoring='neg_mean_squared_error', \n",
    "                              cv=3)\n",
    "\n",
    "grid_search_gb = GridSearchCV(estimator = model_gb, \n",
    "                              param_grid = parameters_gradient_boosting,\n",
    "                              scoring='neg_mean_squared_error', \n",
    "                              cv=3)"
   ]
  },
  {
   "cell_type": "code",
   "execution_count": 13,
   "metadata": {},
   "outputs": [
    {
     "data": {
      "text/plain": [
       "GridSearchCV(cv=3, error_score=nan,\n",
       "             estimator=RandomForestRegressor(bootstrap=True, ccp_alpha=0.0,\n",
       "                                             criterion='mse', max_depth=None,\n",
       "                                             max_features='auto',\n",
       "                                             max_leaf_nodes=None,\n",
       "                                             max_samples=None,\n",
       "                                             min_impurity_decrease=0.0,\n",
       "                                             min_impurity_split=None,\n",
       "                                             min_samples_leaf=1,\n",
       "                                             min_samples_split=2,\n",
       "                                             min_weight_fraction_leaf=0.0,\n",
       "                                             n_estimators=100, n_jobs=None,\n",
       "                                             oob_score=False, random_state=42,\n",
       "                                             verbose=0, warm_start=False),\n",
       "             iid='deprecated', n_jobs=None,\n",
       "             param_grid={'max_depth': [3, 5, 7, 9],\n",
       "                         'n_estimators': [20, 30, 40, 50, 60, 70, 80, 90, 100]},\n",
       "             pre_dispatch='2*n_jobs', refit=True, return_train_score=False,\n",
       "             scoring='neg_mean_squared_error', verbose=0)"
      ]
     },
     "execution_count": 13,
     "metadata": {},
     "output_type": "execute_result"
    }
   ],
   "source": [
    "grid_search_rf.fit(features_train__dt_quixeramobim, et0_train__dt_quixeramobim)"
   ]
  },
  {
   "cell_type": "code",
   "execution_count": 14,
   "metadata": {},
   "outputs": [
    {
     "name": "stdout",
     "output_type": "stream",
     "text": [
      "From Quixeramobim's datset, the Random Forest best hyperparameters are: \n",
      "\n",
      "{'max_depth': 9, 'n_estimators': 30}\n"
     ]
    }
   ],
   "source": [
    "print(\"From Quixeramobim's datset, the Random Forest best hyperparameters are: \\n\")\n",
    "print(grid_search_rf.best_params_)"
   ]
  },
  {
   "cell_type": "code",
   "execution_count": 15,
   "metadata": {},
   "outputs": [
    {
     "data": {
      "text/plain": [
       "GridSearchCV(cv=3, error_score=nan,\n",
       "             estimator=GradientBoostingRegressor(alpha=0.9, ccp_alpha=0.0,\n",
       "                                                 criterion='friedman_mse',\n",
       "                                                 init=None, learning_rate=0.1,\n",
       "                                                 loss='ls', max_depth=3,\n",
       "                                                 max_features=None,\n",
       "                                                 max_leaf_nodes=None,\n",
       "                                                 min_impurity_decrease=0.0,\n",
       "                                                 min_impurity_split=None,\n",
       "                                                 min_samples_leaf=1,\n",
       "                                                 min_samples_split=2,\n",
       "                                                 min_weight_fraction_leaf=0.0,\n",
       "                                                 n_estimators=100,\n",
       "                                                 n_iter_n...\n",
       "                                                 presort='deprecated',\n",
       "                                                 random_state=42, subsample=1.0,\n",
       "                                                 tol=0.0001,\n",
       "                                                 validation_fraction=0.1,\n",
       "                                                 verbose=0, warm_start=False),\n",
       "             iid='deprecated', n_jobs=None,\n",
       "             param_grid={'learning_rate': [0.05, 0.1, 0.15, 0.2],\n",
       "                         'max_depth': [3, 5, 7, 9],\n",
       "                         'n_estimators': [20, 30, 40, 50, 60, 70, 80, 90, 100]},\n",
       "             pre_dispatch='2*n_jobs', refit=True, return_train_score=False,\n",
       "             scoring='neg_mean_squared_error', verbose=0)"
      ]
     },
     "execution_count": 15,
     "metadata": {},
     "output_type": "execute_result"
    }
   ],
   "source": [
    "grid_search_gb.fit(features_train__dt_quixeramobim, et0_train__dt_quixeramobim)"
   ]
  },
  {
   "cell_type": "code",
   "execution_count": 16,
   "metadata": {},
   "outputs": [
    {
     "name": "stdout",
     "output_type": "stream",
     "text": [
      "From Quixeramobim's dataset, the Gradient Boosting best hyperparameters are: \n",
      "\n",
      "{'learning_rate': 0.1, 'max_depth': 5, 'n_estimators': 100}\n"
     ]
    }
   ],
   "source": [
    "print(\"From Quixeramobim's dataset, the Gradient Boosting best hyperparameters are: \\n\")\n",
    "print(grid_search_gb.best_params_)"
   ]
  },
  {
   "cell_type": "markdown",
   "metadata": {},
   "source": [
    "## Final Evalutation on Prediction Models"
   ]
  },
  {
   "cell_type": "markdown",
   "metadata": {},
   "source": [
    "1. Dataset Quixadá"
   ]
  },
  {
   "cell_type": "code",
   "execution_count": 17,
   "metadata": {},
   "outputs": [],
   "source": [
    "models = {}\n",
    "models['Random_Forest'] = {'model': RandomForestRegressor(\n",
    "    max_depth=7, \n",
    "    n_estimators=90,\n",
    "    random_state=42)}\n",
    "models['Gradient_Boosting'] = {'model': GradientBoostingRegressor(\n",
    "    learning_rate=0.15, \n",
    "    max_depth=5,\n",
    "    n_estimators=60,\n",
    "    random_state=42)}"
   ]
  },
  {
   "cell_type": "code",
   "execution_count": 18,
   "metadata": {},
   "outputs": [
    {
     "name": "stdout",
     "output_type": "stream",
     "text": [
      "processando Random_Forest...\n",
      "processando Gradient_Boosting...\n"
     ]
    }
   ],
   "source": [
    "for key in models:\n",
    "    print('processando {}...'.format(key))\n",
    "    models[key]['model'].fit(features_train__dt_quixada, et0_train__dt_quixada)\n",
    "    et0_pred = models[key]['model'].predict(features_test_dt_quixada)\n",
    "    models[key]['rmse'] = np.sqrt(mean_squared_error(et0_test_dt_quixada, et0_pred))\n",
    "    models[key]['mae'] = (mean_absolute_error(et0_test_dt_quixada, et0_pred))"
   ]
  },
  {
   "cell_type": "code",
   "execution_count": 19,
   "metadata": {},
   "outputs": [
    {
     "data": {
      "text/html": [
       "<div>\n",
       "<style scoped>\n",
       "    .dataframe tbody tr th:only-of-type {\n",
       "        vertical-align: middle;\n",
       "    }\n",
       "\n",
       "    .dataframe tbody tr th {\n",
       "        vertical-align: top;\n",
       "    }\n",
       "\n",
       "    .dataframe thead th {\n",
       "        text-align: right;\n",
       "    }\n",
       "</style>\n",
       "<table border=\"1\" class=\"dataframe\">\n",
       "  <thead>\n",
       "    <tr style=\"text-align: right;\">\n",
       "      <th></th>\n",
       "      <th>rmse</th>\n",
       "      <th>mae</th>\n",
       "    </tr>\n",
       "  </thead>\n",
       "  <tbody>\n",
       "    <tr>\n",
       "      <th>Random_Forest</th>\n",
       "      <td>0.00774661</td>\n",
       "      <td>0.00621343</td>\n",
       "    </tr>\n",
       "    <tr>\n",
       "      <th>Gradient_Boosting</th>\n",
       "      <td>0.00724261</td>\n",
       "      <td>0.00592777</td>\n",
       "    </tr>\n",
       "  </tbody>\n",
       "</table>\n",
       "</div>"
      ],
      "text/plain": [
       "                         rmse         mae\n",
       "Random_Forest      0.00774661  0.00621343\n",
       "Gradient_Boosting  0.00724261  0.00592777"
      ]
     },
     "execution_count": 19,
     "metadata": {},
     "output_type": "execute_result"
    }
   ],
   "source": [
    "df = pd.DataFrame(models)\n",
    "df_T = df.transpose()\n",
    "df_T[['rmse', 'mae']]"
   ]
  },
  {
   "cell_type": "markdown",
   "metadata": {},
   "source": [
    "2. Dataset Quixeramobim"
   ]
  },
  {
   "cell_type": "code",
   "execution_count": 20,
   "metadata": {},
   "outputs": [],
   "source": [
    "models = {}\n",
    "models['Random_Forest'] = {'model': RandomForestRegressor(\n",
    "    max_depth=9, \n",
    "    n_estimators=30,\n",
    "    random_state=42)}\n",
    "models['Gradient_Boosting'] = {'model': GradientBoostingRegressor(\n",
    "    learning_rate=0.1,\n",
    "    max_depth=5,\n",
    "    n_estimators=100,\n",
    "    random_state=42)}"
   ]
  },
  {
   "cell_type": "code",
   "execution_count": 21,
   "metadata": {},
   "outputs": [
    {
     "name": "stdout",
     "output_type": "stream",
     "text": [
      "processando Random_Forest...\n",
      "processando Gradient_Boosting...\n"
     ]
    }
   ],
   "source": [
    "for key in models:\n",
    "    print('processando {}...'.format(key))\n",
    "    models[key]['model'].fit(features_train__dt_quixeramobim, et0_train__dt_quixeramobim)\n",
    "    et0_pred = models[key]['model'].predict(features_test_dt_quixeramobim)\n",
    "    models[key]['rmse'] = np.sqrt(mean_squared_error(et0_test_dt_quixeramobim, et0_pred))\n",
    "    models[key]['mae'] = (mean_absolute_error(et0_test_dt_quixeramobim, et0_pred))"
   ]
  },
  {
   "cell_type": "code",
   "execution_count": 22,
   "metadata": {},
   "outputs": [
    {
     "data": {
      "text/html": [
       "<div>\n",
       "<style scoped>\n",
       "    .dataframe tbody tr th:only-of-type {\n",
       "        vertical-align: middle;\n",
       "    }\n",
       "\n",
       "    .dataframe tbody tr th {\n",
       "        vertical-align: top;\n",
       "    }\n",
       "\n",
       "    .dataframe thead th {\n",
       "        text-align: right;\n",
       "    }\n",
       "</style>\n",
       "<table border=\"1\" class=\"dataframe\">\n",
       "  <thead>\n",
       "    <tr style=\"text-align: right;\">\n",
       "      <th></th>\n",
       "      <th>rmse</th>\n",
       "      <th>mae</th>\n",
       "    </tr>\n",
       "  </thead>\n",
       "  <tbody>\n",
       "    <tr>\n",
       "      <th>Random_Forest</th>\n",
       "      <td>0.124894</td>\n",
       "      <td>0.0761464</td>\n",
       "    </tr>\n",
       "    <tr>\n",
       "      <th>Gradient_Boosting</th>\n",
       "      <td>0.10016</td>\n",
       "      <td>0.0681099</td>\n",
       "    </tr>\n",
       "  </tbody>\n",
       "</table>\n",
       "</div>"
      ],
      "text/plain": [
       "                       rmse        mae\n",
       "Random_Forest      0.124894  0.0761464\n",
       "Gradient_Boosting   0.10016  0.0681099"
      ]
     },
     "execution_count": 22,
     "metadata": {},
     "output_type": "execute_result"
    }
   ],
   "source": [
    "df = pd.DataFrame(models)\n",
    "df_T = df.transpose()\n",
    "df_T[['rmse', 'mae']]"
   ]
  },
  {
   "cell_type": "code",
   "execution_count": null,
   "metadata": {},
   "outputs": [],
   "source": []
  }
 ],
 "metadata": {
  "kernelspec": {
   "display_name": "Python 3",
   "language": "python",
   "name": "python3"
  },
  "language_info": {
   "codemirror_mode": {
    "name": "ipython",
    "version": 3
   },
   "file_extension": ".py",
   "mimetype": "text/x-python",
   "name": "python",
   "nbconvert_exporter": "python",
   "pygments_lexer": "ipython3",
   "version": "3.6.9"
  }
 },
 "nbformat": 4,
 "nbformat_minor": 2
}
