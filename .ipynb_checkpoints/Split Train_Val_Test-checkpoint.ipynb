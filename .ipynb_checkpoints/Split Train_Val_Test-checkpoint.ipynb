{
 "cells": [
  {
   "cell_type": "code",
   "execution_count": 6,
   "metadata": {},
   "outputs": [],
   "source": [
    "import pandas as pd"
   ]
  },
  {
   "cell_type": "code",
   "execution_count": 2,
   "metadata": {},
   "outputs": [],
   "source": [
    "features = pd.read_pickle('./dataset/features.pkl')\n",
    "label = pd.read_pickle('./dataset/label.pkl')"
   ]
  },
  {
   "cell_type": "code",
   "execution_count": 7,
   "metadata": {},
   "outputs": [],
   "source": [
    "features_norm = pd.read_pickle('./dataset/features_normalized.pkl')\n",
    "label_norm = pd.read_pickle('./dataset/label_normalized.pkl')"
   ]
  },
  {
   "cell_type": "markdown",
   "metadata": {},
   "source": [
    "### Splitting the completed TS"
   ]
  },
  {
   "cell_type": "code",
   "execution_count": 27,
   "metadata": {},
   "outputs": [],
   "source": [
    "features_train_ = features[\"2016-01-01\":\"2018-07-11\"]\n",
    "features_test = features[\"2018-07-12\":\"2019-02-26\"]\n",
    "features_train = features_train_[\"2016-01-01\":\"2018-01-07\"]\n",
    "features_val = features_train_[\"2018-01-08\":\"2018-07-11\"]\n",
    "\n",
    "label_train_ = label[\"2016-01-01\":\"2018-07-11\"]\n",
    "label_test = label[\"2018-07-12\":\"2019-02-26\"]\n",
    "label_train = label_train_[\"2016-01-01\":\"2018-01-07\"]\n",
    "label_val = label_train_[\"2018-01-08\":\"2018-07-11\"]"
   ]
  },
  {
   "cell_type": "code",
   "execution_count": 8,
   "metadata": {},
   "outputs": [],
   "source": [
    "features_norm_train_ = features_norm[\"2016-01-01\":\"2018-07-11\"]\n",
    "features_norm_test = features_norm[\"2018-07-12\":\"2019-02-26\"]\n",
    "features_norm_train = features_norm_train_[\"2016-01-01\":\"2018-01-07\"]\n",
    "features_norm_val = features_norm_train_[\"2018-01-08\":\"2018-07-11\"]\n",
    "\n",
    "label_norm_train_ = label_norm[\"2016-01-01\":\"2018-07-11\"]\n",
    "label_norm_test = label_norm[\"2018-07-12\":\"2019-02-26\"]\n",
    "label_norm_train = label_norm_train_[\"2016-01-01\":\"2018-01-07\"]\n",
    "label_norm_val = label_norm_train_[\"2018-01-08\":\"2018-07-11\"]"
   ]
  },
  {
   "cell_type": "markdown",
   "metadata": {},
   "source": [
    "### Saving"
   ]
  },
  {
   "cell_type": "code",
   "execution_count": 32,
   "metadata": {},
   "outputs": [],
   "source": [
    "features_train_.to_pickle(\"./dataset/completed_split/features_train_.pkl\")\n",
    "features_test.to_pickle(\"./dataset/completed_split/features_test.pkl\")\n",
    "features_train.to_pickle(\"./dataset/completed_split/features_train.pkl\")\n",
    "features_val.to_pickle(\"./dataset/completed_split/features_val.pkl\")\n",
    "\n",
    "label_train_.to_pickle(\"./dataset/completed_split/label_train_.pkl\")\n",
    "label_test.to_pickle(\"./dataset/completed_split/label_test.pkl\")\n",
    "label_train.to_pickle(\"./dataset/completed_split/label_train.pkl\")\n",
    "label_val.to_pickle(\"./dataset/completed_split/label_val.pkl\")"
   ]
  },
  {
   "cell_type": "code",
   "execution_count": 9,
   "metadata": {},
   "outputs": [],
   "source": [
    "features_norm_train_.to_pickle(\"./dataset/completed_split/normalized/features_norm_train_.pkl\")\n",
    "features_norm_test.to_pickle(\"./dataset/completed_split/normalized/features_norm_test.pkl\")\n",
    "features_norm_train.to_pickle(\"./dataset/completed_split/normalized/features_norm_train.pkl\")\n",
    "features_norm_val.to_pickle(\"./dataset/completed_split/normalized/features_norm_val.pkl\")\n",
    "\n",
    "label_norm_train_.to_pickle(\"./dataset/completed_split/normalized/label_norm_train_.pkl\")\n",
    "label_norm_test.to_pickle(\"./dataset/completed_split/normalized/label_norm_test.pkl\")\n",
    "label_norm_train.to_pickle(\"./dataset/completed_split/normalized/label_norm_train.pkl\")\n",
    "label_norm_val.to_pickle(\"./dataset/completed_split/normalized/label_norm_val.pkl\")"
   ]
  },
  {
   "cell_type": "markdown",
   "metadata": {},
   "source": [
    "### Splitting in seasons"
   ]
  },
  {
   "cell_type": "code",
   "execution_count": 46,
   "metadata": {},
   "outputs": [],
   "source": [
    "features_estacao_chuvosa_2016 = features[\"2016-02-01\":\"2016-05-31\"]\n",
    "features_estacao_chuvosa_2017 = features[\"2017-02-01\":\"2017-05-31\"]\n",
    "features_estacao_chuvosa_2018 = features[\"2018-02-01\":\"2018-05-31\"]\n",
    "features_estacao_chuvosa_2019 = features[\"2019-02-01\":\"2019-02-26\"]\n",
    "\n",
    "label_estacao_chuvosa_2016 = label[\"2016-02-01\":\"2016-05-31\"]\n",
    "label_estacao_chuvosa_2017 = label[\"2017-02-01\":\"2017-05-31\"]\n",
    "label_estacao_chuvosa_2018 = label[\"2018-02-01\":\"2018-05-31\"]\n",
    "label_estacao_chuvosa_2019 = label[\"2019-02-01\":\"2019-02-26\"]\n",
    "\n",
    "features_estacao_seca_2016 = features[\"2016-01-01\":\"2016-01-31\"]\n",
    "features_estacao_seca_2017 = features[\"2016-06-01\":\"2017-01-31\"]\n",
    "features_estacao_seca_2018 = features[\"2017-06-01\":\"2018-01-31\"]\n",
    "features_estacao_seca_2019 = features[\"2018-06-01\":\"2019-01-31\"]\n",
    "\n",
    "label_estacao_seca_2016 = label[\"2016-01-01\":\"2016-01-31\"]\n",
    "label_estacao_seca_2017 = label[\"2016-06-01\":\"2017-01-31\"]\n",
    "label_estacao_seca_2018 = label[\"2017-06-01\":\"2018-01-31\"]\n",
    "label_estacao_seca_2019 = label[\"2018-06-01\":\"2019-01-31\"]"
   ]
  },
  {
   "cell_type": "code",
   "execution_count": 47,
   "metadata": {},
   "outputs": [],
   "source": [
    "features_norm_estacao_chuvosa_2016 = features_norm['2016-02-01':'2016-05-31']\n",
    "features_norm_estacao_chuvosa_2017 = features_norm['2017-02-01':'2017-05-31']\n",
    "features_norm_estacao_chuvosa_2018 = features_norm['2018-02-01':'2018-05-31']\n",
    "features_norm_estacao_chuvosa_2019 = features_norm['2019-02-01':'2019-02-26']\n",
    "\n",
    "label_norm_estacao_chuvosa_2016 = label_norm['2016-02-01':'2016-05-31']\n",
    "label_norm_estacao_chuvosa_2017 = label_norm['2017-02-01':'2017-05-31']\n",
    "label_norm_estacao_chuvosa_2018 = label_norm['2018-02-01':'2018-05-31']\n",
    "label_norm_estacao_chuvosa_2019 = label_norm['2019-02-01':'2019-02-26']\n",
    "\n",
    "features_norm_estacao_seca_2016 = features_norm['2016-01-01':'2016-01-31']\n",
    "features_norm_estacao_seca_2017 = features_norm['2016-06-01':'2017-01-31']\n",
    "features_norm_estacao_seca_2018 = features_norm['2017-06-01':'2018-01-31']\n",
    "features_norm_estacao_seca_2019 = features_norm['2018-06-01':'2019-01-31']\n",
    "\n",
    "label_norm_estacao_seca_2016 = label_norm['2016-01-01':'2016-01-31']\n",
    "label_norm_estacao_seca_2017 = label_norm['2016-06-01':'2017-01-31']\n",
    "label_norm_estacao_seca_2018 = label_norm['2017-06-01':'2018-01-31']\n",
    "label_norm_estacao_seca_2019 = label_norm['2018-06-01':'2019-01-31']"
   ]
  },
  {
   "cell_type": "markdown",
   "metadata": {},
   "source": [
    "#### Quadra chuvosa"
   ]
  },
  {
   "cell_type": "code",
   "execution_count": 48,
   "metadata": {},
   "outputs": [],
   "source": [
    "df_features_estacao_chuvosa = [features_estacao_chuvosa_2016, \n",
    "                               features_estacao_chuvosa_2017,\n",
    "                               features_estacao_chuvosa_2018,\n",
    "                               features_estacao_chuvosa_2019]\n",
    "\n",
    "df_label_estacao_chuvosa = [label_estacao_chuvosa_2016, \n",
    "                            label_estacao_chuvosa_2017,\n",
    "                            label_estacao_chuvosa_2018,\n",
    "                            label_estacao_chuvosa_2019]\n",
    "\n",
    "df_features_norm_estacao_chuvosa = [features_norm_estacao_chuvosa_2016,\n",
    "                                    features_norm_estacao_chuvosa_2017,\n",
    "                                    features_norm_estacao_chuvosa_2018,\n",
    "                                    features_norm_estacao_chuvosa_2019]\n",
    "\n",
    "df_label_norm_estacao_chuvosa = [label_norm_estacao_chuvosa_2016, \n",
    "                                 label_norm_estacao_chuvosa_2017,\n",
    "                                 label_norm_estacao_chuvosa_2018,\n",
    "                                 label_norm_estacao_chuvosa_2019]"
   ]
  },
  {
   "cell_type": "code",
   "execution_count": 49,
   "metadata": {},
   "outputs": [],
   "source": [
    "features_estacao_chuvosa = pd.concat(df_features_estacao_chuvosa)\n",
    "label_estacao_chuvosa = pd.concat(df_label_estacao_chuvosa)\n",
    "\n",
    "features_norm_estacao_chuvosa = pd.concat(df_features_norm_estacao_chuvosa)\n",
    "label_norm_estacao_chuvosa = pd.concat(df_label_norm_estacao_chuvosa)"
   ]
  },
  {
   "cell_type": "code",
   "execution_count": 50,
   "metadata": {},
   "outputs": [],
   "source": [
    "features_estacao_chuvosa.to_pickle('./dataset/features_estacao_chuvosa.pkl')\n",
    "label_estacao_chuvosa.to_pickle('./dataset/label_estacao_chuvosa.pkl')\n",
    "\n",
    "features_norm_estacao_chuvosa.to_pickle('./dataset/features_norm_estacao_chuvosa.pkl')\n",
    "label_norm_estacao_chuvosa.to_pickle('./dataset/label_norm_estacao_chuvosa.pkl')"
   ]
  },
  {
   "cell_type": "markdown",
   "metadata": {},
   "source": [
    "#### Quadra de seca"
   ]
  },
  {
   "cell_type": "code",
   "execution_count": 54,
   "metadata": {},
   "outputs": [],
   "source": [
    "df_features_estacao_seca = [features_estacao_seca_2016,\n",
    "                            features_estacao_seca_2017,  \n",
    "                            features_estacao_seca_2018,\n",
    "                            features_estacao_seca_2019]\n",
    "\n",
    "df_label_estacao_seca = [label_estacao_seca_2016, \n",
    "                         label_estacao_seca_2017,\n",
    "                         label_estacao_seca_2018,\n",
    "                         label_estacao_seca_2019]\n",
    "\n",
    "df_features_norm_estacao_seca = [features_norm_estacao_seca_2016,\n",
    "                                 features_norm_estacao_seca_2017,\n",
    "                                 features_norm_estacao_seca_2018,\n",
    "                                 features_norm_estacao_seca_2019]\n",
    "\n",
    "df_label_norm_estacao_seca = [label_norm_estacao_seca_2016, \n",
    "                              label_norm_estacao_seca_2017,\n",
    "                              label_norm_estacao_seca_2018,\n",
    "                              label_norm_estacao_seca_2019]"
   ]
  },
  {
   "cell_type": "code",
   "execution_count": 55,
   "metadata": {},
   "outputs": [],
   "source": [
    "features_estacao_seca = pd.concat(df_features_estacao_seca)\n",
    "label_estacao_seca = pd.concat(df_label_estacao_seca)\n",
    "\n",
    "features_norm_estacao_seca = pd.concat(df_features_norm_estacao_seca)\n",
    "label_norm_estacao_seca = pd.concat(df_label_norm_estacao_seca)"
   ]
  },
  {
   "cell_type": "code",
   "execution_count": 56,
   "metadata": {},
   "outputs": [],
   "source": [
    "features_estacao_seca.to_pickle('./dataset/features_estacao_seca.pkl')\n",
    "label_estacao_seca.to_pickle('./dataset/label_estacao_seca.pkl')\n",
    "\n",
    "features_norm_estacao_seca.to_pickle('./dataset/features_norm_estacao_seca.pkl')\n",
    "label_norm_estacao_seca.to_pickle('./dataset/label_norm_estacao_seca.pkl')"
   ]
  },
  {
   "cell_type": "markdown",
   "metadata": {},
   "source": [
    "### Splitting the TS by wheather station"
   ]
  },
  {
   "cell_type": "markdown",
   "metadata": {},
   "source": [
    "Quantidade de tuplas após o split:\n",
    "\n",
    "- Estação chuva (total = 387)\n",
    "    - teste = 78\n",
    "    - treino = 309\n",
    "        - treino = 247\n",
    "        - valid   = 62\n",
    "\n",
    "- Estação seca (total = 766)\n",
    "    - teste = 153\n",
    "    - treino = 613\n",
    "        - treino = 491\n",
    "        - valid   = 122"
   ]
  },
  {
   "cell_type": "markdown",
   "metadata": {},
   "source": [
    "#### Estação Chuvosa"
   ]
  },
  {
   "cell_type": "code",
   "execution_count": 88,
   "metadata": {},
   "outputs": [],
   "source": [
    "features_chuva_train_ = features_estacao_chuvosa[\"2016-02-01\":\"2018-04-09\"]\n",
    "features_chuva_test = features_estacao_chuvosa[\"2018-04-10\":\"2019-02-26\"]\n",
    "features_chuva_train = features_chuva_train_[\"2016-02-01\":\"2018-02-06\"]\n",
    "features_chuva_val = features_chuva_train_[\"2018-02-07\":\"2018-04-09\"]\n",
    "\n",
    "label_chuva_train_ = label_estacao_chuvosa[\"2016-02-01\":\"2018-04-09\"]\n",
    "label_chuva_test = label_estacao_chuvosa[\"2018-04-10\":\"2019-02-26\"]\n",
    "label_chuva_train = label_chuva_train_[\"2016-02-01\":\"2018-02-06\"]\n",
    "label_chuva_val = label_chuva_train_[\"2018-02-07\":\"2018-04-09\"]"
   ]
  },
  {
   "cell_type": "code",
   "execution_count": 89,
   "metadata": {},
   "outputs": [],
   "source": [
    "features_norm_chuva_train_ = features_norm_estacao_chuvosa[\"2016-02-01\":\"2018-04-09\"]\n",
    "features_norm_chuva_test = features_norm_estacao_chuvosa[\"2018-04-10\":\"2019-02-26\"]\n",
    "features_norm_chuva_train = features_norm_chuva_train_[\"2016-02-01\":\"2018-02-06\"]\n",
    "features_norm_chuva_val = features_norm_chuva_train_[\"2018-02-07\":\"2018-04-09\"]\n",
    "\n",
    "label_norm_chuva_train_ = label_norm_estacao_chuvosa[\"2016-02-01\":\"2018-04-09\"]\n",
    "label_norm_chuva_test = label_norm_estacao_chuvosa[\"2018-04-10\":\"2019-02-26\"]\n",
    "label_norm_chuva_train = label_norm_chuva_train_[\"2016-02-01\":\"2018-02-06\"]\n",
    "label_norm_chuva_val = label_norm_chuva_train_[\"2018-02-07\":\"2018-04-09\"]"
   ]
  },
  {
   "cell_type": "code",
   "execution_count": 90,
   "metadata": {},
   "outputs": [],
   "source": [
    "features_chuva_train_.to_pickle(\"./dataset/rain_split/features_chuva_train_.pkl\")\n",
    "features_chuva_test.to_pickle(\"./dataset/rain_split/features_chuva_test.pkl\")\n",
    "features_chuva_train.to_pickle(\"./dataset/rain_split/features_chuva_train.pkl\")\n",
    "features_chuva_val.to_pickle(\"./dataset/rain_split/features_chuva_val.pkl\")\n",
    "\n",
    "label_chuva_train_.to_pickle(\"./dataset/rain_split/label_chuva_train_.pkl\")\n",
    "label_chuva_test.to_pickle(\"./dataset/rain_split/label_chuva_test.pkl\")\n",
    "label_chuva_train.to_pickle(\"./dataset/rain_split/label_chuva_train.pkl\")\n",
    "label_chuva_val.to_pickle(\"./dataset/rain_split/label_chuva_val.pkl\")"
   ]
  },
  {
   "cell_type": "code",
   "execution_count": 91,
   "metadata": {},
   "outputs": [],
   "source": [
    "features_norm_chuva_train_.to_pickle(\"./dataset/rain_split/normalized/features_norm_chuva_train_.pkl\")\n",
    "features_norm_chuva_test.to_pickle(\"./dataset/rain_split/normalized/features_norm_chuva_test.pkl\")\n",
    "features_norm_chuva_train.to_pickle(\"./dataset/rain_split/normalized/features_norm_chuva_train.pkl\")\n",
    "features_norm_chuva_val.to_pickle(\"./dataset/rain_split/normalized/features_norm_chuva_val.pkl\")\n",
    "\n",
    "label_norm_chuva_train_.to_pickle(\"./dataset/rain_split/normalized/label_norm_chuva_train_.pkl\")\n",
    "label_norm_chuva_test.to_pickle(\"./dataset/rain_split/normalized/label_norm_chuva_test.pkl\")\n",
    "label_norm_chuva_train.to_pickle(\"./dataset/rain_split/normalized/label_norm_chuva_train.pkl\")\n",
    "label_norm_chuva_val.to_pickle(\"./dataset/rain_split/normalized/label_norm_chuva_val.pkl\")"
   ]
  },
  {
   "cell_type": "markdown",
   "metadata": {},
   "source": [
    "#### Estação de seca"
   ]
  },
  {
   "cell_type": "code",
   "execution_count": 93,
   "metadata": {},
   "outputs": [],
   "source": [
    "features_seca_train_ = features_estacao_seca[\"2016-01-01\":\"2018-08-31\"]\n",
    "features_seca_test = features_estacao_seca[\"2018-09-01\":\"2019-01-31\"]\n",
    "features_seca_train = features_seca_train_[\"2016-01-01\":\"2018-01-01\"]\n",
    "features_seca_val = features_seca_train_[\"2018-01-02\":\"2018-08-31\"]\n",
    "\n",
    "label_seca_train_ = label_estacao_seca[\"2016-01-01\":\"2018-08-31\"]\n",
    "label_seca_test = label_estacao_seca[\"2018-09-01\":\"2019-01-31\"]\n",
    "label_seca_train = label_seca_train_[\"2016-01-01\":\"2018-01-01\"]\n",
    "label_seca_val = label_seca_train_[\"2018-01-02\":\"2018-08-31\"]"
   ]
  },
  {
   "cell_type": "code",
   "execution_count": 94,
   "metadata": {},
   "outputs": [],
   "source": [
    "features_norm_seca_train_ = features_norm_estacao_seca[\"2016-01-01\":\"2018-08-31\"]\n",
    "features_norm_seca_test = features_norm_estacao_seca[\"2018-09-01\":\"2019-01-31\"]\n",
    "features_norm_seca_train = features_norm_seca_train_[\"2016-01-01\":\"2018-01-01\"]\n",
    "features_norm_seca_val = features_norm_seca_train_[\"2018-01-02\":\"2018-08-31\"]\n",
    "\n",
    "label_norm_seca_train_ = label_norm_estacao_seca[\"2016-01-01\":\"2018-08-31\"]\n",
    "label_norm_seca_test = label_norm_estacao_seca[\"2018-09-01\":\"2019-01-31\"]\n",
    "label_norm_seca_train = label_norm_seca_train_[\"2016-01-01\":\"2018-01-01\"]\n",
    "label_norm_seca_val = label_norm_seca_train_[\"2018-01-02\":\"2018-08-31\"]"
   ]
  },
  {
   "cell_type": "code",
   "execution_count": 95,
   "metadata": {},
   "outputs": [],
   "source": [
    "features_seca_train_.to_pickle(\"./dataset/drought_split/features_seca_train_.pkl\")\n",
    "features_seca_test.to_pickle(\"./dataset/drought_split/features_seca_test.pkl\")\n",
    "features_seca_train.to_pickle(\"./dataset/drought_split/features_seca_train.pkl\")\n",
    "features_seca_val.to_pickle(\"./dataset/drought_split/features_seca_val.pkl\")\n",
    "\n",
    "label_seca_train_.to_pickle(\"./dataset/drought_split/label_seca_train_.pkl\")\n",
    "label_seca_test.to_pickle(\"./dataset/drought_split/label_seca_test.pkl\")\n",
    "label_seca_train.to_pickle(\"./dataset/drought_split/label_seca_train.pkl\")\n",
    "label_seca_val.to_pickle(\"./dataset/drought_split/label_seca_val.pkl\")"
   ]
  },
  {
   "cell_type": "code",
   "execution_count": 96,
   "metadata": {},
   "outputs": [],
   "source": [
    "features_norm_seca_train_.to_pickle(\"./dataset/drought_split/normalized/features_norm_seca_train_.pkl\")\n",
    "features_norm_seca_test.to_pickle(\"./dataset/drought_split/normalized/features_norm_seca_test.pkl\")\n",
    "features_norm_seca_train.to_pickle(\"./dataset/drought_split/normalized/features_norm_seca_train.pkl\")\n",
    "features_norm_seca_val.to_pickle(\"./dataset/drought_split/normalized/features_norm_seca_val.pkl\")\n",
    "\n",
    "label_norm_seca_train_.to_pickle(\"./dataset/drought_split/normalized/label_norm_seca_train_.pkl\")\n",
    "label_norm_seca_test.to_pickle(\"./dataset/drought_split/normalized/label_norm_seca_test.pkl\")\n",
    "label_norm_seca_train.to_pickle(\"./dataset/drought_split/normalized/label_norm_seca_train.pkl\")\n",
    "label_norm_seca_val.to_pickle(\"./dataset/drought_split/normalized/label_norm_seca_val.pkl\")"
   ]
  },
  {
   "cell_type": "code",
   "execution_count": null,
   "metadata": {},
   "outputs": [],
   "source": []
  }
 ],
 "metadata": {
  "kernelspec": {
   "display_name": "Python 3",
   "language": "python",
   "name": "python3"
  },
  "language_info": {
   "codemirror_mode": {
    "name": "ipython",
    "version": 3
   },
   "file_extension": ".py",
   "mimetype": "text/x-python",
   "name": "python",
   "nbconvert_exporter": "python",
   "pygments_lexer": "ipython3",
   "version": "3.7.1"
  },
  "toc": {
   "base_numbering": 1,
   "nav_menu": {},
   "number_sections": true,
   "sideBar": true,
   "skip_h1_title": false,
   "title_cell": "Table of Contents",
   "title_sidebar": "Contents",
   "toc_cell": false,
   "toc_position": {},
   "toc_section_display": true,
   "toc_window_display": false
  }
 },
 "nbformat": 4,
 "nbformat_minor": 2
}
