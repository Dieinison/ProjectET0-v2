{
 "cells": [
  {
   "cell_type": "markdown",
   "metadata": {},
   "source": [
    "# Data cleaning from meteorological data - Quixeramobim Station, Ceará, Brazil\n",
    "- This notebook present the data cleaning process process."
   ]
  },
  {
   "cell_type": "markdown",
   "metadata": {},
   "source": [
    "Libs required"
   ]
  },
  {
   "cell_type": "code",
   "execution_count": 9,
   "metadata": {},
   "outputs": [],
   "source": [
    "%matplotlib inline\n",
    "\n",
    "import numpy as np\n",
    "import pandas as pd\n",
    "import warnings\n",
    "\n",
    "import matplotlib.pyplot as plt\n",
    "\n",
    "from sklearn.preprocessing import MinMaxScaler\n",
    "\n",
    "plt.style.use('ggplot')\n",
    "plt.rcParams['figure.figsize'] = (12,8)\n",
    "warnings.filterwarnings('ignore')"
   ]
  },
  {
   "cell_type": "code",
   "execution_count": 10,
   "metadata": {},
   "outputs": [
    {
     "data": {
      "text/html": [
       "<div>\n",
       "<style scoped>\n",
       "    .dataframe tbody tr th:only-of-type {\n",
       "        vertical-align: middle;\n",
       "    }\n",
       "\n",
       "    .dataframe tbody tr th {\n",
       "        vertical-align: top;\n",
       "    }\n",
       "\n",
       "    .dataframe thead th {\n",
       "        text-align: right;\n",
       "    }\n",
       "</style>\n",
       "<table border=\"1\" class=\"dataframe\">\n",
       "  <thead>\n",
       "    <tr style=\"text-align: right;\">\n",
       "      <th></th>\n",
       "      <th>ARM</th>\n",
       "      <th>ETR</th>\n",
       "      <th>Deficit</th>\n",
       "      <th>Excedente</th>\n",
       "      <th>ETo</th>\n",
       "      <th>PRECIPITACAO</th>\n",
       "      <th>TEMPERATURA</th>\n",
       "    </tr>\n",
       "    <tr>\n",
       "      <th>DATA</th>\n",
       "      <th></th>\n",
       "      <th></th>\n",
       "      <th></th>\n",
       "      <th></th>\n",
       "      <th></th>\n",
       "      <th></th>\n",
       "      <th></th>\n",
       "    </tr>\n",
       "  </thead>\n",
       "  <tbody>\n",
       "    <tr>\n",
       "      <th>2016-01-01</th>\n",
       "      <td>2.948177e-07</td>\n",
       "      <td>2.864434e-08</td>\n",
       "      <td>6.954343</td>\n",
       "      <td>0.0</td>\n",
       "      <td>6.954343</td>\n",
       "      <td>0.0</td>\n",
       "      <td>28.9</td>\n",
       "    </tr>\n",
       "    <tr>\n",
       "      <th>2016-01-02</th>\n",
       "      <td>2.611958e-07</td>\n",
       "      <td>3.362185e-08</td>\n",
       "      <td>9.081504</td>\n",
       "      <td>0.0</td>\n",
       "      <td>9.081504</td>\n",
       "      <td>0.0</td>\n",
       "      <td>29.6</td>\n",
       "    </tr>\n",
       "    <tr>\n",
       "      <th>2016-01-03</th>\n",
       "      <td>2.334329e-07</td>\n",
       "      <td>6.000000e-01</td>\n",
       "      <td>8.428170</td>\n",
       "      <td>0.0</td>\n",
       "      <td>9.028170</td>\n",
       "      <td>0.6</td>\n",
       "      <td>29.2</td>\n",
       "    </tr>\n",
       "    <tr>\n",
       "      <th>2016-01-04</th>\n",
       "      <td>2.099996e-07</td>\n",
       "      <td>2.343332e-08</td>\n",
       "      <td>7.934186</td>\n",
       "      <td>0.0</td>\n",
       "      <td>7.934186</td>\n",
       "      <td>0.0</td>\n",
       "      <td>29.4</td>\n",
       "    </tr>\n",
       "    <tr>\n",
       "      <th>2016-01-05</th>\n",
       "      <td>1.894988e-07</td>\n",
       "      <td>2.050083e-08</td>\n",
       "      <td>7.704231</td>\n",
       "      <td>0.0</td>\n",
       "      <td>7.704231</td>\n",
       "      <td>0.0</td>\n",
       "      <td>29.8</td>\n",
       "    </tr>\n",
       "  </tbody>\n",
       "</table>\n",
       "</div>"
      ],
      "text/plain": [
       "                     ARM           ETR   Deficit  Excedente       ETo  \\\n",
       "DATA                                                                    \n",
       "2016-01-01  2.948177e-07  2.864434e-08  6.954343        0.0  6.954343   \n",
       "2016-01-02  2.611958e-07  3.362185e-08  9.081504        0.0  9.081504   \n",
       "2016-01-03  2.334329e-07  6.000000e-01  8.428170        0.0  9.028170   \n",
       "2016-01-04  2.099996e-07  2.343332e-08  7.934186        0.0  7.934186   \n",
       "2016-01-05  1.894988e-07  2.050083e-08  7.704231        0.0  7.704231   \n",
       "\n",
       "            PRECIPITACAO  TEMPERATURA  \n",
       "DATA                                   \n",
       "2016-01-01           0.0         28.9  \n",
       "2016-01-02           0.0         29.6  \n",
       "2016-01-03           0.6         29.2  \n",
       "2016-01-04           0.0         29.4  \n",
       "2016-01-05           0.0         29.8  "
      ]
     },
     "execution_count": 10,
     "metadata": {},
     "output_type": "execute_result"
    }
   ],
   "source": [
    "df = pd.read_excel('./dataset/original_dataset.xls')\n",
    "df['DATA'] = pd.to_datetime(df['DATA'], format='%d/%m/%Y').dt.floor('d')\n",
    "df.set_index('DATA', inplace=True)\n",
    "df.head(5)"
   ]
  },
  {
   "cell_type": "code",
   "execution_count": 11,
   "metadata": {},
   "outputs": [],
   "source": [
    "features = df[[c for c in df.columns if c != 'ETo']]\n",
    "label = df[['ETo']]"
   ]
  },
  {
   "cell_type": "code",
   "execution_count": 12,
   "metadata": {
    "scrolled": true
   },
   "outputs": [],
   "source": [
    "scaler = MinMaxScaler()\n",
    "features_scaled = scaler.fit_transform(features.values)\n",
    "features_normalized = pd.DataFrame(features_scaled, \n",
    "                                   index=features.index, \n",
    "                                   columns=features.columns)"
   ]
  },
  {
   "cell_type": "code",
   "execution_count": 14,
   "metadata": {},
   "outputs": [],
   "source": [
    "scaler = MinMaxScaler()\n",
    "label_scaled = scaler.fit_transform(label.values)\n",
    "label_normalized = pd.DataFrame(label_scaled,\n",
    "                                index=label.index,\n",
    "                                columns=label.columns)"
   ]
  },
  {
   "cell_type": "code",
   "execution_count": 15,
   "metadata": {},
   "outputs": [],
   "source": [
    "features.to_pickle('./dataset/features.pkl')\n",
    "label.to_pickle('./dataset/label.pkl')\n",
    "features_normalized.to_pickle('./dataset/features_normalized.pkl')\n",
    "label_normalized.to_pickle('./dataset/label_normalized.pkl')"
   ]
  },
  {
   "cell_type": "code",
   "execution_count": null,
   "metadata": {},
   "outputs": [],
   "source": []
  }
 ],
 "metadata": {
  "kernelspec": {
   "display_name": "Python 3",
   "language": "python",
   "name": "python3"
  },
  "language_info": {
   "codemirror_mode": {
    "name": "ipython",
    "version": 3
   },
   "file_extension": ".py",
   "mimetype": "text/x-python",
   "name": "python",
   "nbconvert_exporter": "python",
   "pygments_lexer": "ipython3",
   "version": "3.7.1"
  },
  "toc": {
   "base_numbering": 1,
   "nav_menu": {},
   "number_sections": true,
   "sideBar": true,
   "skip_h1_title": false,
   "title_cell": "Table of Contents",
   "title_sidebar": "Contents",
   "toc_cell": false,
   "toc_position": {},
   "toc_section_display": true,
   "toc_window_display": false
  }
 },
 "nbformat": 4,
 "nbformat_minor": 2
}
