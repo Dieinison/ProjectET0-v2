{
 "cells": [
  {
   "cell_type": "code",
   "execution_count": 1,
   "metadata": {},
   "outputs": [],
   "source": [
    "import pandas as pd\n",
    "import numpy as np"
   ]
  },
  {
   "cell_type": "code",
   "execution_count": 2,
   "metadata": {},
   "outputs": [],
   "source": [
    "features = pd.read_pickle('./dataset/features.pkl')\n",
    "label = pd.read_pickle('./dataset/label.pkl')"
   ]
  },
  {
   "cell_type": "markdown",
   "metadata": {},
   "source": [
    "### Splitting the completed TS"
   ]
  },
  {
   "cell_type": "code",
   "execution_count": null,
   "metadata": {},
   "outputs": [],
   "source": [
    "# treino 922\n",
    "# test 922 - 1153\n",
    "# treino_ 737\n",
    "# val 737 - 922"
   ]
  },
  {
   "cell_type": "code",
   "execution_count": 7,
   "metadata": {},
   "outputs": [],
   "source": [
    "len_train_ = int(np.floor(len(features)*0.8))\n",
    "\n",
    "features_train_ = features[:len_train_]\n",
    "features_test = features[len_train_:]\n",
    "\n",
    "len_train = int(np.floor(len(features_train_ )*0.8))\n",
    "features_train = features_train_[:len_train]\n",
    "features_val = features_train_[len_train:]\n",
    "\n",
    "label_train_ = label[:len_train_]\n",
    "label_test = label[len_train_:]\n",
    "label_train = label_train_[:len_train]\n",
    "label_val = label_train_[len_train:]"
   ]
  },
  {
   "cell_type": "code",
   "execution_count": 12,
   "metadata": {},
   "outputs": [],
   "source": [
    "df_train_ = pd.concat([features_train_, label_train_], axis=1)\n",
    "df_train = pd.concat([features_train, label_train], axis=1)\n",
    "df_val = pd.concat([features_val, label_val], axis=1)\n",
    "df_test = pd.concat([features_test, label_test], axis=1)"
   ]
  },
  {
   "cell_type": "markdown",
   "metadata": {},
   "source": [
    "### Saving"
   ]
  },
  {
   "cell_type": "code",
   "execution_count": 13,
   "metadata": {},
   "outputs": [],
   "source": [
    "features_train_.to_csv(\"./data/features_train_.csv\", index=False)\n",
    "features_test.to_csv(\"./data/features_test.csv\", index=False)\n",
    "features_train.to_csv(\"./data/features_train.csv\", index=False)\n",
    "features_val.to_csv(\"./data/features_val.csv\", index=False)\n",
    "\n",
    "label_train_.to_csv(\"./data/label_train_csvl\", index=False)\n",
    "label_test.to_csv(\"./data/label_test.csv\", index=False)\n",
    "label_train.to_csv(\"./data/label_train.csv\", index=False)\n",
    "label_val.to_csv(\"./data/label_val.csv\", index=False)\n",
    "\n",
    "df_train_.to_csv(\"./data/completed_train_csvl\", index=False)\n",
    "df_test.to_csv(\"./data/completed_test.csv\", index=False)\n",
    "df_train.to_csv(\"./data/completed_train.csv\", index=False)\n",
    "df_val.to_csv(\"./data/completed_val.csv\", index=False)"
   ]
  },
  {
   "cell_type": "code",
   "execution_count": null,
   "metadata": {},
   "outputs": [],
   "source": []
  }
 ],
 "metadata": {
  "kernelspec": {
   "display_name": "Python 3",
   "language": "python",
   "name": "python3"
  },
  "language_info": {
   "codemirror_mode": {
    "name": "ipython",
    "version": 3
   },
   "file_extension": ".py",
   "mimetype": "text/x-python",
   "name": "python",
   "nbconvert_exporter": "python",
   "pygments_lexer": "ipython3",
   "version": "3.7.1"
  },
  "toc": {
   "base_numbering": 1,
   "nav_menu": {},
   "number_sections": true,
   "sideBar": true,
   "skip_h1_title": false,
   "title_cell": "Table of Contents",
   "title_sidebar": "Contents",
   "toc_cell": false,
   "toc_position": {},
   "toc_section_display": true,
   "toc_window_display": false
  }
 },
 "nbformat": 4,
 "nbformat_minor": 2
}
