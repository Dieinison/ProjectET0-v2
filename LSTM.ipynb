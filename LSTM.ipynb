{
 "cells": [
  {
   "cell_type": "markdown",
   "metadata": {},
   "source": [
    "### LSTM for Time Series Forecasting\n",
    "\n",
    "Libs required:"
   ]
  },
  {
   "cell_type": "code",
   "execution_count": 1,
   "metadata": {},
   "outputs": [
    {
     "name": "stderr",
     "output_type": "stream",
     "text": [
      "Using TensorFlow backend.\n"
     ]
    }
   ],
   "source": [
    "%matplotlib inline\n",
    "import matplotlib.pyplot as plt\n",
    "plt.style.use('ggplot')\n",
    "plt.rcParams['figure.figsize'] = (15,4)\n",
    "\n",
    "import numpy as np\n",
    "import pandas as pd\n",
    "import plotly\n",
    "import plotly.graph_objs as go\n",
    "\n",
    "from keras.preprocessing import sequence\n",
    "from keras.layers import Dense, LSTM\n",
    "from keras.models import Sequential\n",
    "from keras.optimizers import RMSprop\n",
    "from keras.metrics import mean_squared_error, mean_absolute_error\n",
    "from plotly.offline import init_notebook_mode, iplot"
   ]
  },
  {
   "cell_type": "code",
   "execution_count": 2,
   "metadata": {},
   "outputs": [
    {
     "data": {
      "text/html": [
       "        <script type=\"text/javascript\">\n",
       "        window.PlotlyConfig = {MathJaxConfig: 'local'};\n",
       "        if (window.MathJax) {MathJax.Hub.Config({SVG: {font: \"STIX-Web\"}});}\n",
       "        if (typeof require !== 'undefined') {\n",
       "        require.undef(\"plotly\");\n",
       "        requirejs.config({\n",
       "            paths: {\n",
       "                'plotly': ['https://cdn.plot.ly/plotly-latest.min']\n",
       "            }\n",
       "        });\n",
       "        require(['plotly'], function(Plotly) {\n",
       "            window._Plotly = Plotly;\n",
       "        });\n",
       "        }\n",
       "        </script>\n",
       "        "
      ]
     },
     "metadata": {},
     "output_type": "display_data"
    }
   ],
   "source": [
    "init_notebook_mode(connected=True)"
   ]
  },
  {
   "cell_type": "markdown",
   "metadata": {},
   "source": [
    "#### Reading the data numerically:"
   ]
  },
  {
   "cell_type": "code",
   "execution_count": 3,
   "metadata": {},
   "outputs": [],
   "source": [
    "#features_train_dt_quixeramobim = pd.read_csv('./data/features_train.csv')\n",
    "#et0_train_dt_quixeramobim = pd.read_csv('./data/label_train.csv')\n",
    "#features_val_dt_quixeramobim = pd.read_csv('./data/features_val.csv')\n",
    "#et0_val_dt_quixeramobim = pd.read_csv('./data/label_val.csv')\n",
    "\n",
    "# features_train_ = features_train + features_val\n",
    "#features_train__dt_quixeramobim = pd.read_csv('./data/features_train_.csv')\n",
    "# et0_train_   = et0_train + et0_val\n",
    "et0_train__dt_quixeramobim = pd.read_csv('./data/label_train_.csv')\n",
    "\n",
    "#features_test_dt_quixeramobim = pd.read_csv('./data/features_test.csv')\n",
    "et0_test_dt_quixeramobim = pd.read_csv('./data/label_test.csv')"
   ]
  },
  {
   "cell_type": "code",
   "execution_count": 4,
   "metadata": {},
   "outputs": [
    {
     "data": {
      "text/html": [
       "<div>\n",
       "<style scoped>\n",
       "    .dataframe tbody tr th:only-of-type {\n",
       "        vertical-align: middle;\n",
       "    }\n",
       "\n",
       "    .dataframe tbody tr th {\n",
       "        vertical-align: top;\n",
       "    }\n",
       "\n",
       "    .dataframe thead th {\n",
       "        text-align: right;\n",
       "    }\n",
       "</style>\n",
       "<table border=\"1\" class=\"dataframe\">\n",
       "  <thead>\n",
       "    <tr style=\"text-align: right;\">\n",
       "      <th></th>\n",
       "      <th>ETo</th>\n",
       "    </tr>\n",
       "  </thead>\n",
       "  <tbody>\n",
       "    <tr>\n",
       "      <th>0</th>\n",
       "      <td>6.954343</td>\n",
       "    </tr>\n",
       "    <tr>\n",
       "      <th>1</th>\n",
       "      <td>9.081504</td>\n",
       "    </tr>\n",
       "    <tr>\n",
       "      <th>2</th>\n",
       "      <td>9.028170</td>\n",
       "    </tr>\n",
       "    <tr>\n",
       "      <th>3</th>\n",
       "      <td>7.934186</td>\n",
       "    </tr>\n",
       "    <tr>\n",
       "      <th>4</th>\n",
       "      <td>7.704231</td>\n",
       "    </tr>\n",
       "    <tr>\n",
       "      <th>...</th>\n",
       "      <td>...</td>\n",
       "    </tr>\n",
       "    <tr>\n",
       "      <th>917</th>\n",
       "      <td>4.267232</td>\n",
       "    </tr>\n",
       "    <tr>\n",
       "      <th>918</th>\n",
       "      <td>2.235551</td>\n",
       "    </tr>\n",
       "    <tr>\n",
       "      <th>919</th>\n",
       "      <td>4.727333</td>\n",
       "    </tr>\n",
       "    <tr>\n",
       "      <th>920</th>\n",
       "      <td>5.530420</td>\n",
       "    </tr>\n",
       "    <tr>\n",
       "      <th>921</th>\n",
       "      <td>2.661931</td>\n",
       "    </tr>\n",
       "  </tbody>\n",
       "</table>\n",
       "<p>922 rows × 1 columns</p>\n",
       "</div>"
      ],
      "text/plain": [
       "          ETo\n",
       "0    6.954343\n",
       "1    9.081504\n",
       "2    9.028170\n",
       "3    7.934186\n",
       "4    7.704231\n",
       "..        ...\n",
       "917  4.267232\n",
       "918  2.235551\n",
       "919  4.727333\n",
       "920  5.530420\n",
       "921  2.661931\n",
       "\n",
       "[922 rows x 1 columns]"
      ]
     },
     "execution_count": 4,
     "metadata": {},
     "output_type": "execute_result"
    }
   ],
   "source": [
    "et0_train__dt_quixeramobim"
   ]
  },
  {
   "cell_type": "code",
   "execution_count": 6,
   "metadata": {},
   "outputs": [],
   "source": [
    "BATCH_SIZE = 32\n",
    "N_INPUT = len(et0_train__dt_quixeramobim)\n",
    "N_FEATURES = len(et0_train__dt_quixeramobim.columns)"
   ]
  },
  {
   "cell_type": "code",
   "execution_count": 9,
   "metadata": {},
   "outputs": [],
   "source": [
    "def split_sequence(sequence, n_steps):\n",
    "    X, y = list(), list()\n",
    "    for i in range(len(sequence)):\n",
    "        # find the end of this pattern\n",
    "        end_ix = i + n_steps\n",
    "        # check if we are beyond the sequence\n",
    "        if end_ix > len(sequence)-1:\n",
    "            break\n",
    "        # gather input and output parts of the pattern\n",
    "        seq_x, seq_y = sequence[i:end_ix], sequence[end_ix]\n",
    "        X.append(seq_x)\n",
    "        y.append(seq_y)\n",
    "    return np.array(X), np.array(y)"
   ]
  },
  {
   "cell_type": "code",
   "execution_count": 13,
   "metadata": {
    "scrolled": true
   },
   "outputs": [],
   "source": [
    "X, y = split_sequence(et0_test_dt_quixeramobim['ETo'].values, 5)"
   ]
  },
  {
   "cell_type": "code",
   "execution_count": 14,
   "metadata": {},
   "outputs": [],
   "source": [
    "n_features = 1\n",
    "n_steps = 5"
   ]
  },
  {
   "cell_type": "code",
   "execution_count": 15,
   "metadata": {},
   "outputs": [],
   "source": [
    "X = X.reshape((X.shape[0], X.shape[1], n_features))\n",
    "\n",
    "model = Sequential()\n",
    "model.add((LSTM(50,\n",
    "                dropout=0.2,\n",
    "                recurrent_dropout=0.2,\n",
    "                activation='relu',\n",
    "                input_shape=(n_steps, n_features))))\n",
    "model.add(Dense(1))\n",
    "\n",
    "model.compile(optimizer='adam', \n",
    "              loss='mean_absolute_error', \n",
    "              metrics=[mean_absolute_error, mean_squared_error])\n",
    "\n",
    "# Stacking more layers\n",
    "# model.add(Bidirectional(LSTM(32, \n",
    "#                              dropout=0.2, \n",
    "#                              recurrent_dropout=0.2, \n",
    "#                              return_sequences=True))) activation='relu'\n",
    "\n",
    "#else:\n",
    "#    model.add(Bidirectional(LSTM(32, activation='relu', input_shape=(N_INPUT, N_FEATURES))))\n",
    "# input_shape=(None, float_data.shape[-1]"
   ]
  },
  {
   "cell_type": "code",
   "execution_count": 16,
   "metadata": {
    "scrolled": true
   },
   "outputs": [
    {
     "name": "stdout",
     "output_type": "stream",
     "text": [
      "Epoch 1/40\n",
      "226/226 [==============================] - 1s 5ms/step - loss: 6.3196 - mean_absolute_error: 6.3196 - mean_squared_error: 45.2781\n",
      "Epoch 2/40\n",
      "226/226 [==============================] - 0s 521us/step - loss: 5.4546 - mean_absolute_error: 5.4546 - mean_squared_error: 34.8407\n",
      "Epoch 3/40\n",
      "226/226 [==============================] - 0s 518us/step - loss: 4.2798 - mean_absolute_error: 4.2798 - mean_squared_error: 23.6954\n",
      "Epoch 4/40\n",
      "226/226 [==============================] - 0s 553us/step - loss: 3.0336 - mean_absolute_error: 3.0336 - mean_squared_error: 15.6672\n",
      "Epoch 5/40\n",
      "226/226 [==============================] - 0s 506us/step - loss: 3.0390 - mean_absolute_error: 3.0390 - mean_squared_error: 16.5324\n",
      "Epoch 6/40\n",
      "226/226 [==============================] - 0s 410us/step - loss: 2.7529 - mean_absolute_error: 2.7529 - mean_squared_error: 14.6630\n",
      "Epoch 7/40\n",
      "226/226 [==============================] - 0s 317us/step - loss: 2.7964 - mean_absolute_error: 2.7964 - mean_squared_error: 14.8543\n",
      "Epoch 8/40\n",
      "226/226 [==============================] - 0s 162us/step - loss: 2.7074 - mean_absolute_error: 2.7074 - mean_squared_error: 13.9765\n",
      "Epoch 9/40\n",
      "226/226 [==============================] - 0s 128us/step - loss: 2.5109 - mean_absolute_error: 2.5109 - mean_squared_error: 12.2481\n",
      "Epoch 10/40\n",
      "226/226 [==============================] - 0s 108us/step - loss: 2.5933 - mean_absolute_error: 2.5933 - mean_squared_error: 12.8126\n",
      "Epoch 11/40\n",
      "226/226 [==============================] - 0s 118us/step - loss: 2.2870 - mean_absolute_error: 2.2870 - mean_squared_error: 10.1571\n",
      "Epoch 12/40\n",
      "226/226 [==============================] - 0s 108us/step - loss: 2.3411 - mean_absolute_error: 2.3411 - mean_squared_error: 10.9899\n",
      "Epoch 13/40\n",
      "226/226 [==============================] - 0s 123us/step - loss: 2.4139 - mean_absolute_error: 2.4139 - mean_squared_error: 11.5509\n",
      "Epoch 14/40\n",
      "226/226 [==============================] - 0s 131us/step - loss: 2.0602 - mean_absolute_error: 2.0602 - mean_squared_error: 8.4680\n",
      "Epoch 15/40\n",
      "226/226 [==============================] - 0s 133us/step - loss: 1.9742 - mean_absolute_error: 1.9742 - mean_squared_error: 7.7645\n",
      "Epoch 16/40\n",
      "226/226 [==============================] - 0s 132us/step - loss: 2.0515 - mean_absolute_error: 2.0515 - mean_squared_error: 8.3574\n",
      "Epoch 17/40\n",
      "226/226 [==============================] - 0s 130us/step - loss: 2.0129 - mean_absolute_error: 2.0129 - mean_squared_error: 7.3243\n",
      "Epoch 18/40\n",
      "226/226 [==============================] - 0s 123us/step - loss: 1.8406 - mean_absolute_error: 1.8406 - mean_squared_error: 5.6569\n",
      "Epoch 19/40\n",
      "226/226 [==============================] - 0s 117us/step - loss: 1.5884 - mean_absolute_error: 1.5884 - mean_squared_error: 4.3139\n",
      "Epoch 20/40\n",
      "226/226 [==============================] - 0s 116us/step - loss: 1.6323 - mean_absolute_error: 1.6323 - mean_squared_error: 4.9203\n",
      "Epoch 21/40\n",
      "226/226 [==============================] - 0s 127us/step - loss: 1.6052 - mean_absolute_error: 1.6052 - mean_squared_error: 4.7871\n",
      "Epoch 22/40\n",
      "226/226 [==============================] - 0s 133us/step - loss: 1.7385 - mean_absolute_error: 1.7385 - mean_squared_error: 5.2487\n",
      "Epoch 23/40\n",
      "226/226 [==============================] - 0s 117us/step - loss: 1.5754 - mean_absolute_error: 1.5754 - mean_squared_error: 4.3497\n",
      "Epoch 24/40\n",
      "226/226 [==============================] - 0s 125us/step - loss: 1.5791 - mean_absolute_error: 1.5791 - mean_squared_error: 4.4252\n",
      "Epoch 25/40\n",
      "226/226 [==============================] - 0s 112us/step - loss: 1.6039 - mean_absolute_error: 1.6039 - mean_squared_error: 4.2961\n",
      "Epoch 26/40\n",
      "226/226 [==============================] - 0s 125us/step - loss: 1.6017 - mean_absolute_error: 1.6017 - mean_squared_error: 4.4200\n",
      "Epoch 27/40\n",
      "226/226 [==============================] - 0s 118us/step - loss: 1.5860 - mean_absolute_error: 1.5860 - mean_squared_error: 4.5304\n",
      "Epoch 28/40\n",
      "226/226 [==============================] - 0s 137us/step - loss: 1.5683 - mean_absolute_error: 1.5683 - mean_squared_error: 4.2318\n",
      "Epoch 29/40\n",
      "226/226 [==============================] - 0s 132us/step - loss: 1.5734 - mean_absolute_error: 1.5734 - mean_squared_error: 4.1273\n",
      "Epoch 30/40\n",
      "226/226 [==============================] - 0s 129us/step - loss: 1.6126 - mean_absolute_error: 1.6126 - mean_squared_error: 4.4890\n",
      "Epoch 31/40\n",
      "226/226 [==============================] - 0s 134us/step - loss: 1.6503 - mean_absolute_error: 1.6503 - mean_squared_error: 5.1618\n",
      "Epoch 32/40\n",
      "226/226 [==============================] - 0s 126us/step - loss: 1.6577 - mean_absolute_error: 1.6577 - mean_squared_error: 4.7077\n",
      "Epoch 33/40\n",
      "226/226 [==============================] - 0s 124us/step - loss: 1.5758 - mean_absolute_error: 1.5758 - mean_squared_error: 4.1490\n",
      "Epoch 34/40\n",
      "226/226 [==============================] - 0s 130us/step - loss: 1.5022 - mean_absolute_error: 1.5022 - mean_squared_error: 3.9575\n",
      "Epoch 35/40\n",
      "226/226 [==============================] - 0s 131us/step - loss: 1.6556 - mean_absolute_error: 1.6556 - mean_squared_error: 5.0514\n",
      "Epoch 36/40\n",
      "226/226 [==============================] - 0s 140us/step - loss: 1.6628 - mean_absolute_error: 1.6628 - mean_squared_error: 4.7636\n",
      "Epoch 37/40\n",
      "226/226 [==============================] - 0s 145us/step - loss: 1.6716 - mean_absolute_error: 1.6716 - mean_squared_error: 5.1515\n",
      "Epoch 38/40\n",
      "226/226 [==============================] - 0s 122us/step - loss: 1.4969 - mean_absolute_error: 1.4969 - mean_squared_error: 3.7291\n",
      "Epoch 39/40\n",
      "226/226 [==============================] - 0s 130us/step - loss: 1.6403 - mean_absolute_error: 1.6403 - mean_squared_error: 4.4416\n",
      "Epoch 40/40\n",
      "226/226 [==============================] - 0s 138us/step - loss: 1.7030 - mean_absolute_error: 1.7030 - mean_squared_error: 5.2809\n"
     ]
    },
    {
     "data": {
      "text/plain": [
       "<keras.callbacks.callbacks.History at 0x7f579816ef28>"
      ]
     },
     "execution_count": 16,
     "metadata": {},
     "output_type": "execute_result"
    }
   ],
   "source": [
    "model.fit(X, y, epochs=40, verbose=1)"
   ]
  },
  {
   "cell_type": "code",
   "execution_count": 14,
   "metadata": {},
   "outputs": [],
   "source": [
    "X_val, y_val = split_sequence(data_val['et0'].values, 5)"
   ]
  },
  {
   "cell_type": "code",
   "execution_count": 15,
   "metadata": {},
   "outputs": [],
   "source": [
    "X_val = X_val.reshape((X_val.shape[0], X_val.shape[1], n_features))"
   ]
  },
  {
   "cell_type": "code",
   "execution_count": 16,
   "metadata": {
    "scrolled": true
   },
   "outputs": [
    {
     "name": "stdout",
     "output_type": "stream",
     "text": [
      "49/49 [==============================] - 0s 1ms/step\n"
     ]
    }
   ],
   "source": [
    "y_pred = model.predict(X_val, verbose=1)"
   ]
  },
  {
   "cell_type": "code",
   "execution_count": 17,
   "metadata": {},
   "outputs": [],
   "source": [
    "y_pred = np.array([val for sublist in y_pred for val in sublist])"
   ]
  },
  {
   "cell_type": "code",
   "execution_count": 18,
   "metadata": {},
   "outputs": [
    {
     "data": {
      "text/plain": [
       "<tf.Tensor: id=4287, shape=(), dtype=float32, numpy=0.01611248>"
      ]
     },
     "execution_count": 18,
     "metadata": {},
     "output_type": "execute_result"
    }
   ],
   "source": [
    "mae = mean_absolute_error(y_val, y_pred)\n",
    "mae"
   ]
  },
  {
   "cell_type": "code",
   "execution_count": 19,
   "metadata": {},
   "outputs": [],
   "source": [
    "mse = mean_squared_error(y_val, y_pred)"
   ]
  },
  {
   "cell_type": "code",
   "execution_count": 21,
   "metadata": {},
   "outputs": [
    {
     "data": {
      "image/png": "[encoded data removed]",
      "text/plain": [
       "<Figure size 864x360 with 1 Axes>"
      ]
     },
     "metadata": {},
     "output_type": "display_data"
    }
   ],
   "source": [
    "plt.figure(figsize=(12,5))  \n",
    "plt.plot(y_val, color='blue', label='ET0 true')  \n",
    "plt.plot(y_pred, color='red', label='ET0 predicted')  \n",
    "plt.title('ET0 Forecasting')  \n",
    "plt.xlabel('Date')  \n",
    "plt.ylabel('ET0')  \n",
    "plt.legend()\n",
    "#plt.savefig(\"eto.png\")\n",
    "plt.show()"
   ]
  },
  {
   "cell_type": "code",
   "execution_count": null,
   "metadata": {},
   "outputs": [],
   "source": []
  },
  {
   "cell_type": "markdown",
   "metadata": {},
   "source": [
    "There are many other things you could try, in order to improve performance on the temperature-forecasting problem:\n",
    "- Adjust the number of units in each recurrent layer in the stacked setup. The current choices are largely arbitrary and thus probably suboptimal.\n",
    "- Adjust the learning rate used by the RMSprop optimizer. Change the optimizer to Adam.\n",
    "- Try using LSTM layers instead of GRU layers (vice-versa).\n",
    "- Try using a bigger densely connected regressor on top of the recurrent layers: that is, a bigger Dense layer or even a stack of Dense layers.\n",
    "- Don’t forget to eventually run the best-performing models (in terms of validation MAE ) on the test set! Otherwise, you’ll develop architectures that are overfitting to the validation set."
   ]
  },
  {
   "cell_type": "code",
   "execution_count": 22,
   "metadata": {},
   "outputs": [],
   "source": [
    "model.save('./saved_models/lstm_50units_40epochs.h5')"
   ]
  },
  {
   "cell_type": "code",
   "execution_count": 23,
   "metadata": {},
   "outputs": [
    {
     "ename": "NameError",
     "evalue": "name 'test_gen' is not defined",
     "output_type": "error",
     "traceback": [
      "\u001b[0;31m---------------------------------------------------------------------------\u001b[0m",
      "\u001b[0;31mNameError\u001b[0m                                 Traceback (most recent call last)",
      "\u001b[0;32m<ipython-input-23-c4646233fa72>\u001b[0m in \u001b[0;36m<module>\u001b[0;34m\u001b[0m\n\u001b[0;32m----> 1\u001b[0;31m \u001b[0mmodel\u001b[0m\u001b[0;34m.\u001b[0m\u001b[0mevaluate_generator\u001b[0m\u001b[0;34m(\u001b[0m\u001b[0mtest_gen\u001b[0m\u001b[0;34m,\u001b[0m\u001b[0msteps\u001b[0m\u001b[0;34m=\u001b[0m\u001b[0mtest_steps\u001b[0m\u001b[0;34m)\u001b[0m\u001b[0;34m\u001b[0m\u001b[0;34m\u001b[0m\u001b[0m\n\u001b[0m",
      "\u001b[0;31mNameError\u001b[0m: name 'test_gen' is not defined"
     ]
    }
   ],
   "source": [
    "model.evaluate_generator(test_gen, steps=test_steps)"
   ]
  },
  {
   "cell_type": "code",
   "execution_count": 123,
   "metadata": {},
   "outputs": [
    {
     "data": {
      "text/plain": [
       "2.0430126461594997"
      ]
     },
     "execution_count": 123,
     "metadata": {},
     "output_type": "execute_result"
    }
   ],
   "source": [
    "np.sqrt(4.1739006723676413)"
   ]
  },
  {
   "cell_type": "markdown",
   "metadata": {},
   "source": [
    "* MAE  = 1.6325380717005049\n",
    "\n",
    "* RMSE = 2.0430126461594997"
   ]
  },
  {
   "cell_type": "code",
   "execution_count": null,
   "metadata": {},
   "outputs": [],
   "source": []
  }
 ],
 "metadata": {
  "kernelspec": {
   "display_name": "Python 3",
   "language": "python",
   "name": "python3"
  },
  "language_info": {
   "codemirror_mode": {
    "name": "ipython",
    "version": 3
   },
   "file_extension": ".py",
   "mimetype": "text/x-python",
   "name": "python",
   "nbconvert_exporter": "python",
   "pygments_lexer": "ipython3",
   "version": "3.6.9"
  },
  "toc": {
   "base_numbering": 1,
   "nav_menu": {},
   "number_sections": true,
   "sideBar": true,
   "skip_h1_title": false,
   "title_cell": "Table of Contents",
   "title_sidebar": "Contents",
   "toc_cell": false,
   "toc_position": {},
   "toc_section_display": true,
   "toc_window_display": false
  }
 },
 "nbformat": 4,
 "nbformat_minor": 2
}
